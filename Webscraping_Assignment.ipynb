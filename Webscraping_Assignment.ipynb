{
  "nbformat": 4,
  "nbformat_minor": 0,
  "metadata": {
    "kernelspec": {
      "display_name": "Python 3",
      "language": "python",
      "name": "python3"
    },
    "language_info": {
      "codemirror_mode": {
        "name": "ipython",
        "version": 3
      },
      "file_extension": ".py",
      "mimetype": "text/x-python",
      "name": "python",
      "nbconvert_exporter": "python",
      "pygments_lexer": "ipython3",
      "version": "3.8.3"
    },
    "colab": {
      "name": "Webscraping_Assignment.ipynb",
      "provenance": [],
      "include_colab_link": true
    }
  },
  "cells": [
    {
      "cell_type": "markdown",
      "metadata": {
        "id": "view-in-github",
        "colab_type": "text"
      },
      "source": [
        "<a href=\"https://colab.research.google.com/github/HarshalPawar88/Internship/blob/main/Webscraping_Assignment.ipynb\" target=\"_parent\"><img src=\"https://colab.research.google.com/assets/colab-badge.svg\" alt=\"Open In Colab\"/></a>"
      ]
    },
    {
      "cell_type": "code",
      "metadata": {
        "id": "t4KYaJ0IJOIi",
        "colab": {
          "base_uri": "https://localhost:8080/"
        },
        "outputId": "02baaf13-fd55-4de0-e787-9e786c1075cb"
      },
      "source": [
        "!pip install selenium\n",
        "!apt-get update # to update ubuntu to correctly run apt install\n",
        "!apt install chromium-chromedriver\n",
        "!cp /usr/lib/chromium-browser/chromedriver /usr/bin\n",
        "import sys\n",
        "sys.path.insert(0,'/usr/lib/chromium-browser/chromedriver')`\n",
        "`"
      ],
      "execution_count": null,
      "outputs": [
        {
          "output_type": "stream",
          "name": "stdout",
          "text": [
            "Requirement already satisfied: selenium in /usr/local/lib/python3.7/dist-packages (3.141.0)\n",
            "Requirement already satisfied: urllib3 in /usr/local/lib/python3.7/dist-packages (from selenium) (1.24.3)\n",
            "Get:1 http://security.ubuntu.com/ubuntu bionic-security InRelease [88.7 kB]\n",
            "Ign:2 https://developer.download.nvidia.com/compute/cuda/repos/ubuntu1804/x86_64  InRelease\n",
            "Hit:3 https://cloud.r-project.org/bin/linux/ubuntu bionic-cran40/ InRelease\n",
            "Hit:4 http://ppa.launchpad.net/c2d4u.team/c2d4u4.0+/ubuntu bionic InRelease\n",
            "Hit:5 http://archive.ubuntu.com/ubuntu bionic InRelease\n",
            "Ign:6 https://developer.download.nvidia.com/compute/machine-learning/repos/ubuntu1804/x86_64  InRelease\n",
            "Hit:7 https://developer.download.nvidia.com/compute/cuda/repos/ubuntu1804/x86_64  Release\n",
            "Hit:8 https://developer.download.nvidia.com/compute/machine-learning/repos/ubuntu1804/x86_64  Release\n",
            "Get:9 http://archive.ubuntu.com/ubuntu bionic-updates InRelease [88.7 kB]\n",
            "Hit:10 http://ppa.launchpad.net/cran/libgit2/ubuntu bionic InRelease\n",
            "Get:11 http://security.ubuntu.com/ubuntu bionic-security/universe amd64 Packages [1,428 kB]\n",
            "Hit:12 http://ppa.launchpad.net/deadsnakes/ppa/ubuntu bionic InRelease\n",
            "Get:13 http://security.ubuntu.com/ubuntu bionic-security/main amd64 Packages [2,335 kB]\n",
            "Get:14 http://archive.ubuntu.com/ubuntu bionic-backports InRelease [74.6 kB]\n",
            "Hit:15 http://ppa.launchpad.net/graphics-drivers/ppa/ubuntu bionic InRelease\n",
            "Get:18 http://archive.ubuntu.com/ubuntu bionic-updates/restricted amd64 Packages [627 kB]\n",
            "Get:19 http://archive.ubuntu.com/ubuntu bionic-updates/main amd64 Packages [2,785 kB]\n",
            "Fetched 7,426 kB in 4s (1,984 kB/s)\n",
            "Reading package lists... Done\n",
            "Reading package lists... Done\n",
            "Building dependency tree       \n",
            "Reading state information... Done\n",
            "chromium-chromedriver is already the newest version (93.0.4577.63-0ubuntu0.18.04.1).\n",
            "0 upgraded, 0 newly installed, 0 to remove and 79 not upgraded.\n",
            "cp: '/usr/lib/chromium-browser/chromedriver' and '/usr/bin/chromedriver' are the same file\n"
          ]
        }
      ]
    },
    {
      "cell_type": "code",
      "metadata": {
        "id": "-i4yf48PID6o"
      },
      "source": [
        "#importing all the required libraries\n",
        "import selenium\n",
        "from selenium import webdriver\n",
        "import time\n",
        "import requests\n",
        "import json\n",
        "from bs4 import BeautifulSoup\n",
        "import os\n",
        "from PIL import Image\n",
        "import io\n",
        "import hashlib\n",
        "import pandas as pd\n",
        "from selenium.common.exceptions import StaleElementReferenceException, NoSuchElementException,ElementNotInteractableException,InvalidArgumentException,InvalidCookieDomainException"
      ],
      "execution_count": null,
      "outputs": []
    },
    {
      "cell_type": "code",
      "metadata": {
        "colab": {
          "base_uri": "https://localhost:8080/"
        },
        "id": "Y47h_OvlKZrb",
        "outputId": "e5d1c370-c181-4184-a773-b33949bb7ea0"
      },
      "source": [
        "from google.colab import drive\n",
        "drive.mount('/content/drive')"
      ],
      "execution_count": null,
      "outputs": [
        {
          "output_type": "stream",
          "name": "stdout",
          "text": [
            "Drive already mounted at /content/drive; to attempt to forcibly remount, call drive.mount(\"/content/drive\", force_remount=True).\n"
          ]
        }
      ]
    },
    {
      "cell_type": "markdown",
      "metadata": {
        "id": "Q9DXxKD0ID6u"
      },
      "source": [
        "### 1. Write a python program which searches all the product under a particular product vertical from www.amazon.in. The product verticals to be searched will be taken as input from user. For e.g. If user input is ‘guitar’. Then search for guitars."
      ]
    },
    {
      "cell_type": "code",
      "metadata": {
        "colab": {
          "base_uri": "https://localhost:8080/"
        },
        "id": "pm0nDz1HID6y",
        "outputId": "772ee4c7-414b-4f28-b1b1-f20a890db62c"
      },
      "source": [
        "#connecting to the webdriver\n",
        "from selenium import webdriver\n",
        "chrome_options = webdriver.ChromeOptions()\n",
        "chrome_options.add_argument('--headless')\n",
        "chrome_options.add_argument('--no-sandbox')\n",
        "chrome_options.add_argument('--disable-dev-shm-usage')\n",
        "driver = webdriver.Chrome('chromedriver',chrome_options=chrome_options)"
      ],
      "execution_count": null,
      "outputs": [
        {
          "output_type": "stream",
          "name": "stderr",
          "text": [
            "/usr/local/lib/python3.7/dist-packages/ipykernel_launcher.py:7: DeprecationWarning: use options instead of chrome_options\n",
            "  import sys\n"
          ]
        }
      ]
    },
    {
      "cell_type": "code",
      "metadata": {
        "id": "xTtZlf8IID6z"
      },
      "source": [
        "#specifying the url of the webpage to be scraped\n",
        "url=\"https://www.amazon.in/\""
      ],
      "execution_count": null,
      "outputs": []
    },
    {
      "cell_type": "code",
      "metadata": {
        "id": "RdXen8RXID60"
      },
      "source": [
        "#opening the webpage through our driver\n",
        "driver.get(url)"
      ],
      "execution_count": null,
      "outputs": []
    },
    {
      "cell_type": "code",
      "metadata": {
        "colab": {
          "base_uri": "https://localhost:8080/"
        },
        "id": "tPha8tBGID61",
        "outputId": "a15e33d1-53fa-40b9-ee01-02019dc177cc"
      },
      "source": [
        "# Taking input from user \n",
        "search_string = input(\"Input the string you want to search for:\")\n",
        "\n",
        "#generate a url from search string\n",
        "url= driver.get(\"https://www.amazon.in/s?k=\" + search_string + \"&start=\")"
      ],
      "execution_count": null,
      "outputs": [
        {
          "name": "stdout",
          "output_type": "stream",
          "text": [
            "Input the string you want to search for:Laptop\n"
          ]
        }
      ]
    },
    {
      "cell_type": "markdown",
      "metadata": {
        "id": "wPP4R_F-ID63"
      },
      "source": [
        "### 2. In the above question, now scrape the following details of each product listed in first 3 pages of your search results and save it in a dataframe and csv. In case if any product vertical has less than 3 pages in search results then scrape all the products available under that product vertical. Details to be scraped are: \"Brand Name\", \"Name of the Product\", \"Rating\", \"No. of Ratings\", \"Price\", \"Return/Exchange\", \"Expected Delivery\", \"Availability\", \"Other Details\" and “Product URL”. In case, if any of the details are missing for any of the product then replace it by “-“."
      ]
    },
    {
      "cell_type": "code",
      "metadata": {
        "id": "OEklkMc8ID64"
      },
      "source": [
        "#getting the list of url of televisions\n",
        "Laptop_URL=[]\n",
        "\n",
        "for r in range(0,3):\n",
        "    laptop=driver.find_elements_by_xpath(\"//h2[@class='a-size-mini a-spacing-none a-color-base s-line-clamp-2']\")\n",
        "    for i in laptop:\n",
        "        laptop_2=i.find_element_by_tag_name(\"a\")\n",
        "        Laptop_URL.append(laptop_2.get_attribute('href'))\n",
        "try:        \n",
        "    driver.find_element_by_xpath('//*[@id=\"search\"]/div[1]/div[2]/div/span[3]/div[2]/div[27]/span/div/div/ul/li[3]/a').click()\n",
        "except NoSuchElementException:\n",
        "  pass"
      ],
      "execution_count": null,
      "outputs": []
    },
    {
      "cell_type": "code",
      "metadata": {
        "id": "dksPxgeUID66"
      },
      "source": [
        "Laptop_URL"
      ],
      "execution_count": null,
      "outputs": []
    },
    {
      "cell_type": "code",
      "metadata": {
        "colab": {
          "base_uri": "https://localhost:8080/"
        },
        "id": "4B0LPJl-ID67",
        "outputId": "f26cbc0a-d7f5-4f06-aec9-176a809d6fe7"
      },
      "source": [
        "#checking the length of tv url\n",
        "len(Laptop_URL)"
      ],
      "execution_count": null,
      "outputs": [
        {
          "output_type": "execute_result",
          "data": {
            "text/plain": [
              "66"
            ]
          },
          "metadata": {},
          "execution_count": 89
        }
      ]
    },
    {
      "cell_type": "code",
      "metadata": {
        "id": "ueQKPTICID69"
      },
      "source": [
        "#going to the url of first television through our driver\n",
        "driver.get(Laptop_URL[0])"
      ],
      "execution_count": null,
      "outputs": []
    },
    {
      "cell_type": "code",
      "metadata": {
        "id": "egNHgBF7ID6-"
      },
      "source": [
        "#creating the empty lists\n",
        "Brand_name=[]\n",
        "Name_of_product=[]\n",
        "Rating=[]\n",
        "No_of_ratings=[]\n",
        "Price=[]\n",
        "Return_exchange=[]\n",
        "Expected_delivery=[]\n",
        "Availibility=[]\n",
        "Other_details=[]"
      ],
      "execution_count": null,
      "outputs": []
    },
    {
      "cell_type": "code",
      "metadata": {
        "colab": {
          "base_uri": "https://localhost:8080/"
        },
        "id": "R6PXp0dVID6_",
        "outputId": "28af8d34-6122-4074-bda8-d2fd1b35381e"
      },
      "source": [
        "#running a loop to extract all the required information from Laptop_Url\n",
        "\n",
        "from tqdm import tqdm\n",
        "for i in tqdm(Laptop_URL):\n",
        "    driver.get(i)\n",
        "    try:\n",
        "        brand=driver.find_element_by_xpath('//*[@id=\"bylineInfo\"]').text\n",
        "        Brand_name.append(brand)\n",
        "    except NoSuchElementException:\n",
        "        Brand_name.append('-')\n",
        "        \n",
        "    try:\n",
        "        product=driver.find_element_by_xpath('//*[@id=\"productTitle\"]').text\n",
        "        Name_of_product.append(product)\n",
        "    except NoSuchElementException:\n",
        "        Name_of_product.append('-')\n",
        "    \n",
        "    try:\n",
        "        rating_=driver.find_element_by_xpath(\"//span[@id='acrCustomerReviewText']\").click()\n",
        "        rating=driver.find_element_by_xpath(\"//span[@class='a-size-medium a-color-base']\").text\n",
        "        Rating.append(rating)\n",
        "    except NoSuchElementException as e:\n",
        "        Rating.append('-')\n",
        "        \n",
        "    try:\n",
        "        ratings=driver.find_element_by_xpath('//*[@id=\"acrCustomerReviewText\"]').text\n",
        "        No_of_ratings.append(ratings)\n",
        "    except NoSuchElementException:\n",
        "        No_of_ratings.append('-')\n",
        "        \n",
        "    try:\n",
        "        price=driver.find_element_by_xpath('//*[@id=\"priceblock_ourprice\"]').text\n",
        "        Price.append(price)\n",
        "    except NoSuchElementException:\n",
        "        Price.append('-')\n",
        "        \n",
        "    try:\n",
        "        exchange=driver.find_element_by_xpath('//*[@id=\"icon-farm-container\"]/div/div[1]/span/div[2]/a').text\n",
        "        Return_exchange.append(exchange)\n",
        "    except NoSuchElementException:\n",
        "        Return_exchange.append('-')\n",
        "        \n",
        "    try:\n",
        "        delivery=driver.find_element_by_xpath('//*[@id=\"ddmDeliveryMessage\"]/b').text\n",
        "        Expected_delivery.append(delivery)\n",
        "    except NoSuchElementException:\n",
        "        Expected_delivery.append('-')\n",
        "        \n",
        "    try:\n",
        "        availibility=driver.find_element_by_xpath('//*[@id=\"availability\"]/span').text\n",
        "        Availibility.append(availibility)\n",
        "    except NoSuchElementException:\n",
        "        Availibility.append('-')\n",
        "        \n",
        "    try:\n",
        "        details=driver.find_element_by_xpath('//*[@id=\"feature-bullets\"]/ul').text.replace(\"\\n\",\" \")\n",
        "        Other_details.append(details)\n",
        "    except NoSuchElementException:\n",
        "        Other_details.append('-')\n",
        "        \n",
        "    time.sleep(3)"
      ],
      "execution_count": null,
      "outputs": [
        {
          "output_type": "stream",
          "name": "stderr",
          "text": [
            "100%|██████████| 66/66 [07:28<00:00,  6.80s/it]\n"
          ]
        }
      ]
    },
    {
      "cell_type": "code",
      "metadata": {
        "id": "3n1-AHmkID7A"
      },
      "source": [
        "Brand_name"
      ],
      "execution_count": null,
      "outputs": []
    },
    {
      "cell_type": "code",
      "metadata": {
        "id": "kmxyN3USID7B"
      },
      "source": [
        "Name_of_product"
      ],
      "execution_count": null,
      "outputs": []
    },
    {
      "cell_type": "code",
      "metadata": {
        "id": "Qj8IIpViID7C"
      },
      "source": [
        "Rating"
      ],
      "execution_count": null,
      "outputs": []
    },
    {
      "cell_type": "code",
      "metadata": {
        "id": "7HdSaYwIID7D"
      },
      "source": [
        "No_of_ratings"
      ],
      "execution_count": null,
      "outputs": []
    },
    {
      "cell_type": "code",
      "metadata": {
        "id": "R_oxYxOkID7E"
      },
      "source": [
        "Price"
      ],
      "execution_count": null,
      "outputs": []
    },
    {
      "cell_type": "code",
      "metadata": {
        "id": "H8Mqm7i5ID7F"
      },
      "source": [
        "Return_exchange"
      ],
      "execution_count": null,
      "outputs": []
    },
    {
      "cell_type": "code",
      "metadata": {
        "id": "YOTFlp8JID7F"
      },
      "source": [
        "Expected_delivery"
      ],
      "execution_count": null,
      "outputs": []
    },
    {
      "cell_type": "code",
      "metadata": {
        "id": "NoeUOL0uID7G"
      },
      "source": [
        "Availibility"
      ],
      "execution_count": null,
      "outputs": []
    },
    {
      "cell_type": "code",
      "metadata": {
        "id": "DyPLLKWxID7H"
      },
      "source": [
        "Other_details"
      ],
      "execution_count": null,
      "outputs": []
    },
    {
      "cell_type": "code",
      "metadata": {
        "colab": {
          "base_uri": "https://localhost:8080/"
        },
        "id": "YvO52iEfID7H",
        "outputId": "2e6692d7-9b6b-492e-8632-fbd0538a6629"
      },
      "source": [
        "#printing length\n",
        "print(len(Brand_name),len(Name_of_product),len(Rating),len(No_of_ratings),len(Price),len(Return_exchange),len(Expected_delivery),len(Availibility),len(Other_details),len(Laptop_URL))"
      ],
      "execution_count": null,
      "outputs": [
        {
          "output_type": "stream",
          "name": "stdout",
          "text": [
            "66 66 66 66 66 66 66 66 66 66\n"
          ]
        }
      ]
    },
    {
      "cell_type": "code",
      "metadata": {
        "id": "uAQr5w-CID7I"
      },
      "source": [
        "#creating a dataframe\n",
        "\n",
        "Laptops=pd.DataFrame({})\n",
        "Laptops['Brand_name']=Brand_name\n",
        "Laptops['Name_of_product']=Name_of_product\n",
        "Laptops['Rating']=Rating\n",
        "Laptops['No_of_ratings']=No_of_ratings\n",
        "Laptops['Price']=Price\n",
        "Laptops['Return_exchange']=Return_exchange\n",
        "Laptops['Expected_delivery']=Expected_delivery\n",
        "Laptops['Availibility']=Availibility\n",
        "Laptops['Other_details']=Other_details\n",
        "Laptops['Product_URL']=Laptop_URL"
      ],
      "execution_count": null,
      "outputs": []
    },
    {
      "cell_type": "code",
      "metadata": {
        "colab": {
          "base_uri": "https://localhost:8080/",
          "height": 805
        },
        "id": "Lu-HF2WwID7J",
        "outputId": "3804a5b9-e43f-4064-860d-a7768330609a"
      },
      "source": [
        "Laptops"
      ],
      "execution_count": null,
      "outputs": [
        {
          "output_type": "execute_result",
          "data": {
            "text/html": [
              "<div>\n",
              "<style scoped>\n",
              "    .dataframe tbody tr th:only-of-type {\n",
              "        vertical-align: middle;\n",
              "    }\n",
              "\n",
              "    .dataframe tbody tr th {\n",
              "        vertical-align: top;\n",
              "    }\n",
              "\n",
              "    .dataframe thead th {\n",
              "        text-align: right;\n",
              "    }\n",
              "</style>\n",
              "<table border=\"1\" class=\"dataframe\">\n",
              "  <thead>\n",
              "    <tr style=\"text-align: right;\">\n",
              "      <th></th>\n",
              "      <th>Brand_name</th>\n",
              "      <th>Name_of_product</th>\n",
              "      <th>Rating</th>\n",
              "      <th>No_of_ratings</th>\n",
              "      <th>Price</th>\n",
              "      <th>Return_exchange</th>\n",
              "      <th>Expected_delivery</th>\n",
              "      <th>Availibility</th>\n",
              "      <th>Other_details</th>\n",
              "      <th>Product_URL</th>\n",
              "    </tr>\n",
              "  </thead>\n",
              "  <tbody>\n",
              "    <tr>\n",
              "      <th>0</th>\n",
              "      <td>Visit the HP Store</td>\n",
              "      <td>HP Pavilion 14 11th Gen Intel Core i5 14-inch ...</td>\n",
              "      <td>4.4 out of 5</td>\n",
              "      <td>1,032 ratings</td>\n",
              "      <td>₹62,990.00</td>\n",
              "      <td>7 Days Replacement</td>\n",
              "      <td>Tuesday, Sep 28</td>\n",
              "      <td>In stock.</td>\n",
              "      <td>Processor: 11th Gen Intel Core i5-1135G7 (up t...</td>\n",
              "      <td>https://www.amazon.in/gp/slredirect/picassoRed...</td>\n",
              "    </tr>\n",
              "    <tr>\n",
              "      <th>1</th>\n",
              "      <td>Visit the HP Store</td>\n",
              "      <td>HP Chromebook 14-inch (35.56 cms) Thin &amp; Light...</td>\n",
              "      <td>3.8 out of 5</td>\n",
              "      <td>774 ratings</td>\n",
              "      <td>₹27,990.00</td>\n",
              "      <td>-</td>\n",
              "      <td>Tuesday, Sep 28</td>\n",
              "      <td>In stock.</td>\n",
              "      <td>GOOGLE ASSISTANT: Voice-Enabled Google Assista...</td>\n",
              "      <td>https://www.amazon.in/gp/slredirect/picassoRed...</td>\n",
              "    </tr>\n",
              "    <tr>\n",
              "      <th>2</th>\n",
              "      <td>Visit the Acer Store</td>\n",
              "      <td>Acer Aspire 3 AMD Athlon Silver 3050U Dual-cor...</td>\n",
              "      <td>3.5 out of 5</td>\n",
              "      <td>4 ratings</td>\n",
              "      <td>₹32,500.00</td>\n",
              "      <td>7 Days Replacement</td>\n",
              "      <td>Wednesday, Sep 29</td>\n",
              "      <td>In stock.</td>\n",
              "      <td>Laptops Processor : AMD Athlon Silver 3050U du...</td>\n",
              "      <td>https://www.amazon.in/Acer-Aspire-Athlon-Dual-...</td>\n",
              "    </tr>\n",
              "    <tr>\n",
              "      <th>3</th>\n",
              "      <td>Visit the Dell Store</td>\n",
              "      <td>Dell Inspiron 3502 15.6\" (39.62 cms) HD Displa...</td>\n",
              "      <td>4.2 out of 5</td>\n",
              "      <td>225 ratings</td>\n",
              "      <td>₹40,126.00</td>\n",
              "      <td>7 Days Replacement</td>\n",
              "      <td>Tuesday, Sep 28</td>\n",
              "      <td>In stock.</td>\n",
              "      <td>Free upgrade to Windows 11 when available. Dis...</td>\n",
              "      <td>https://www.amazon.in/Dell-Inspiron-Integrated...</td>\n",
              "    </tr>\n",
              "    <tr>\n",
              "      <th>4</th>\n",
              "      <td>Visit the HP Store</td>\n",
              "      <td>HP Chromebook 14-inch (35.56 cms) Thin &amp; Light...</td>\n",
              "      <td>3.8 out of 5</td>\n",
              "      <td>774 ratings</td>\n",
              "      <td>₹27,990.00</td>\n",
              "      <td>-</td>\n",
              "      <td>Tuesday, Sep 28</td>\n",
              "      <td>In stock.</td>\n",
              "      <td>GOOGLE ASSISTANT: Voice-Enabled Google Assista...</td>\n",
              "      <td>https://www.amazon.in/HP-Chromebook-14a-na0003...</td>\n",
              "    </tr>\n",
              "    <tr>\n",
              "      <th>...</th>\n",
              "      <td>...</td>\n",
              "      <td>...</td>\n",
              "      <td>...</td>\n",
              "      <td>...</td>\n",
              "      <td>...</td>\n",
              "      <td>...</td>\n",
              "      <td>...</td>\n",
              "      <td>...</td>\n",
              "      <td>...</td>\n",
              "      <td>...</td>\n",
              "    </tr>\n",
              "    <tr>\n",
              "      <th>61</th>\n",
              "      <td>Visit the HP Store</td>\n",
              "      <td>HP 15 11th Gen Intel Core i3 Processor 15.6 in...</td>\n",
              "      <td>4.2 out of 5</td>\n",
              "      <td>1,023 ratings</td>\n",
              "      <td>₹46,999.00</td>\n",
              "      <td>7 Days Replacement</td>\n",
              "      <td>Tuesday, Sep 28</td>\n",
              "      <td>In stock.</td>\n",
              "      <td>Free upgrade to Windows 11 when available* Dis...</td>\n",
              "      <td>https://www.amazon.in/HP-Processor-39-62cms-In...</td>\n",
              "    </tr>\n",
              "    <tr>\n",
              "      <th>62</th>\n",
              "      <td>Visit the HP Store</td>\n",
              "      <td>HP 15 (2021) Thin &amp; Light 11th Gen Core i3 Lap...</td>\n",
              "      <td>3.9 out of 5</td>\n",
              "      <td>1,120 ratings</td>\n",
              "      <td>₹41,990.00</td>\n",
              "      <td>7 Days Replacement</td>\n",
              "      <td>Tuesday, Sep 28</td>\n",
              "      <td>In stock.</td>\n",
              "      <td>Processor: 11th Gen Intel Core i3-1115G4 (up t...</td>\n",
              "      <td>https://www.amazon.in/HP-Laptop-15-6-inch-Wind...</td>\n",
              "    </tr>\n",
              "    <tr>\n",
              "      <th>63</th>\n",
              "      <td>Visit the ASUS Store</td>\n",
              "      <td>ASUS TUF Gaming F17 (2021), 17.3-inch (43.94 c...</td>\n",
              "      <td>4.2 out of 5</td>\n",
              "      <td>3 ratings</td>\n",
              "      <td>₹1,13,990.00</td>\n",
              "      <td>7 Days Replacement</td>\n",
              "      <td>Tuesday, Sep 28</td>\n",
              "      <td>In stock.</td>\n",
              "      <td>Free upgrade to Windows 11 when available. Dis...</td>\n",
              "      <td>https://www.amazon.in/ASUS-17-3-inch-i7-11800H...</td>\n",
              "    </tr>\n",
              "    <tr>\n",
              "      <th>64</th>\n",
              "      <td>Visit the Lenovo Store</td>\n",
              "      <td>Lenovo IdeaPad Slim 3 Intel Core i5 10th Gen 1...</td>\n",
              "      <td>3.8 out of 5</td>\n",
              "      <td>53 ratings</td>\n",
              "      <td>₹64,090.00</td>\n",
              "      <td>7 Days Replacement</td>\n",
              "      <td>Thursday, Oct 7</td>\n",
              "      <td>Only 1 left in stock.</td>\n",
              "      <td>Processor: Intel Core i5 10th Generation (i5-1...</td>\n",
              "      <td>https://www.amazon.in/gp/slredirect/picassoRed...</td>\n",
              "    </tr>\n",
              "    <tr>\n",
              "      <th>65</th>\n",
              "      <td>Brand: MI</td>\n",
              "      <td>Mi Notebook Ultra 3K Resolution Display Intel ...</td>\n",
              "      <td>4.2 out of 5</td>\n",
              "      <td>111 ratings</td>\n",
              "      <td>₹76,999.00</td>\n",
              "      <td>7 Days Replacement</td>\n",
              "      <td>Tuesday, Sep 28</td>\n",
              "      <td>In stock.</td>\n",
              "      <td>Processor: 11th Gen Intel Tiger Lake Core i7-1...</td>\n",
              "      <td>https://www.amazon.in/gp/slredirect/picassoRed...</td>\n",
              "    </tr>\n",
              "  </tbody>\n",
              "</table>\n",
              "<p>66 rows × 10 columns</p>\n",
              "</div>"
            ],
            "text/plain": [
              "                Brand_name  ...                                        Product_URL\n",
              "0       Visit the HP Store  ...  https://www.amazon.in/gp/slredirect/picassoRed...\n",
              "1       Visit the HP Store  ...  https://www.amazon.in/gp/slredirect/picassoRed...\n",
              "2     Visit the Acer Store  ...  https://www.amazon.in/Acer-Aspire-Athlon-Dual-...\n",
              "3     Visit the Dell Store  ...  https://www.amazon.in/Dell-Inspiron-Integrated...\n",
              "4       Visit the HP Store  ...  https://www.amazon.in/HP-Chromebook-14a-na0003...\n",
              "..                     ...  ...                                                ...\n",
              "61      Visit the HP Store  ...  https://www.amazon.in/HP-Processor-39-62cms-In...\n",
              "62      Visit the HP Store  ...  https://www.amazon.in/HP-Laptop-15-6-inch-Wind...\n",
              "63    Visit the ASUS Store  ...  https://www.amazon.in/ASUS-17-3-inch-i7-11800H...\n",
              "64  Visit the Lenovo Store  ...  https://www.amazon.in/gp/slredirect/picassoRed...\n",
              "65               Brand: MI  ...  https://www.amazon.in/gp/slredirect/picassoRed...\n",
              "\n",
              "[66 rows x 10 columns]"
            ]
          },
          "metadata": {},
          "execution_count": 105
        }
      ]
    },
    {
      "cell_type": "code",
      "metadata": {
        "id": "OVXS1jU1ID7J"
      },
      "source": [
        "#converting into csv format\n",
        "Laptops.to_csv(\"Laptops.csv\")"
      ],
      "execution_count": null,
      "outputs": []
    },
    {
      "cell_type": "code",
      "metadata": {
        "id": "DR3poZt4ID7J"
      },
      "source": [
        "#closing the driver\n",
        "driver.close()"
      ],
      "execution_count": null,
      "outputs": []
    },
    {
      "cell_type": "markdown",
      "metadata": {
        "id": "BVoZ69naID7K"
      },
      "source": [
        "### 3. Write a python program to access the search bar and search button on images.google.com and scrape 100 images each for keywords ‘fruits’, ‘cars’ and ‘Machine Learning’."
      ]
    },
    {
      "cell_type": "code",
      "metadata": {
        "colab": {
          "base_uri": "https://localhost:8080/"
        },
        "id": "WXzRS8wkkvZT",
        "outputId": "0342ad71-680c-4a09-ed30-0d3d48ca66d0"
      },
      "source": [
        "\n",
        "chrome_options = webdriver.ChromeOptions()\n",
        "chrome_options.add_argument('--headless')\n",
        "chrome_options.add_argument('--no-sandbox')\n",
        "chrome_options.add_argument('--disable-dev-shm-usage')\n",
        "webd= webdriver.Chrome('chromedriver',chrome_options=chrome_options)\n",
        "#path\n",
        "def get_urls(query, max_links_to_fetch:100, webd:webd, delays:int=1):\n",
        "    def END(webd):\n",
        "        webd.execute_script(\"window.scrollTo(0, document.body.scrollHeight);\")\n",
        "        time.sleep(delays)    \n",
        "    # load the page\n",
        "    webd.get(\"https://www.google.com/search?safe=off&site=&tbm=isch&source=hp&q={q}&oq={q}&gs_l=img\".format(q=query))\n",
        "\n",
        "    image_urls = set()\n",
        "    image_count = 0\n",
        "    results_start = 0\n",
        "    while image_count < max_links_to_fetch:\n",
        "        END(webd)\n",
        "\n",
        "        # get all image thumbnail results\n",
        "        thumbnail_results = webd.find_elements_by_css_selector(\"img.Q4LuWd\")\n",
        "        number_results = len(thumbnail_results)\n",
        "        \n",
        "        print(f\"Found: {number_results} search results. Extracting links from {results_start}:{number_results}\")\n",
        "        \n",
        "        for img in thumbnail_results[results_start:number_results]:\n",
        "            # try to click every thumbnail such that we can get the real image behind it\n",
        "            try:\n",
        "                img.click()\n",
        "                time.sleep(delays)\n",
        "            except Exception:\n",
        "                continue\n",
        "\n",
        "            # extract image urls    \n",
        "            actual_images = webd.find_elements_by_css_selector('img.n3VNCb')\n",
        "            for actual_image in actual_images:\n",
        "                if actual_image.get_attribute('src') and 'http' in actual_image.get_attribute('src'):\n",
        "                    image_urls.add(actual_image.get_attribute('src'))\n",
        "\n",
        "            image_count = len(image_urls)\n",
        "\n",
        "            if len(image_urls) >= max_links_to_fetch:\n",
        "                print(f\"Found: {len(image_urls)} image links, done!\")\n",
        "                break\n",
        "        else:\n",
        "            print(\"Found:\", len(image_urls), \"image links, looking for more ...\")\n",
        "            time.sleep(30)\n",
        "            return\n",
        "            load_more_button = webd.find_element_by_css_selector(\".mye4qd\")\n",
        "            if load_more_button:\n",
        "                webd.execute_script(\"document.querySelector('.mye4qd').click();\")\n",
        "\n",
        "        # move the result startpoint further down\n",
        "        results_start = len(thumbnail_results)\n",
        "\n",
        "    return image_urls\n"
      ],
      "execution_count": null,
      "outputs": [
        {
          "output_type": "stream",
          "name": "stderr",
          "text": [
            "/usr/local/lib/python3.7/dist-packages/ipykernel_launcher.py:6: DeprecationWarning: use options instead of chrome_options\n",
            "  \n"
          ]
        }
      ]
    },
    {
      "cell_type": "code",
      "metadata": {
        "colab": {
          "base_uri": "https://localhost:8080/"
        },
        "id": "7oLdSNEBID7K",
        "outputId": "e5fc8584-eb23-4ced-bbb7-9ddf3af23fb5"
      },
      "source": [
        "def persist_image(folder_path:str,file_name:str,url:str):\n",
        "    try:\n",
        "        image_content = requests.get(url).content\n",
        "\n",
        "    except Exception as e:\n",
        "        print(f\"ERROR - Could not download {url} - {e}\")\n",
        "\n",
        "    try:\n",
        "        image_file = io.BytesIO(image_content)\n",
        "        image = Image.open(image_file).convert('RGB')\n",
        "        folder_path = os.path.join(folder_path,file_name)\n",
        "        if os.path.exists(folder_path):\n",
        "            file_path = os.path.join(folder_path,hashlib.sha1(image_content).hexdigest()[:10] + '.jpg')\n",
        "        else:\n",
        "            os.mkdir(folder_path)\n",
        "            file_path = os.path.join(folder_path,hashlib.sha1(image_content).hexdigest()[:10] + '.jpg')\n",
        "        with open(file_path, 'wb') as f:\n",
        "            image.save(f, \"JPEG\", quality=85)\n",
        "        print(f\"SUCCESS - saved {url} - as {file_path}\")\n",
        "    except Exception as e:\n",
        "        print(f\"ERROR - Could not save {url} - {e}\")\n",
        "\n",
        "if __name__ == '__main__':\n",
        "    #wd = webdriver.Chrome(executable_path=driver)\n",
        "    queries = [\"fruits\",\"machine learning\",\"cars\"]  #set of querries\n",
        "    for query in queries:\n",
        "        webd.get('https://google.com')\n",
        "        search_box = webd.find_element_by_css_selector('input.gLFyf')\n",
        "        search_box.send_keys(query)\n",
        "        links = get_urls(query,100,webd)\n",
        "        #give images path\n",
        "        images_path = r'/content/drive/MyDrive/Images'\n",
        "        for i in links:\n",
        "            persist_image(images_path,query,i)\n",
        "    webd.quit()"
      ],
      "execution_count": null,
      "outputs": [
        {
          "metadata": {
            "tags": null
          },
          "name": "stdout",
          "output_type": "stream",
          "text": [
            "Found: 100 search results. Extracting links from 0:100\n",
            "Found: 100 image links, done!\n",
            "SUCCESS - saved https://www.treehugger.com/thmb/G0py-g_79QMjUDpE3SqnuD1ZWYo=/1000x562/smart/filters:no_upscale()/__opt__aboutcom__coeus__resources__content_migration__mnn__images__2017__01__Collection-Exotic-Fruits-Wooden-Table-808a6d28dd704338aa8012c5f335a7e7.jpg - as /content/drive/MyDrive/Images/fruits/4994c5442b.jpg\n",
            "SUCCESS - saved https://encrypted-tbn0.gstatic.com/images?q=tbn:ANd9GcTDK35D457WbhLPKY1ahl43QAy4JGf4s4BKzQ&usqp=CAU - as /content/drive/MyDrive/Images/fruits/ead94c641d.jpg\n",
            "SUCCESS - saved https://static.scientificamerican.com/sciam/cache/file/528E0B49-CDD0-42D4-B5BAA3EBAEC01AE6_source.jpg - as /content/drive/MyDrive/Images/fruits/8e847422fa.jpg\n",
            "SUCCESS - saved https://thumbor.thedailymeal.com/Bm3fFYuigHsPzID1JpnxP2uk5ks=//https://www.thedailymeal.com/sites/default/files/story/2018/iStock-636877252.jpg - as /content/drive/MyDrive/Images/fruits/771362ab91.jpg\n",
            "SUCCESS - saved https://www.healthshots.com/wp-content/uploads/2020/11/fruits-for-weight-loss-370x207.jpg - as /content/drive/MyDrive/Images/fruits/37c89c5f39.jpg\n",
            "SUCCESS - saved https://encrypted-tbn0.gstatic.com/images?q=tbn:ANd9GcSKfQuLBzNbAw4yd99gVQ1_Rc3kLUC8vM7ZNg&usqp=CAU - as /content/drive/MyDrive/Images/fruits/ba1e998c12.jpg\n",
            "SUCCESS - saved https://cms.accuweather.com/wp-content/uploads/2020/02/plush-design-studio-VgCDU8K5l_E-unsplash.jpg?w=632 - as /content/drive/MyDrive/Images/fruits/b45f2021b2.jpg\n",
            "SUCCESS - saved https://post.medicalnewstoday.com/wp-content/uploads/sites/3/2020/02/324655_2200-800x1200.jpg - as /content/drive/MyDrive/Images/fruits/2efec86e46.jpg\n",
            "SUCCESS - saved https://www.unlockfood.ca/EatRightOntario/media/Website-images-resized/How-to-store-fruit-to-keep-it-fresh-resized.jpg - as /content/drive/MyDrive/Images/fruits/883cc72a49.jpg\n",
            "SUCCESS - saved https://hips.hearstapps.com/hmg-prod.s3.amazonaws.com/images/stone-fruit-101-1623704940.jpeg?crop=0.893xw:0.838xh;0.0657xw,0.0137xh&resize=640:* - as /content/drive/MyDrive/Images/fruits/34520f6fe6.jpg\n",
            "SUCCESS - saved https://www.healthyeating.org/images/default-source/home-0.0/nutrition-topics-2.0/general-nutrition-wellness/2-2-2-3foodgroups_fruits_detailfeature.jpg?sfvrsn=64942d53_4 - as /content/drive/MyDrive/Images/fruits/65026ea971.jpg\n",
            "SUCCESS - saved https://i.pinimg.com/originals/8a/6b/44/8a6b4439916eb8c3d52cbc2de66150d7.png - as /content/drive/MyDrive/Images/fruits/c2a58be95b.jpg\n",
            "SUCCESS - saved https://www.diagnosisdiet.com/assets/images/c/fruit-og-d176ef00.jpg - as /content/drive/MyDrive/Images/fruits/32b71e9236.jpg\n",
            "SUCCESS - saved https://encrypted-tbn0.gstatic.com/images?q=tbn:ANd9GcTsRLK-La6p9LPjx5MkCD7KjZ2PFQY8XNX0YA&usqp=CAU - as /content/drive/MyDrive/Images/fruits/f7c8fd3bbc.jpg\n",
            "SUCCESS - saved https://encrypted-tbn0.gstatic.com/images?q=tbn:ANd9GcTngtPzEuLdcJyl0hPlm4bJv263nn5Gr3a-7g&usqp=CAU - as /content/drive/MyDrive/Images/fruits/7119701189.jpg\n",
            "SUCCESS - saved https://m.media-amazon.com/images/I/81ivWsNm+WL._AC_SX679_.jpg - as /content/drive/MyDrive/Images/fruits/09f6164337.jpg\n",
            "SUCCESS - saved https://encrypted-tbn0.gstatic.com/images?q=tbn:ANd9GcQKk0jstrNoNfE90Fw-lax4gi1WHAzmARR1VA&usqp=CAU - as /content/drive/MyDrive/Images/fruits/513f620873.jpg\n",
            "SUCCESS - saved https://post.healthline.com/wp-content/uploads/2018/06/fruit-732x549-thumbnail.jpg - as /content/drive/MyDrive/Images/fruits/ab8bb4b630.jpg\n",
            "SUCCESS - saved https://encrypted-tbn0.gstatic.com/images?q=tbn:ANd9GcTeEBxrB3NgpLfbZZ_k2M9EBh3cfx_c-kCQtA&usqp=CAU - as /content/drive/MyDrive/Images/fruits/df2d478cfe.jpg\n",
            "SUCCESS - saved https://www.pritikin.com/wp/wp-content/uploads/2016/11/best-fruit-avacados-coconut.jpg - as /content/drive/MyDrive/Images/fruits/87c58e4a30.jpg\n",
            "SUCCESS - saved https://www.verywellhealth.com/thmb/nOj3ZmQjgYjBjj_QCBIsDSPzoeo=/1918x1918/smart/filters:no_upscale()/fruits-to-avoid-if-you-have-diabetes-1087587-primary-recirc-3a95a09a48cb46b49d5632326f9405d3.jpg - as /content/drive/MyDrive/Images/fruits/1401936605.jpg\n",
            "SUCCESS - saved https://encrypted-tbn0.gstatic.com/images?q=tbn:ANd9GcSjno9klSAncogQ2oko1mj_nDBknmefTYSVKQ&usqp=CAU - as /content/drive/MyDrive/Images/fruits/6633c956cc.jpg\n",
            "SUCCESS - saved https://images.routledge.com/common/jackets/originals/978177188/9781771889193.tif - as /content/drive/MyDrive/Images/fruits/940675c407.jpg\n",
            "SUCCESS - saved https://encrypted-tbn0.gstatic.com/images?q=tbn:ANd9GcQcq39ZO1zNptfnmJDeJ6e6krwls_YuKFEBnQ&usqp=CAU - as /content/drive/MyDrive/Images/fruits/cfe6c52bd0.jpg\n",
            "SUCCESS - saved https://encrypted-tbn0.gstatic.com/images?q=tbn:ANd9GcSNtuaiDVCrL1IszrpuTrpjPgswr71t_ptgZQ&usqp=CAU - as /content/drive/MyDrive/Images/fruits/cc6982522a.jpg\n",
            "SUCCESS - saved https://encrypted-tbn0.gstatic.com/images?q=tbn:ANd9GcTh5jqfatCoKE9I4_lbXjTnjsGTucbAJl7oEA&usqp=CAU - as /content/drive/MyDrive/Images/fruits/665e5a0806.jpg\n",
            "SUCCESS - saved https://townsquare.media/site/959/files/2021/06/attachment-GettyImages-924608710.jpg?w=980&q=75 - as /content/drive/MyDrive/Images/fruits/2aaae3ac30.jpg\n",
            "SUCCESS - saved https://images.everydayhealth.com/images/ordinary-fruits-with-amazing-health-benefits-05-1440x810.jpg - as /content/drive/MyDrive/Images/fruits/9b2cd95089.jpg\n",
            "SUCCESS - saved https://encrypted-tbn0.gstatic.com/images?q=tbn:ANd9GcSYFPmypiw7PW8VNKtTiazr80huza3qbKpa6w&usqp=CAU - as /content/drive/MyDrive/Images/fruits/3b8fbdab27.jpg\n",
            "SUCCESS - saved https://hips.hearstapps.com/hmg-prod.s3.amazonaws.com/images/assorted-fruit-in-bowl-royalty-free-image-903846026-1545573737.jpg - as /content/drive/MyDrive/Images/fruits/72ed6f7e77.jpg\n",
            "SUCCESS - saved https://www.verywellfit.com/thmb/a4580FjTjbub9q4kI5m9X-Po-p0=/2002x1334/filters:no_upscale():max_bytes(150000):strip_icc()/Bananas-5c6a36a346e0fb0001f0e4a3.jpg - as /content/drive/MyDrive/Images/fruits/865b67b8b6.jpg\n",
            "ERROR - Could not save https://www.thekohsamuiguide.com/wp-content/uploads/2012/01/thai-fruit-32-1.jpg - cannot identify image file <_io.BytesIO object at 0x7f35182dd110>\n",
            "SUCCESS - saved https://encrypted-tbn0.gstatic.com/images?q=tbn:ANd9GcS9vJMxouHi_nw648VH1-ujWXdSSomvCB9TJg&usqp=CAU - as /content/drive/MyDrive/Images/fruits/f4f7f5f3e3.jpg\n",
            "SUCCESS - saved https://i.ytimg.com/vi/PY2OxP_jMZ0/maxresdefault.jpg - as /content/drive/MyDrive/Images/fruits/287adb2d85.jpg\n",
            "SUCCESS - saved https://media.istockphoto.com/photos/fruits-and-vegetables-picture-id461936101 - as /content/drive/MyDrive/Images/fruits/2b78a3f0ef.jpg\n",
            "SUCCESS - saved https://encrypted-tbn0.gstatic.com/images?q=tbn:ANd9GcQc65bNSDE9i7baVuF9ftpQkabn68R7FKCJyw&usqp=CAU - as /content/drive/MyDrive/Images/fruits/444aa66864.jpg\n",
            "SUCCESS - saved https://2rdnmg1qbg403gumla1v9i2h-wpengine.netdna-ssl.com/wp-content/uploads/sites/3/2015/07/fruitSalad-98841227-770x533-1-650x428.jpg - as /content/drive/MyDrive/Images/fruits/f8881eb843.jpg\n",
            "SUCCESS - saved https://images.indianexpress.com/2018/09/fruits-dreamstime.jpg - as /content/drive/MyDrive/Images/fruits/72550fd9d4.jpg\n",
            "SUCCESS - saved https://www.dole.com/-/media/project/dole/produce-images/headers/dole-produce-fruit-medley.png?h=630&w=1200&rev=1416123f2d094cd1b7494365948214be&hash=52F3DBCB5BDC2F5C3528358D1ABF9D2E - as /content/drive/MyDrive/Images/fruits/9137157b14.jpg\n",
            "SUCCESS - saved https://upload.wikimedia.org/wikipedia/commons/2/2f/Culinary_fruits_front_view.jpg - as /content/drive/MyDrive/Images/fruits/82e212bcb5.jpg\n",
            "SUCCESS - saved https://encrypted-tbn0.gstatic.com/images?q=tbn:ANd9GcQVyKwF9witMOdYi8gESAC9fuPNzulUVCbUgA&usqp=CAU - as /content/drive/MyDrive/Images/fruits/cd4681a587.jpg\n",
            "SUCCESS - saved https://www.foodsafetynews.com/files/2020/03/fruits-and-vegetables.jpg - as /content/drive/MyDrive/Images/fruits/0f136bf82b.jpg\n",
            "SUCCESS - saved https://media.cntraveler.com/photos/546976f2cbbd2620680d9f2f/16:9/w_2580,c_limit/rare-fruits-tout.jpg - as /content/drive/MyDrive/Images/fruits/3af240e163.jpg\n",
            "SUCCESS - saved https://media.istockphoto.com/vectors/infographic-about-seasonal-fruits-it-explains-what-fruits-you-c-vector-id635671794 - as /content/drive/MyDrive/Images/fruits/2255dc6eb6.jpg\n",
            "SUCCESS - saved https://www.worldatlas.com/r/w1200/upload/46/cb/e1/shutterstock-252338818.jpg - as /content/drive/MyDrive/Images/fruits/b8d1f78ae7.jpg\n",
            "SUCCESS - saved https://encrypted-tbn0.gstatic.com/images?q=tbn:ANd9GcSNrL2kjdP51f7UC0d2SgdhGSe24wKGxz5xkQ&usqp=CAU - as /content/drive/MyDrive/Images/fruits/b5c2819781.jpg\n",
            "SUCCESS - saved https://m.media-amazon.com/images/I/81Ms4iH+1lL._AC_SL1500_.jpg - as /content/drive/MyDrive/Images/fruits/46a569cc3a.jpg\n",
            "SUCCESS - saved https://static.toiimg.com/photo/76992342.cms - as /content/drive/MyDrive/Images/fruits/eefd7ffd27.jpg\n",
            "SUCCESS - saved https://static.toiimg.com/photo/84969948.cms - as /content/drive/MyDrive/Images/fruits/fe7daaad84.jpg\n",
            "SUCCESS - saved https://encrypted-tbn0.gstatic.com/images?q=tbn:ANd9GcQi1jMN52gdkPzYUPdKtesa7uHIOvBPKSiFNA&usqp=CAU - as /content/drive/MyDrive/Images/fruits/fc945be898.jpg\n",
            "SUCCESS - saved https://encrypted-tbn0.gstatic.com/images?q=tbn:ANd9GcQ3a_k_gz_HLVnJa4v5Pc3v3_hRoMTgpgxOqg&usqp=CAU - as /content/drive/MyDrive/Images/fruits/f9d9b3ed35.jpg\n",
            "SUCCESS - saved https://encrypted-tbn0.gstatic.com/images?q=tbn:ANd9GcQklhbQA6fYuUEoT_ArvqseD4o-notoEMdVSQ&usqp=CAU - as /content/drive/MyDrive/Images/fruits/aa37b64055.jpg\n",
            "SUCCESS - saved https://encrypted-tbn0.gstatic.com/images?q=tbn:ANd9GcS37npK3pYGTTw-2Ai1bL5PkNjrUR_E9gUbNw&usqp=CAU - as /content/drive/MyDrive/Images/fruits/59a7df869b.jpg\n",
            "SUCCESS - saved https://encrypted-tbn0.gstatic.com/images?q=tbn:ANd9GcT10XOeJCqcdWg5f17TNXtbABp4-TFjzF41MA&usqp=CAU - as /content/drive/MyDrive/Images/fruits/e0239cbe93.jpg\n",
            "SUCCESS - saved https://www.houseofwellness.com.au/wp-content/uploads/2021/01/summer-fruits.jpg - as /content/drive/MyDrive/Images/fruits/7ee41c8534.jpg\n",
            "ERROR - Could not save https://www.gas-x.com/amp/img/summer-fruits-cause-bloating/gas-x-summer-fruits-cause-bloating-main.jpg - cannot identify image file <_io.BytesIO object at 0x7f35182dd110>\n",
            "SUCCESS - saved https://encrypted-tbn0.gstatic.com/images?q=tbn:ANd9GcTwTqLdBU0Le4v8WahVyj6Z5EWNSnZVGFuZzA&usqp=CAU - as /content/drive/MyDrive/Images/fruits/2addefedef.jpg\n",
            "SUCCESS - saved https://post.healthline.com/wp-content/uploads/2020/09/fruit-still-life-732x549-thumbnail-732x549.jpg - as /content/drive/MyDrive/Images/fruits/5772028b78.jpg\n",
            "SUCCESS - saved https://encrypted-tbn0.gstatic.com/images?q=tbn:ANd9GcQ2kN79qcgWQIiU8osXYPXQw1nqZz0QbCnZvQ&usqp=CAU - as /content/drive/MyDrive/Images/fruits/393f9e5b3a.jpg\n",
            "SUCCESS - saved https://hips.hearstapps.com/hmg-prod.s3.amazonaws.com/images/766/high-and-low-carb-fruits-main-1515515761.jpg - as /content/drive/MyDrive/Images/fruits/ee75987529.jpg\n",
            "SUCCESS - saved https://encrypted-tbn0.gstatic.com/images?q=tbn:ANd9GcS0qPMi9QVueDdgUTkB8hu40oYr2BAE6l4xBg&usqp=CAU - as /content/drive/MyDrive/Images/fruits/4b7e2a0601.jpg\n",
            "SUCCESS - saved https://www.muscleandfitness.com/wp-content/uploads/2019/01/fruits-vegetables-shopping-grocery-1109.jpg?quality=86&strip=all - as /content/drive/MyDrive/Images/fruits/29b68f5f7c.jpg\n",
            "SUCCESS - saved https://project-orion-production.s3.amazonaws.com/uploads/content/15244/feature_Bananas.jpg - as /content/drive/MyDrive/Images/fruits/25f69d0ed1.jpg\n",
            "SUCCESS - saved https://i.pinimg.com/originals/c2/2e/32/c22e324ceb7a7f5b1fc69152dd68d85b.jpg - as /content/drive/MyDrive/Images/fruits/0b32758837.jpg\n",
            "SUCCESS - saved https://encrypted-tbn0.gstatic.com/images?q=tbn:ANd9GcReNhAqNErCf9glH13blJ-fEt6x4YVzSOjTyQ&usqp=CAU - as /content/drive/MyDrive/Images/fruits/bd8956586a.jpg\n",
            "SUCCESS - saved https://encrypted-tbn0.gstatic.com/images?q=tbn:ANd9GcRAFt0xHiff3fl4uAzBm9kkAa36Rnq2-i1lHQ&usqp=CAU - as /content/drive/MyDrive/Images/fruits/4191c44bc7.jpg\n",
            "SUCCESS - saved https://encrypted-tbn0.gstatic.com/images?q=tbn:ANd9GcSsZyKU4pEUcVP2x_GtXrgZ8kRbLhim4vwD5Q&usqp=CAU - as /content/drive/MyDrive/Images/fruits/4dd8106081.jpg\n",
            "SUCCESS - saved https://encrypted-tbn0.gstatic.com/images?q=tbn:ANd9GcSMTCZ5vNBg7BGwszwY3AYFpSqhV3g5adkX2g&usqp=CAU - as /content/drive/MyDrive/Images/fruits/d11da4dcb6.jpg\n",
            "SUCCESS - saved https://encrypted-tbn0.gstatic.com/images?q=tbn:ANd9GcS1CHwf7PAyQ5Hvh1mKZ5hjWivs4AchOvHlVQ&usqp=CAU - as /content/drive/MyDrive/Images/fruits/eaf4d52082.jpg\n",
            "SUCCESS - saved https://encrypted-tbn0.gstatic.com/images?q=tbn:ANd9GcTn0qoGnGU9OQ8X_gPKLh7gbvhqBqwB7zH90g&usqp=CAU - as /content/drive/MyDrive/Images/fruits/00813b322b.jpg\n",
            "SUCCESS - saved https://www.womansworld.com/wp-content/uploads/2019/06/kiwi-anti-aging.jpg?w=836 - as /content/drive/MyDrive/Images/fruits/d1b2ef46ff.jpg\n",
            "SUCCESS - saved https://analyticsindiamag.com/wp-content/uploads/2020/06/Capture.png - as /content/drive/MyDrive/Images/fruits/03890c1b99.jpg\n",
            "SUCCESS - saved https://m.media-amazon.com/images/S/assets.wholefoodsmarket.com//content/f8/2c/5b15a8b945449816fd137920ae0d/fruits.jpg - as /content/drive/MyDrive/Images/fruits/c101c0de69.jpg\n",
            "SUCCESS - saved https://i.ytimg.com/vi/S0S1M9bKlYk/maxresdefault.jpg - as /content/drive/MyDrive/Images/fruits/74f384c744.jpg\n",
            "SUCCESS - saved https://assets.atlasobscura.com/media/W1siZiIsInVwbG9hZHMvYXNzZXRzL2NkOTBjYzJiLWI4MjQtNGNkNy1iYmI2LTQ3NjA4ODgxMjZhNTBlYjA1Njg0NDVlZWYyODcxM191bnVzdWFsIGZydWl0IGNvbGxhZ2UucG5nIl0sWyJwIiwiY29udmVydCIsIiJdLFsicCIsImNvbnZlcnQiLCItcXVhbGl0eSA4MSAtYXV0by1vcmllbnQiXSxbInAiLCJ0aHVtYiIsIjEyODB4NzIwIyJdXQ/unusual%20fruit%20collage.png - as /content/drive/MyDrive/Images/fruits/3b311f979a.jpg\n",
            "SUCCESS - saved https://www.woodwardenglish.com/wp-content/uploads/2020/06/fruit-english-vocabulary.jpg - as /content/drive/MyDrive/Images/fruits/106c3dfcf5.jpg\n",
            "SUCCESS - saved https://www.fruitbouquets.com/fruit-blog/wp-content/uploads/2017/09/Dragon-Fruit-Image-1280x720.jpg - as /content/drive/MyDrive/Images/fruits/f3a7ced1e4.jpg\n",
            "SUCCESS - saved https://encrypted-tbn0.gstatic.com/images?q=tbn:ANd9GcTC38DbVEYrUbCEGrHX7tsGglGvttlEL6vpQQ&usqp=CAU - as /content/drive/MyDrive/Images/fruits/758443ada0.jpg\n",
            "SUCCESS - saved https://www.dietdoctor.com/wp-content/uploads/2016/03/Low-Carb-Fruits-1-2400x1441-1.jpg - as /content/drive/MyDrive/Images/fruits/1617f73578.jpg\n",
            "SUCCESS - saved https://static01.nyt.com/images/2018/05/23/dining/23fruit/23fruit-superJumbo.jpg - as /content/drive/MyDrive/Images/fruits/ebe8a7ae77.jpg\n",
            "SUCCESS - saved https://encrypted-tbn0.gstatic.com/images?q=tbn:ANd9GcQRfsCgcFwJCPGe-lJBHItC_dJmbArrdNAeCg&usqp=CAU - as /content/drive/MyDrive/Images/fruits/8c816249c0.jpg\n",
            "SUCCESS - saved https://encrypted-tbn0.gstatic.com/images?q=tbn:ANd9GcSTGAL1dcvqVlRO9v4wQP1bnhUfULS33LnNrQ&usqp=CAU - as /content/drive/MyDrive/Images/fruits/9c3dea2579.jpg\n",
            "SUCCESS - saved https://hips.hearstapps.com/hmg-prod.s3.amazonaws.com/images/assortment-of-colorful-ripe-tropical-fruits-top-royalty-free-image-995518546-1564092355.jpg - as /content/drive/MyDrive/Images/fruits/6c052ad67e.jpg\n",
            "SUCCESS - saved https://encrypted-tbn0.gstatic.com/images?q=tbn:ANd9GcTSTRqi4AR8rI2HPgO25pf4OVzyFquXePgtgQ&usqp=CAU - as /content/drive/MyDrive/Images/fruits/b6911f3de0.jpg\n",
            "SUCCESS - saved https://encrypted-tbn0.gstatic.com/images?q=tbn:ANd9GcQ7NzWUpZqAKwv7f5ltgxK5ZosFGvmPvFtKBQ&usqp=CAU - as /content/drive/MyDrive/Images/fruits/14bf3bbd5a.jpg\n",
            "SUCCESS - saved https://encrypted-tbn0.gstatic.com/images?q=tbn:ANd9GcTghZdLlpvybwnp2_1yGXA7FCFKGcZfOu7nzw&usqp=CAU - as /content/drive/MyDrive/Images/fruits/9d1329a56e.jpg\n",
            "SUCCESS - saved https://imagesvc.meredithcorp.io/v3/mm/image?url=https%3A%2F%2Fstatic.onecms.io%2Fwp-content%2Fuploads%2Fsites%2F23%2F2020%2F06%2F01%2Fbest-summer-fruits-2000.jpg&q=85 - as /content/drive/MyDrive/Images/fruits/c0b688a846.jpg\n",
            "SUCCESS - saved https://c.ndtvimg.com/2019-11/2kakjdo8_fruits_625x300_27_November_19.jpg - as /content/drive/MyDrive/Images/fruits/e7d461ec87.jpg\n",
            "SUCCESS - saved https://www.mountelizabeth.com.sg/images/default-source/default-album/super-fruits-acai-berry.jpg?sfvrsn=ab92d011_0 - as /content/drive/MyDrive/Images/fruits/ce8cb02b4c.jpg\n",
            "SUCCESS - saved https://encrypted-tbn0.gstatic.com/images?q=tbn:ANd9GcSQeG-FwVV4glgoGZR-cVTzS5Og26wIT6Hf3g&usqp=CAU - as /content/drive/MyDrive/Images/fruits/906636dc40.jpg\n",
            "SUCCESS - saved https://encrypted-tbn0.gstatic.com/images?q=tbn:ANd9GcT1HThnRcA-B9wVxBM3jYyEDdv1vOJtbCzrcw&usqp=CAU - as /content/drive/MyDrive/Images/fruits/7dce665861.jpg\n",
            "SUCCESS - saved https://encrypted-tbn0.gstatic.com/images?q=tbn:ANd9GcTwFxJnTrdWp00N-KEu9beOaJ7fC5B30urRyA&usqp=CAU - as /content/drive/MyDrive/Images/fruits/4bdd372ad9.jpg\n",
            "SUCCESS - saved https://images-na.ssl-images-amazon.com/images/I/91WdMqaFL6L.jpg - as /content/drive/MyDrive/Images/fruits/5362ee2500.jpg\n",
            "SUCCESS - saved https://images.theconversation.com/files/417973/original/file-20210826-2243-15s35b8.jpg?ixlib=rb-1.1.0&q=45&auto=format&w=1200&h=1200.0&fit=crop - as /content/drive/MyDrive/Images/fruits/65af223bfa.jpg\n",
            "SUCCESS - saved https://encrypted-tbn0.gstatic.com/images?q=tbn:ANd9GcRenGZHB84JcIXCX7jMQUkZt7GFpp8mK1x7RA&usqp=CAU - as /content/drive/MyDrive/Images/fruits/76407d393b.jpg\n",
            "SUCCESS - saved https://encrypted-tbn0.gstatic.com/images?q=tbn:ANd9GcQh7unjCj27JKW2IQgucFutRHjN3yDiIaG2cQ&usqp=CAU - as /content/drive/MyDrive/Images/fruits/f8ec0a6d77.jpg\n",
            "SUCCESS - saved https://sodelicious.recipes/wp-content/uploads/2018/04/exotic-fruits-you-never-knew-existed-mangosteen-1200x900.jpg - as /content/drive/MyDrive/Images/fruits/8ce7f56f0a.jpg\n",
            "SUCCESS - saved https://imagesvc.meredithcorp.io/v3/mm/image?url=https%3A%2F%2Fstatic.onecms.io%2Fwp-content%2Fuploads%2Fsites%2F20%2F2021%2F03%2F01%2Ffruits-veggies1-2000.jpg&q=85 - as /content/drive/MyDrive/Images/fruits/81d7cafb56.jpg\n",
            "SUCCESS - saved https://encrypted-tbn0.gstatic.com/images?q=tbn:ANd9GcShxATPdwjA6uXd_4sGX5cUfhumrDXT2LcaZQ&usqp=CAU - as /content/drive/MyDrive/Images/fruits/f83de77efd.jpg\n",
            "SUCCESS - saved https://encrypted-tbn0.gstatic.com/images?q=tbn:ANd9GcT68b0O5wgNnMvg2hrPVjD4cRADRiFNcmXHvQ&usqp=CAU - as /content/drive/MyDrive/Images/fruits/baa2372a9c.jpg\n",
            "Found: 100 search results. Extracting links from 0:100\n",
            "Found: 100 image links, done!\n",
            "SUCCESS - saved https://analyticsinsight.b-cdn.net/wp-content/uploads/2021/08/Machine-Learning-Tools.jpg - as /content/drive/MyDrive/Images/machine learning/a6f8d71339.jpg\n",
            "SUCCESS - saved https://cdn.searchenginejournal.com/wp-content/uploads/2020/09/how-machine-learning-is-changing-seo-how-to-adapt-5f60c25878dfc-1520x800.png - as /content/drive/MyDrive/Images/machine learning/eb7c51d3f3.jpg\n",
            "SUCCESS - saved https://www.oracle.com/a/ocom/img/rc24-machine-learning.jpg - as /content/drive/MyDrive/Images/machine learning/1dab0a134d.jpg\n",
            "ERROR - Could not save https://www.tibco.com/sites/tibco/files/media_entity/2020-09/machine-learning-diagram.svg - cannot identify image file <_io.BytesIO object at 0x7f351983fa10>\n",
            "SUCCESS - saved https://encrypted-tbn0.gstatic.com/images?q=tbn:ANd9GcQyk-rAWff8es4lJvIa_J3mIuveLfNztGCpLg&usqp=CAU - as /content/drive/MyDrive/Images/machine learning/edc1d7bc91.jpg\n",
            "ERROR - Could not save https://www.techfunnel.com/wp-content/uploads/2020/12/machine-learning-vs-deep-learning.png - cannot identify image file <_io.BytesIO object at 0x7f35181bc9b0>\n",
            "SUCCESS - saved https://encrypted-tbn0.gstatic.com/images?q=tbn:ANd9GcQSYylHvRw4uZOGozJG1VYgdMReGDGuxSwxPQ&usqp=CAU - as /content/drive/MyDrive/Images/machine learning/6af635c9ff.jpg\n",
            "SUCCESS - saved https://www.eurixgroup.com/wp-content/uploads/2021/01/ml-e1610553826718.jpg - as /content/drive/MyDrive/Images/machine learning/62d41eae90.jpg\n",
            "ERROR - Could not save https://www.readspeaker.ai/wp-content/uploads/2021/05/deep-learning-vs-machine-learning-readspeaker.jpg - cannot identify image file <_io.BytesIO object at 0x7f35181bc350>\n",
            "SUCCESS - saved https://www.thermofisher.com/blog/connectedlab/wp-content/uploads/sites/14/2020/01/istock-962219860-2-scaled.jpg - as /content/drive/MyDrive/Images/machine learning/84ded30263.jpg\n",
            "SUCCESS - saved https://encrypted-tbn0.gstatic.com/images?q=tbn:ANd9GcTOSwX0K0UGwBx3QEEuA4jYokxrs2iTEl9R6w&usqp=CAU - as /content/drive/MyDrive/Images/machine learning/77b1c7ea99.jpg\n",
            "SUCCESS - saved https://encrypted-tbn0.gstatic.com/images?q=tbn:ANd9GcSrRz46aBUHH4k31ax64El8Gw2VsFhEaPDsxw&usqp=CAU - as /content/drive/MyDrive/Images/machine learning/0a77722c77.jpg\n",
            "SUCCESS - saved https://assets.website-files.com/5fb24a974499e90dae242d98/60f6feb4be651f666b46194a_AI%20vs%20Machine%20Learning%20vs%20Deep%20Learning.jpg - as /content/drive/MyDrive/Images/machine learning/0aaea1a774.jpg\n",
            "SUCCESS - saved https://encrypted-tbn0.gstatic.com/images?q=tbn:ANd9GcToqqMfOrfY6GZ4px8jFHkK_4NtQHwzHP3Npg&usqp=CAU - as /content/drive/MyDrive/Images/machine learning/f130ce0287.jpg\n",
            "ERROR - Could not save http://www.metal-am.com/wp-content/uploads/sites/4/2020/12/fig-01-copy-1024x630.jpg - cannot identify image file <_io.BytesIO object at 0x7f351983fa10>\n",
            "SUCCESS - saved https://encrypted-tbn0.gstatic.com/images?q=tbn:ANd9GcQ-hbbJJLjd2FhoRLiJeQ0EUCxty8cByWQWQg&usqp=CAU - as /content/drive/MyDrive/Images/machine learning/58a82927b4.jpg\n",
            "SUCCESS - saved https://www.merkleinc.com/sites/default/files/inline-images/DL%20and%20ML1%20resized.jpg - as /content/drive/MyDrive/Images/machine learning/3a14d7478f.jpg\n",
            "SUCCESS - saved https://encrypted-tbn0.gstatic.com/images?q=tbn:ANd9GcRl5Xu-T4-nc9bxvkM4n2o8a_KUFJBVbYXnNQ&usqp=CAU - as /content/drive/MyDrive/Images/machine learning/f0243ace52.jpg\n",
            "SUCCESS - saved https://www.iberdrola.com/wcorp/gc/prod/en_US/comunicacion/machine_learning_mult_1_res/machine_learning_746x419.jpg - as /content/drive/MyDrive/Images/machine learning/db0907dc4a.jpg\n",
            "SUCCESS - saved https://venturebeat.com/wp-content/uploads/2021/08/machine-learning-challenges.jpg?w=1200&strip=all - as /content/drive/MyDrive/Images/machine learning/a5d28adb1f.jpg\n",
            "SUCCESS - saved https://media.springernature.com/relative-r300-703_m1050/springer-static/image/art%3A10.1038%2Fs41592-019-0432-9/MediaObjects/41592_2019_432_Figa_HTML.png - as /content/drive/MyDrive/Images/machine learning/ae0aec14ad.jpg\n",
            "SUCCESS - saved https://i.ytimg.com/vi/ukzFI9rgwfU/maxresdefault.jpg - as /content/drive/MyDrive/Images/machine learning/3cb1709e2a.jpg\n",
            "SUCCESS - saved https://thumbor.forbes.com/thumbor/960x0/https%3A%2F%2Fspecials-images.forbesimg.com%2Fimageserve%2F1179697528%2FAI-artificial-intelligence-concept-Central-Computer-Processors-CPU-concept%2F960x0.jpg%3Ffit%3Dscale - as /content/drive/MyDrive/Images/machine learning/13a3e99b8b.jpg\n",
            "SUCCESS - saved https://engineering.fb.com/wp-content/uploads/2021/01/RankingFlow.jpg - as /content/drive/MyDrive/Images/machine learning/2384f33e15.jpg\n",
            "SUCCESS - saved https://encrypted-tbn0.gstatic.com/images?q=tbn:ANd9GcTlrRupcFP48cR8T8Lv0nmohh-nsuFWuKy90Q&usqp=CAU - as /content/drive/MyDrive/Images/machine learning/6ee11ce46e.jpg\n",
            "SUCCESS - saved https://encrypted-tbn0.gstatic.com/images?q=tbn:ANd9GcSzKnXNOCXkkXM2_nm_ZBBvkzP2BAc9oZLBLA&usqp=CAU - as /content/drive/MyDrive/Images/machine learning/f761f0fc7d.jpg\n",
            "SUCCESS - saved https://mobidev.biz/wp-content/uploads/2020/01/machine-learning-consulting-company.png - as /content/drive/MyDrive/Images/machine learning/a85ad6d6a4.jpg\n",
            "SUCCESS - saved https://media.geeksforgeeks.org/wp-content/cdn-uploads/machineLearning3.png - as /content/drive/MyDrive/Images/machine learning/81ba71393e.jpg\n",
            "SUCCESS - saved https://miro.medium.com/max/1400/1*cG6U1qstYDijh9bPL42e-Q.jpeg - as /content/drive/MyDrive/Images/machine learning/496523997f.jpg\n",
            "ERROR - Could not save https://insights.sap.com/wp-content/uploads/2020/06/GettyImages-1020317514-1-scaled.jpg - cannot identify image file <_io.BytesIO object at 0x7f351820e110>\n",
            "SUCCESS - saved https://cdn.britannica.com/s:800x450,c:crop/40/216540-138-14385CFE/How-machine-learning-is-predicting-synthetic-products.jpg - as /content/drive/MyDrive/Images/machine learning/e15bbc4213.jpg\n",
            "SUCCESS - saved https://encrypted-tbn0.gstatic.com/images?q=tbn:ANd9GcSWwQAsLQGePm2peRX-jSUlmXt48OT8arllUQ&usqp=CAU - as /content/drive/MyDrive/Images/machine learning/23bb4dc2da.jpg\n",
            "SUCCESS - saved https://encrypted-tbn0.gstatic.com/images?q=tbn:ANd9GcQAVncfDgwSJRWVArswxbEeF1vbDT0RuOyWfA&usqp=CAU - as /content/drive/MyDrive/Images/machine learning/0036583286.jpg\n",
            "SUCCESS - saved https://encrypted-tbn0.gstatic.com/images?q=tbn:ANd9GcRbSZZu9FPzqUJM0x_ET1-vye01bULxB1LnsA&usqp=CAU - as /content/drive/MyDrive/Images/machine learning/bbd1fe11c7.jpg\n",
            "SUCCESS - saved https://encrypted-tbn0.gstatic.com/images?q=tbn:ANd9GcRvrLOYzDpbFNPnpVcM10KGQWzibR5O9MAGcA&usqp=CAU - as /content/drive/MyDrive/Images/machine learning/8f4299454a.jpg\n",
            "SUCCESS - saved https://editor.analyticsvidhya.com/uploads/70332https___specials-images.forbesimg.com_dam_imageserve_966248982_960x0.jpg - as /content/drive/MyDrive/Images/machine learning/3b9d53eae6.jpg\n",
            "SUCCESS - saved https://www.securityroundtable.org/wp-content/uploads/2019/06/machine-learning.png - as /content/drive/MyDrive/Images/machine learning/8cc8efc2af.jpg\n",
            "SUCCESS - saved https://encrypted-tbn0.gstatic.com/images?q=tbn:ANd9GcSC4ZvFL47Ta0lMESWsN7qq1zQuMnqo7C4CLA&usqp=CAU - as /content/drive/MyDrive/Images/machine learning/68d59cdf3b.jpg\n",
            "SUCCESS - saved https://encrypted-tbn0.gstatic.com/images?q=tbn:ANd9GcQR_uv6oCw_7lmpBWlu3V9Gs0wcAg8ea6N_EQ&usqp=CAU - as /content/drive/MyDrive/Images/machine learning/f257e958de.jpg\n",
            "SUCCESS - saved https://encrypted-tbn0.gstatic.com/images?q=tbn:ANd9GcQZc_PTpvBRL66czmsoFIqQhIpsE7sI71vIGA&usqp=CAU - as /content/drive/MyDrive/Images/machine learning/e62fd30418.jpg\n",
            "SUCCESS - saved https://encrypted-tbn0.gstatic.com/images?q=tbn:ANd9GcTg7jvSiFrosuwdyIy-w1I1zyb_uS6ZEHLzQA&usqp=CAU - as /content/drive/MyDrive/Images/machine learning/e87741f1f1.jpg\n",
            "SUCCESS - saved https://i.pcmag.com/imagery/articles/03TusrjgeJmocMs3y4zcxE0-7..1569484420.jpg - as /content/drive/MyDrive/Images/machine learning/23d27541fc.jpg\n",
            "SUCCESS - saved https://www.simplilearn.com/ice9/free_resources_article_thumb/Deep-Learning-vs-Machine-Learning.jpg - as /content/drive/MyDrive/Images/machine learning/de1b1079eb.jpg\n",
            "SUCCESS - saved https://encrypted-tbn0.gstatic.com/images?q=tbn:ANd9GcRqX-g9A6tbPAlpj85G-no0fk7A3xH1wFUcyQ&usqp=CAU - as /content/drive/MyDrive/Images/machine learning/c1fe5b1572.jpg\n",
            "SUCCESS - saved https://www.bbva.com/wp-content/uploads/2019/11/machine-learning-1920x1180.jpg - as /content/drive/MyDrive/Images/machine learning/6cb376e521.jpg\n",
            "SUCCESS - saved https://www.expert.ai/wp-content/uploads/2017/03/machine-learning-definition.jpeg - as /content/drive/MyDrive/Images/machine learning/87d0b895e9.jpg\n",
            "SUCCESS - saved https://thumbor.forbes.com/thumbor/960x0/https%3A%2F%2Fspecials-images.forbesimg.com%2Fdam%2Fimageserve%2F1129869424%2F960x0.jpg%3Ffit%3Dscale - as /content/drive/MyDrive/Images/machine learning/fbf56c50e6.jpg\n",
            "SUCCESS - saved https://docs.microsoft.com/en-us/windows/ai/images/winml-model-flow.png - as /content/drive/MyDrive/Images/machine learning/c2ea4e4890.jpg\n",
            "SUCCESS - saved https://appen.com/wp-content/uploads/2018/09/machine-learning-wiki.jpg - as /content/drive/MyDrive/Images/machine learning/0e8d88f437.jpg\n",
            "SUCCESS - saved https://encrypted-tbn0.gstatic.com/images?q=tbn:ANd9GcThKWzCEIz4Qlh_hyRMcifUF8AUU-dK_N7iRg&usqp=CAU - as /content/drive/MyDrive/Images/machine learning/f1fe32a176.jpg\n",
            "SUCCESS - saved https://editor.analyticsvidhya.com/uploads/88587machine-learning-concept-chart-keywords-icons-white-background-137897366.jpg - as /content/drive/MyDrive/Images/machine learning/0574d32bb1.jpg\n",
            "SUCCESS - saved https://encrypted-tbn0.gstatic.com/images?q=tbn:ANd9GcT0quHAS8gIGDTSeoDDzOPI6yRR9inJv1mT-w&usqp=CAU - as /content/drive/MyDrive/Images/machine learning/d2eab5a832.jpg\n",
            "SUCCESS - saved https://www.nvidia.com/content/dam/en-zz/Solutions/deep-learning/deep-learning-solutions/machine-learning/nvidia-enterprise-inference-2c50-p@2x.jpg - as /content/drive/MyDrive/Images/machine learning/dc08d6bccd.jpg\n",
            "SUCCESS - saved https://machinelearning.wisc.edu/wp-content/uploads/2021/02/cropped-2021MLBanner.png - as /content/drive/MyDrive/Images/machine learning/711cdcb807.jpg\n",
            "SUCCESS - saved https://encrypted-tbn0.gstatic.com/images?q=tbn:ANd9GcQfN12oiCbkM3yQNEyPU1BU2oWCHh3gEGKNcA&usqp=CAU - as /content/drive/MyDrive/Images/machine learning/1d2ad22cb8.jpg\n",
            "SUCCESS - saved https://encrypted-tbn0.gstatic.com/images?q=tbn:ANd9GcREtYLCCuAmBh_VHuUV8Es65tyndvA6v-9_qA&usqp=CAU - as /content/drive/MyDrive/Images/machine learning/30688c3fd6.jpg\n",
            "SUCCESS - saved https://encrypted-tbn0.gstatic.com/images?q=tbn:ANd9GcRs6s7hyj4AjilLRAsXKOGODpotWHFcjyA_yw&usqp=CAU - as /content/drive/MyDrive/Images/machine learning/6118384efc.jpg\n",
            "SUCCESS - saved https://www.nokia.com/sites/default/files/styles/nokia_blog_page_image/public/blog/nokia-analytics-banner.jpg - as /content/drive/MyDrive/Images/machine learning/851e4b46b0.jpg\n",
            "SUCCESS - saved https://encrypted-tbn0.gstatic.com/images?q=tbn:ANd9GcTqTtNSrYNNqo_2PHO2SYs6aQSm_uB5MAxmPA&usqp=CAU - as /content/drive/MyDrive/Images/machine learning/f92df4f09a.jpg\n",
            "SUCCESS - saved https://encrypted-tbn0.gstatic.com/images?q=tbn:ANd9GcSoGwWya17bwcExfYQlkkcjYkZCvbkY9wgsqA&usqp=CAU - as /content/drive/MyDrive/Images/machine learning/6a4e793f0a.jpg\n",
            "SUCCESS - saved https://humanativaspa.it/wp-content/uploads/2021/05/HN_machine_learning_ist.jpg - as /content/drive/MyDrive/Images/machine learning/f2a165c9ed.jpg\n",
            "SUCCESS - saved https://encrypted-tbn0.gstatic.com/images?q=tbn:ANd9GcRgooEjFqNB4VIHcKQr1SLt_M99asA6WtMbxQ&usqp=CAU - as /content/drive/MyDrive/Images/machine learning/98d7d072e8.jpg\n",
            "SUCCESS - saved https://blog.bismart.com/hs-fs/hubfs/02-MachinelearningVSDeeplearning_Mesa%20de%20trabajo%201%20copia%202_Mesa%20de%20trabajo%201%20copia%202.jpg?width=3509&name=02-MachinelearningVSDeeplearning_Mesa%20de%20trabajo%201%20copia%202_Mesa%20de%20trabajo%201%20copia%202.jpg - as /content/drive/MyDrive/Images/machine learning/3109632c7d.jpg\n",
            "SUCCESS - saved https://encrypted-tbn0.gstatic.com/images?q=tbn:ANd9GcSusXHuPFC1rCwWDg-_SoxB9c6aKs-5IyrAog&usqp=CAU - as /content/drive/MyDrive/Images/machine learning/9f1173a81a.jpg\n",
            "SUCCESS - saved https://miro.medium.com/max/1024/1*3CXBOKNql4qS-lRyHT3pqw.png - as /content/drive/MyDrive/Images/machine learning/64c6dd14bd.jpg\n",
            "SUCCESS - saved https://assets.website-files.com/5fb24a974499e90dae242d98/5fb24a974499e96f7b2431db_AI%20venn%20diagram.png - as /content/drive/MyDrive/Images/machine learning/10ce20ceac.jpg\n",
            "SUCCESS - saved https://encrypted-tbn0.gstatic.com/images?q=tbn:ANd9GcRRA-djnplyaiyuRIgXudtKk8QUm4xYHtvJvA&usqp=CAU - as /content/drive/MyDrive/Images/machine learning/e47f0d2104.jpg\n",
            "SUCCESS - saved https://www.einfochips.com/blog/wp-content/uploads/2018/11/how-to-develop-machine-learning-applications-for-business-featured.jpg - as /content/drive/MyDrive/Images/machine learning/748a8a89f8.jpg\n",
            "SUCCESS - saved https://www.ceralytics.com/wp-content/uploads/2019/08/machine-learning-featured.jpg - as /content/drive/MyDrive/Images/machine learning/278cf679e6.jpg\n",
            "SUCCESS - saved https://encrypted-tbn0.gstatic.com/images?q=tbn:ANd9GcTVTbGRhJ57v7V1QD7ryIDXwcmP-QqzvnH8NQ&usqp=CAU - as /content/drive/MyDrive/Images/machine learning/6461b300cb.jpg\n",
            "SUCCESS - saved https://encrypted-tbn0.gstatic.com/images?q=tbn:ANd9GcTba5qkPbfxaExGGfEhcujsY708WyfHopDV8w&usqp=CAU - as /content/drive/MyDrive/Images/machine learning/fe0d43541e.jpg\n",
            "SUCCESS - saved https://appen.com/wp-content/uploads/2019/10/iStock-1181216327-750x422-1.jpg - as /content/drive/MyDrive/Images/machine learning/6707521ac4.jpg\n",
            "SUCCESS - saved https://www.xantaro.net/wp-content/uploads/2018/10/Xantaro_ML_DL.png - as /content/drive/MyDrive/Images/machine learning/f2690ee86a.jpg\n",
            "SUCCESS - saved https://encrypted-tbn0.gstatic.com/images?q=tbn:ANd9GcSav49NDq1Pa_S4JFC0wuCjA8AsjVgSuSm5UA&usqp=CAU - as /content/drive/MyDrive/Images/machine learning/f64b1ff399.jpg\n",
            "SUCCESS - saved https://encrypted-tbn0.gstatic.com/images?q=tbn:ANd9GcQrT3TniqvNeIBy5HpWmHVNDtmn1TazaB45wA&usqp=CAU - as /content/drive/MyDrive/Images/machine learning/d07eeedd23.jpg\n",
            "SUCCESS - saved https://encrypted-tbn0.gstatic.com/images?q=tbn:ANd9GcTqcn3Xn1l5E6gkH5YYc3BNEKIXYij9IOJb0w&usqp=CAU - as /content/drive/MyDrive/Images/machine learning/724f241954.jpg\n",
            "SUCCESS - saved https://encrypted-tbn0.gstatic.com/images?q=tbn:ANd9GcTxVFK-XSgdT_lK95joMfDupTEhhpcMZ7590g&usqp=CAU - as /content/drive/MyDrive/Images/machine learning/f04f1e4b70.jpg\n",
            "SUCCESS - saved https://www.ionos.ca/digitalguide/fileadmin/DigitalGuide/Teaser/machine-learning-t.jpg - as /content/drive/MyDrive/Images/machine learning/00e5cf57ae.jpg\n",
            "SUCCESS - saved https://miro.medium.com/max/1400/1*c_fiB-YgbnMl6nntYGBMHQ.jpeg - as /content/drive/MyDrive/Images/machine learning/dc53b7d074.jpg\n",
            "SUCCESS - saved https://encrypted-tbn0.gstatic.com/images?q=tbn:ANd9GcQtezf24SDjIEjMiGQE1uagohibp7kDuyDXpg&usqp=CAU - as /content/drive/MyDrive/Images/machine learning/4eeb0d2041.jpg\n",
            "SUCCESS - saved https://encrypted-tbn0.gstatic.com/images?q=tbn:ANd9GcRXvaxtEjQy6c4VuiEot83OVZ8jZtxuLCVdhw&usqp=CAU - as /content/drive/MyDrive/Images/machine learning/d7ba7323a2.jpg\n",
            "SUCCESS - saved https://www.redhat.com/cms/managed-files/2020/02/screen-shot-2020-02-07-at-8.23.12-am.png - as /content/drive/MyDrive/Images/machine learning/5a1de525f4.jpg\n",
            "SUCCESS - saved https://www.techrepublic.com/a/hub/i/r/2019/02/14/bfa2d5fd-49b2-4fb7-9d80-a060e61ddb65/resize/1200x900/6ca9ded9a9c7f016ba21c07defbaa398/machine-learning.jpg - as /content/drive/MyDrive/Images/machine learning/9e09d9e4fb.jpg\n",
            "SUCCESS - saved https://encrypted-tbn0.gstatic.com/images?q=tbn:ANd9GcQRYpzZMYoh4ok4ZAjAuH-o5OjLQAm7wyvogQ&usqp=CAU - as /content/drive/MyDrive/Images/machine learning/10360dfe02.jpg\n",
            "SUCCESS - saved https://encrypted-tbn0.gstatic.com/images?q=tbn:ANd9GcSySHye_KhXsVcSmnoiIyF8H9Kes3P-iYOtjg&usqp=CAU - as /content/drive/MyDrive/Images/machine learning/465d049575.jpg\n",
            "SUCCESS - saved https://encrypted-tbn0.gstatic.com/images?q=tbn:ANd9GcR8AK6b890PmWHvzwokzR7CYdRfr82f0wZmfw&usqp=CAU - as /content/drive/MyDrive/Images/machine learning/91c9418d07.jpg\n",
            "SUCCESS - saved https://encrypted-tbn0.gstatic.com/images?q=tbn:ANd9GcQh4HzGIRo74WpbQfcr6SFZFkcsiykKzX5A-w&usqp=CAU - as /content/drive/MyDrive/Images/machine learning/873e0c2fe5.jpg\n",
            "SUCCESS - saved https://www.sas.com/en_us/insights/analytics/machine-learning/_jcr_content/par/styledcontainer_31e3/image.img.jpg/1630694864879.jpg - as /content/drive/MyDrive/Images/machine learning/adb77f54cf.jpg\n",
            "SUCCESS - saved https://mitsloan.mit.edu/sites/default/files/styles/article_header/public/2021-04/machine-learning_2.jpg?h=865425c3&itok=AJPWyQXS - as /content/drive/MyDrive/Images/machine learning/cbc3d09a5a.jpg\n",
            "SUCCESS - saved https://encrypted-tbn0.gstatic.com/images?q=tbn:ANd9GcRrGoA2Crpg8Xcqacy8jDQELbeolPDWu-GykQ&usqp=CAU - as /content/drive/MyDrive/Images/machine learning/12306702cf.jpg\n",
            "SUCCESS - saved https://miro.medium.com/max/1400/0*QYxNNYh6W9jO1b_-.png - as /content/drive/MyDrive/Images/machine learning/5fef73c0d8.jpg\n",
            "SUCCESS - saved https://www.ecmwf.int/sites/default/files/Ai-image-deep-net-v3-690px.jpg - as /content/drive/MyDrive/Images/machine learning/fd38be170d.jpg\n",
            "SUCCESS - saved https://miro.medium.com/max/848/1*M9le42saJxWlOYyYvhKtPA.jpeg - as /content/drive/MyDrive/Images/machine learning/574153b142.jpg\n",
            "SUCCESS - saved https://velocityglobal.com/wp-content/uploads/2019/02/Blog-Images-Forget-Machine-Learning-Humans-Still-Have-a-Lot-to-Learn-Part-II.jpg - as /content/drive/MyDrive/Images/machine learning/abd6bed0de.jpg\n",
            "SUCCESS - saved https://content.techgig.com/photo/78556739/5-machine-learning-concepts-you-must-understand-to-clear-a-data-science-interview.jpg?107588 - as /content/drive/MyDrive/Images/machine learning/81edbcc53b.jpg\n",
            "ERROR - Could not save https://nordicapis.com/wp-content/uploads/Choosing-the-Best-Machine-Learning-API-for-Your-Project.jpg - cannot identify image file <_io.BytesIO object at 0x7f351983fa10>\n",
            "SUCCESS - saved https://encrypted-tbn0.gstatic.com/images?q=tbn:ANd9GcSfstLlcePmx5wujU995X4ms2viodJuABqulg&usqp=CAU - as /content/drive/MyDrive/Images/machine learning/3b2064e6f7.jpg\n",
            "SUCCESS - saved https://encrypted-tbn0.gstatic.com/images?q=tbn:ANd9GcS8B-h-XhDxP5a7Qd-HPdBoHiB1hbafQU_CNg&usqp=CAU - as /content/drive/MyDrive/Images/machine learning/71a8a1796a.jpg\n",
            "SUCCESS - saved https://encrypted-tbn0.gstatic.com/images?q=tbn:ANd9GcSMFWgErcxBOju7NYcTXjCkOAcL_D7xVuskdw&usqp=CAU - as /content/drive/MyDrive/Images/machine learning/b3d6103893.jpg\n",
            "SUCCESS - saved https://www.kdnuggets.com/wp-content/uploads/deploy-machine-learning-models-to-web.jpg - as /content/drive/MyDrive/Images/machine learning/586598453f.jpg\n",
            "Found: 100 search results. Extracting links from 0:100\n",
            "Found: 101 image links, done!\n",
            "SUCCESS - saved https://encrypted-tbn0.gstatic.com/images?q=tbn:ANd9GcS6loCx36rsztAfEQJ8CBOdJSbv0SsQu16gjA&usqp=CAU - as /content/drive/MyDrive/Images/cars/e815d7ddd9.jpg\n",
            "SUCCESS - saved https://i.guim.co.uk/img/media/e7b233f1b5dc031834573fcd54ee415b7f08c67f/0_169_3500_2101/master/3500.jpg?width=1200&height=1200&quality=85&auto=format&fit=crop&s=32384a220cc2f467416f5587219a109f - as /content/drive/MyDrive/Images/cars/0ef1aa87f6.jpg\n",
            "SUCCESS - saved https://encrypted-tbn0.gstatic.com/images?q=tbn:ANd9GcQ858OGA45WJgcqml9d0GEzZtWzyVkIbANYpg&usqp=CAU - as /content/drive/MyDrive/Images/cars/83eb688586.jpg\n",
            "SUCCESS - saved https://i.ytimg.com/vi/L9ZYdShgtPE/maxresdefault.jpg - as /content/drive/MyDrive/Images/cars/a739a48c9a.jpg\n",
            "SUCCESS - saved https://encrypted-tbn0.gstatic.com/images?q=tbn:ANd9GcS8M-MtWZGuX-HVcB2sIVWF0O7ANhjAiY3IrA&usqp=CAU - as /content/drive/MyDrive/Images/cars/e36f9c6d86.jpg\n",
            "SUCCESS - saved https://www.mansory.com/sites/default/files/styles/view_3_columns/public/2020-08/DSC03868.jpg?itok=-MB8zO-l - as /content/drive/MyDrive/Images/cars/4e9c23055d.jpg\n",
            "SUCCESS - saved https://upload.wikimedia.org/wikipedia/en/3/34/Cars_2006.jpg - as /content/drive/MyDrive/Images/cars/b4b870d168.jpg\n",
            "SUCCESS - saved https://media.gq-magazine.co.uk/photos/5fdcb8470d9a429c2d245628/master/w_1600%2Cc_limit/2021CARS_AUDIEtron.jpg - as /content/drive/MyDrive/Images/cars/990b8f714b.jpg\n",
            "SUCCESS - saved https://encrypted-tbn0.gstatic.com/images?q=tbn:ANd9GcR9IsBmBE_Mvr5Zlk1dNL6LXxuhwMcLIvVCig&usqp=CAU - as /content/drive/MyDrive/Images/cars/d9c8abb3e6.jpg\n",
            "SUCCESS - saved https://www.extremetech.com/wp-content/uploads/2019/12/SONATA-hero-option1-764A5360-edit.jpg - as /content/drive/MyDrive/Images/cars/8f10f1238c.jpg\n",
            "SUCCESS - saved https://encrypted-tbn0.gstatic.com/images?q=tbn:ANd9GcTTEMa1VR_MygoHi-cEXrq1qr6d72GrS-qn1Q&usqp=CAU - as /content/drive/MyDrive/Images/cars/3d4aaa0911.jpg\n",
            "SUCCESS - saved https://encrypted-tbn0.gstatic.com/images?q=tbn:ANd9GcTyejoDmoNx02SsCNHE9Ff5FjTwzOOlG1z78w&usqp=CAU - as /content/drive/MyDrive/Images/cars/c725a9e75a.jpg\n",
            "SUCCESS - saved https://encrypted-tbn0.gstatic.com/images?q=tbn:ANd9GcReMsNY7F5PvQpgFk7pnkRAA25BjcnSUEpXoA&usqp=CAU - as /content/drive/MyDrive/Images/cars/241630ebdf.jpg\n",
            "SUCCESS - saved https://encrypted-tbn0.gstatic.com/images?q=tbn:ANd9GcSdL_HuKrpdpXkanGbQqUhf3MUO6h2dSvgn_A&usqp=CAU - as /content/drive/MyDrive/Images/cars/2dd5a10d1d.jpg\n",
            "SUCCESS - saved https://cdn.arstechnica.net/wp-content/uploads/2020/08/AAA_testing-800x557.jpg - as /content/drive/MyDrive/Images/cars/ee97dadb36.jpg\n",
            "SUCCESS - saved https://encrypted-tbn0.gstatic.com/images?q=tbn:ANd9GcTjUUz2KYkQpzkKSNs1RrLlbQohBrNoK2ig-w&usqp=CAU - as /content/drive/MyDrive/Images/cars/1867855422.jpg\n",
            "SUCCESS - saved https://cdn.simba-dickie-group.de/media/web-majorette/products/212084009/00/detail_zoom/racing-cars-212084009_00.jpeg?v=1584545694 - as /content/drive/MyDrive/Images/cars/e475d5df04.jpg\n",
            "SUCCESS - saved https://media-cldnry.s-nbcnews.com/image/upload/t_fit-760w,f_auto,q_auto:best/newscms/2018_12/2371046/180320-flying-car-aeromobil50-se-143p.jpg - as /content/drive/MyDrive/Images/cars/f893e200a6.jpg\n",
            "SUCCESS - saved http://c.files.bbci.co.uk/2BDA/production/_108762211_mediaitem108762210.jpg - as /content/drive/MyDrive/Images/cars/6d7359751d.jpg\n",
            "SUCCESS - saved https://cdn.motor1.com/images/mgl/8e8Mo/s1/most-expensive-new-cars-ever.webp - as /content/drive/MyDrive/Images/cars/12e65e708c.jpg\n",
            "SUCCESS - saved https://www.elitetraveler.com/wp-content/uploads/2019/07/Screenshot-2020-05-12-at-15.10.34.png - as /content/drive/MyDrive/Images/cars/28609faf95.jpg\n",
            "SUCCESS - saved https://encrypted-tbn0.gstatic.com/images?q=tbn:ANd9GcQ0sluXnLdIB6yEMbG2nWgTyjZb_cQOZmHRlA&usqp=CAU - as /content/drive/MyDrive/Images/cars/5a420e2dc5.jpg\n",
            "SUCCESS - saved https://encrypted-tbn0.gstatic.com/images?q=tbn:ANd9GcSr_1d9kUp3SoTAkFJeBxNucG847bgMKAfzzA&usqp=CAU - as /content/drive/MyDrive/Images/cars/bce77c6b09.jpg\n",
            "SUCCESS - saved https://www.gannett-cdn.com/media/2019/04/25/USATODAY/usatsports/247WallSt.com-247WS-543507-ms.jpg?crop=1365,768,x0,y0&width=660&height=372&format=pjpg&auto=webp - as /content/drive/MyDrive/Images/cars/7c3ba23c55.jpg\n",
            "SUCCESS - saved https://m.media-amazon.com/images/M/MV5BNzFiNWE2ZTktYzBhZS00ZmMwLTg5NDYtYTkwM2I0NjZhMTExXkEyXkFqcGdeQXVyNzU1NzE3NTg@._V1_QL75_UX500_CR0,47,500,281_.jpg - as /content/drive/MyDrive/Images/cars/b5fa72ac22.jpg\n",
            "SUCCESS - saved https://encrypted-tbn0.gstatic.com/images?q=tbn:ANd9GcSVgrxrfIhE1tAcTeedElQKTJD8QWCeCKwI4g&usqp=CAU - as /content/drive/MyDrive/Images/cars/c1622f1da2.jpg\n",
            "SUCCESS - saved https://encrypted-tbn0.gstatic.com/images?q=tbn:ANd9GcRd3FptGbnYq3KbNxMetZkPwe-0YK24drKj0w&usqp=CAU - as /content/drive/MyDrive/Images/cars/73cff08b4a.jpg\n",
            "SUCCESS - saved https://cdn.luxe.digital/media/2020/12/15110747/fastest-cars-world-2021-luxe-digital%402x.jpg - as /content/drive/MyDrive/Images/cars/963edc0c98.jpg\n",
            "SUCCESS - saved http://prod-upp-image-read.ft.com/a4e8f394-313b-11ea-a329-0bcf87a328f2 - as /content/drive/MyDrive/Images/cars/2c0526026a.jpg\n",
            "SUCCESS - saved https://hips.hearstapps.com/hmg-prod.s3.amazonaws.com/images/10best-cars-group-cropped-1542126037.jpg?crop=1.00xw:0.822xh;0,0.152xh&resize=1200:* - as /content/drive/MyDrive/Images/cars/f30b95cdf5.jpg\n",
            "SUCCESS - saved https://encrypted-tbn0.gstatic.com/images?q=tbn:ANd9GcTyrktUEjGQqpHKSY_Y4gw9BOwSvzC9x805Bg&usqp=CAU - as /content/drive/MyDrive/Images/cars/269885aab6.jpg\n",
            "SUCCESS - saved https://encrypted-tbn0.gstatic.com/images?q=tbn:ANd9GcT6MoNCVMpZd3u0tnHn8JORVZnlhjyEGvZf0g&usqp=CAU - as /content/drive/MyDrive/Images/cars/c6abdd5ec1.jpg\n",
            "SUCCESS - saved https://platform.cstatic-images.com/in/v2/stock_photos/098efaf1-e69d-41d1-bb0f-48dcbf595942/ec1b2160-0a74-4714-99e6-8dcaf1a3ada1.png - as /content/drive/MyDrive/Images/cars/2fc4adef78.jpg\n",
            "SUCCESS - saved https://encrypted-tbn0.gstatic.com/images?q=tbn:ANd9GcS2X4a4J-Q7zVHxk0NCiyzxtDjATmYajX3ycA&usqp=CAU - as /content/drive/MyDrive/Images/cars/d3d5f73462.jpg\n",
            "SUCCESS - saved https://encrypted-tbn0.gstatic.com/images?q=tbn:ANd9GcS8Wx56tNXD9_qV3cKbzzpi0OiYyUSfYS9tsA&usqp=CAU - as /content/drive/MyDrive/Images/cars/3e8c2c63cc.jpg\n"
          ]
        },
        {
          "metadata": {
            "tags": null
          },
          "name": "stderr",
          "output_type": "stream",
          "text": [
            "/usr/local/lib/python3.7/dist-packages/PIL/Image.py:960: UserWarning: Palette images with Transparency expressed in bytes should be converted to RGBA images\n",
            "  \"Palette images with Transparency expressed in bytes should be \"\n"
          ]
        },
        {
          "output_type": "stream",
          "name": "stdout",
          "text": [
            "SUCCESS - saved https://pragaglobal.com/wp-content/themes/praga/assets/img/home/r1-home.png - as /content/drive/MyDrive/Images/cars/d9eb180251.jpg\n",
            "SUCCESS - saved https://cdn.motor1.com/images/mgl/Q0gy8/s1/2020-new-models-guide-lead.webp - as /content/drive/MyDrive/Images/cars/f07848368e.jpg\n",
            "SUCCESS - saved https://media.wired.com/photos/5fd7ff52e0d489b7b9fd2e33/1:1/w_2400,c_limit/Business-MustangE-ERA04140.jpg - as /content/drive/MyDrive/Images/cars/b481272b3c.jpg\n",
            "SUCCESS - saved https://www.motortrend.com/uploads/sites/5/2019/12/MotorTrend-Most-Important-Cars-of-the-Decade.jpg - as /content/drive/MyDrive/Images/cars/9be067e6ee.jpg\n",
            "SUCCESS - saved https://platform.cstatic-images.com/in/v2/stock_photos/098efaf1-e69d-41d1-bb0f-48dcbf595942/975893da-31c1-4ce7-95a2-d3af46d3b908.png - as /content/drive/MyDrive/Images/cars/6a76f42f88.jpg\n",
            "SUCCESS - saved https://www.cars.com/images/trending_content/ford-mustang-mach-e-2021-02-angle--dynamic--exterior--front--red--wheel-oem-65f5ec1a292580937df4908c2c988adf.jpg?vsn=d - as /content/drive/MyDrive/Images/cars/5a3097e33e.jpg\n",
            "SUCCESS - saved https://encrypted-tbn0.gstatic.com/images?q=tbn:ANd9GcRAB7kg-BzgmUKqi4Vm7_y93lcrv0YaHc-9QA&usqp=CAU - as /content/drive/MyDrive/Images/cars/0921e0c33c.jpg\n",
            "SUCCESS - saved https://encrypted-tbn0.gstatic.com/images?q=tbn:ANd9GcTwHYa6a32-R2LJTBROqK0iessS12xPC5dATA&usqp=CAU - as /content/drive/MyDrive/Images/cars/695bcab5b3.jpg\n",
            "SUCCESS - saved https://encrypted-tbn0.gstatic.com/images?q=tbn:ANd9GcRzF63HgHASfQZZkvvM9hNOqhtrivMI_65VCg&usqp=CAU - as /content/drive/MyDrive/Images/cars/cb38a60cca.jpg\n",
            "SUCCESS - saved https://encrypted-tbn0.gstatic.com/images?q=tbn:ANd9GcR0RH3CjFt4bVDpgqpoNsZKRoXu2GgfHulhvw&usqp=CAU - as /content/drive/MyDrive/Images/cars/1cd619a413.jpg\n",
            "SUCCESS - saved https://www.autocar.co.uk/sites/autocar.co.uk/files/images/car-reviews/first-drives/legacy/1_rangerover_tracking.jpg - as /content/drive/MyDrive/Images/cars/698464c89a.jpg\n",
            "SUCCESS - saved https://cdn.motor1.com/images/mgl/mrz1e/s1/coolest-cars-feature.webp - as /content/drive/MyDrive/Images/cars/a4f7c9d275.jpg\n",
            "SUCCESS - saved https://encrypted-tbn0.gstatic.com/images?q=tbn:ANd9GcSm-s75oFPuHNMQNAsCBhxBl3aqPEo5ZewNyA&usqp=CAU - as /content/drive/MyDrive/Images/cars/6f8fe82c20.jpg\n",
            "SUCCESS - saved https://images.unsplash.com/photo-1525609004556-c46c7d6cf023?ixid=MnwxMjA3fDB8MHxzZWFyY2h8M3x8Y2Fyc3xlbnwwfHwwfHw%3D&ixlib=rb-1.2.1&w=1000&q=80 - as /content/drive/MyDrive/Images/cars/7dc343046a.jpg\n",
            "SUCCESS - saved https://encrypted-tbn0.gstatic.com/images?q=tbn:ANd9GcTqaUnBv1dqQEFA_lVjksvS1L5EG8eeI374iA&usqp=CAU - as /content/drive/MyDrive/Images/cars/67584e1ae2.jpg\n",
            "SUCCESS - saved https://prod-ripcut-delivery.disney-plus.net/v1/variant/disney/90B5A5FEC84E66305926B5841C1809DCC2F1675B1B15BFC9FAD5D76E113F8B0A/scale?width=2880&aspectRatio=1.78&format=jpeg - as /content/drive/MyDrive/Images/cars/c5519c85ee.jpg\n",
            "SUCCESS - saved https://encrypted-tbn0.gstatic.com/images?q=tbn:ANd9GcQx6Y26YOjgzDm8RNQL3V0oa3ZqrYhfHmnLyA&usqp=CAU - as /content/drive/MyDrive/Images/cars/0248230632.jpg\n",
            "SUCCESS - saved https://cdn.simba-dickie-group.de/media/web-majorette/products/212053051/00/detail_zoom/street-cars-18-asst-212053051_00.jpeg?v=1584533197 - as /content/drive/MyDrive/Images/cars/2297edc503.jpg\n",
            "SUCCESS - saved https://images.cars.com/cldstatic/wp-content/uploads/best-cars-under-20K.jpg - as /content/drive/MyDrive/Images/cars/634d22bda2.jpg\n",
            "SUCCESS - saved https://images.unsplash.com/photo-1492144534655-ae79c964c9d7?ixlib=rb-1.2.1&ixid=MnwxMjA3fDB8MHxzZWFyY2h8MXx8Y2Fyc3xlbnwwfHwwfHw%3D&w=1000&q=80 - as /content/drive/MyDrive/Images/cars/9f64c9923b.jpg\n",
            "SUCCESS - saved https://www.autocar.co.uk/sites/autocar.co.uk/files/styles/gallery_slide/public/images/car-reviews/first-drives/legacy/98_-_fastest_accelerating_road_cars_-_ferrari_f8_tributo.jpg?itok=K_MW2s7l - as /content/drive/MyDrive/Images/cars/3ffa5a7319.jpg\n",
            "SUCCESS - saved https://hips.hearstapps.com/hmg-prod.s3.amazonaws.com/images/dead-cars-2-illustration-web-by-ryan-olbrysh-1595946902.jpg - as /content/drive/MyDrive/Images/cars/fcf79479f4.jpg\n",
            "SUCCESS - saved https://encrypted-tbn0.gstatic.com/images?q=tbn:ANd9GcTgKXGC-zVDbFHUlsc3wQpmXl0XpQqeZazRog&usqp=CAU - as /content/drive/MyDrive/Images/cars/56aad95518.jpg\n",
            "SUCCESS - saved https://hips.hearstapps.com/hmg-prod.s3.amazonaws.com/images/2022-chevrolet-corvette-z06-1607016574.jpg?crop=0.737xw:0.738xh;0.181xw,0.218xh&resize=640:* - as /content/drive/MyDrive/Images/cars/4de8d9c3bd.jpg\n",
            "SUCCESS - saved https://encrypted-tbn0.gstatic.com/images?q=tbn:ANd9GcSyMurcEluQ5blOUZgaUN_RAAsFJYgp37mLXQ&usqp=CAU - as /content/drive/MyDrive/Images/cars/917dfe663c.jpg\n",
            "SUCCESS - saved https://encrypted-tbn0.gstatic.com/images?q=tbn:ANd9GcScl35aIvlHGvOXGSeiZ-Ru6ur4MJ7DcRGbAA&usqp=CAU - as /content/drive/MyDrive/Images/cars/20ca7f7be1.jpg\n",
            "SUCCESS - saved https://cdn.alzashop.com/ImgW.ashx?fd=f16&cd=HRAif13906 - as /content/drive/MyDrive/Images/cars/5c4bdc109d.jpg\n",
            "SUCCESS - saved https://encrypted-tbn0.gstatic.com/images?q=tbn:ANd9GcSeiUy2XO2UMy9OVhMEg8U5G9v_9l6vJKoMOw&usqp=CAU - as /content/drive/MyDrive/Images/cars/c562bb9eb6.jpg\n",
            "SUCCESS - saved https://encrypted-tbn0.gstatic.com/images?q=tbn:ANd9GcTlNSJr4osPjPmXwdkRaTX67GQOj4Ao8mSYmw&usqp=CAU - as /content/drive/MyDrive/Images/cars/ffee8d1cfc.jpg\n",
            "SUCCESS - saved https://i.ytimg.com/vi/dip_8dmrcaU/hq720.jpg?sqp=-oaymwEhCK4FEIIDSFryq4qpAxMIARUAAAAAGAElAADIQj0AgKJD&rs=AOn4CLDiKVLpV-DNq4PXYr2jNBL2mt4bqg - as /content/drive/MyDrive/Images/cars/6d6f4f7859.jpg\n",
            "SUCCESS - saved https://encrypted-tbn0.gstatic.com/images?q=tbn:ANd9GcSXYx6Yw26_Ne5C8TVWWGHx-fWFXKcAQbuKhw&usqp=CAU - as /content/drive/MyDrive/Images/cars/8134c9c617.jpg\n",
            "SUCCESS - saved https://thumbor.forbes.com/thumbor/fit-in/960x720/https://www.forbes.com/wheels/wp-content/uploads/2020/02/Opener-1.jpg - as /content/drive/MyDrive/Images/cars/ed413a4958.jpg\n",
            "SUCCESS - saved https://resizing.flixster.com/kxejUSFjS4mtH8RTMhPaRSG_kp0=/740x380/v2/https://statcdn.fandango.com/MPX/image/NBCU_Fandango/459/359/thumb_B33AE747-184C-4B10-8EEF-4CA4D29F14BA.jpg - as /content/drive/MyDrive/Images/cars/4d087fa742.jpg\n",
            "SUCCESS - saved https://encrypted-tbn0.gstatic.com/images?q=tbn:ANd9GcTcTeeExgl-L_gUpqXS3QEexczQsOxlizWSVQ&usqp=CAU - as /content/drive/MyDrive/Images/cars/d5b2da393e.jpg\n",
            "SUCCESS - saved https://hips.hearstapps.com/hmg-prod.s3.amazonaws.com/images/new-ghost-white-fr-3-4-1-1598911711.jpg - as /content/drive/MyDrive/Images/cars/19e818d13e.jpg\n",
            "SUCCESS - saved https://hips.hearstapps.com/hmg-prod.s3.amazonaws.com/images/cars-sit-on-the-lot-at-the-mcgrath-honda-dealership-on-news-photo-1620243034. - as /content/drive/MyDrive/Images/cars/febb822839.jpg\n",
            "SUCCESS - saved https://images-na.ssl-images-amazon.com/images/S/pv-target-images/7670653be977daffc2379a8f74916d628b430af7e67d8b5bee7a5169e1630af1._SX1080_.jpg - as /content/drive/MyDrive/Images/cars/d6cba07a01.jpg\n",
            "SUCCESS - saved https://i.insider.com/550cbf03ecad04de2c7c008a?width=1200&format=jpeg - as /content/drive/MyDrive/Images/cars/d4a26fa488.jpg\n",
            "SUCCESS - saved https://encrypted-tbn0.gstatic.com/images?q=tbn:ANd9GcTQjFcOsHo5tCzy367Ot3CZDD_FUtiJHtWYBQ&usqp=CAU - as /content/drive/MyDrive/Images/cars/7cd406f35a.jpg\n",
            "SUCCESS - saved https://encrypted-tbn0.gstatic.com/images?q=tbn:ANd9GcQO-xWpjuKeWFY-eQlnsshlpjTB_HsDEfXE_A&usqp=CAU - as /content/drive/MyDrive/Images/cars/8f4c2974f8.jpg\n",
            "SUCCESS - saved https://encrypted-tbn0.gstatic.com/images?q=tbn:ANd9GcRy-42N8lXq0iq4vsFzQZ2TqGZ4JptGS8NXZQ&usqp=CAU - as /content/drive/MyDrive/Images/cars/beed56e892.jpg\n",
            "SUCCESS - saved https://encrypted-tbn0.gstatic.com/images?q=tbn:ANd9GcQ0_RHMYSf7O3iUe55M0Th_1__eGixl0uSAuA&usqp=CAU - as /content/drive/MyDrive/Images/cars/f6fb9b57f2.jpg\n",
            "SUCCESS - saved https://cdn-ds.com/stock/2020-Chevrolet-Corvette-Stingray-CAMTARGA-ROOFPARK-ASSTHID-LIGHTS-Plano-TX/seo/VAMP10298-1G1Y62D44L5116361/sz_66819/w_458/h_343/71905a548030e694a7a9dd928e373cd7.jpg - as /content/drive/MyDrive/Images/cars/ec84a03d45.jpg\n",
            "SUCCESS - saved https://thumbor.forbes.com/thumbor/960x0/https%3A%2F%2Fspecials-images.forbesimg.com%2Fimageserve%2F5d35eacaf1176b0008974b54%2F2020-Chevrolet-Corvette-Stingray%2F960x0.jpg%3FcropX1%3D790%26cropX2%3D5350%26cropY1%3D784%26cropY2%3D3349 - as /content/drive/MyDrive/Images/cars/bf9275e507.jpg\n",
            "SUCCESS - saved https://encrypted-tbn0.gstatic.com/images?q=tbn:ANd9GcSPTXYOJCG-NmDxyu_Rzo6oO5OMgCdRWgTkkA&usqp=CAU - as /content/drive/MyDrive/Images/cars/1ef47c6f46.jpg\n",
            "SUCCESS - saved https://www.motortrend.com/uploads/sites/11/2019/07/Lotus-16.jpg - as /content/drive/MyDrive/Images/cars/53bc9190df.jpg\n",
            "SUCCESS - saved https://encrypted-tbn0.gstatic.com/images?q=tbn:ANd9GcQEl0f0IAmqkFkSjLPFCY7seeDnbCSLAf8-pA&usqp=CAU - as /content/drive/MyDrive/Images/cars/a86a701445.jpg\n",
            "SUCCESS - saved https://image.cnbcfm.com/api/v1/image/106845268-1614203269431-AppleCar_YT_Thumbnail_Option.png?v=1614203346 - as /content/drive/MyDrive/Images/cars/84dbeb38af.jpg\n",
            "SUCCESS - saved https://images.cars.com/cldstatic/wp-content/uploads/ford-f-150-2021-01-angle-blue-exterior-dynamic-front.jpg - as /content/drive/MyDrive/Images/cars/e18e020806.jpg\n",
            "SUCCESS - saved https://images.cars.com/cldstatic/wp-content/uploads/best-cars-under-10K.jpg - as /content/drive/MyDrive/Images/cars/e0e8c09465.jpg\n",
            "SUCCESS - saved https://encrypted-tbn0.gstatic.com/images?q=tbn:ANd9GcT5CKkp3-UTSnYhe-9itKe_8tuvaQyOS23KYg&usqp=CAU - as /content/drive/MyDrive/Images/cars/8191219a45.jpg\n",
            "SUCCESS - saved https://static01.nyt.com/images/2020/03/05/multimedia/05sp-EUROPEAN-INYT1/05sp-EUROPEAN-INYT1-mediumSquareAt3X-v3.jpg - as /content/drive/MyDrive/Images/cars/bd1fe40faa.jpg\n",
            "SUCCESS - saved https://encrypted-tbn0.gstatic.com/images?q=tbn:ANd9GcSlpGoItMqWkOmfAKHTEtI1wIiTb7GTvaqmkA&usqp=CAU - as /content/drive/MyDrive/Images/cars/32eee21da4.jpg\n",
            "SUCCESS - saved https://encrypted-tbn0.gstatic.com/images?q=tbn:ANd9GcR8zcKEKwNGX_-TjbxAQPubcbnR54X49hCUBA&usqp=CAU - as /content/drive/MyDrive/Images/cars/8884605111.jpg\n",
            "SUCCESS - saved https://thumbor.forbes.com/thumbor/fit-in/960x720/filters:format(jpg)/https://www.forbes.com/wheels/wp-content/uploads/2020/12/Nissan-zproto-400z-960x540-1.png - as /content/drive/MyDrive/Images/cars/e09cca64d6.jpg\n",
            "SUCCESS - saved https://cdn.jdpower.com/JDPA_2020%20Cadillac%20CT5%20Luxury%20Sedan.jpg - as /content/drive/MyDrive/Images/cars/7babc0ad74.jpg\n",
            "SUCCESS - saved https://ichef.bbci.co.uk/news/976/cpsprodpb/1517/production/_118699350_gettyimages-1199242135.jpg - as /content/drive/MyDrive/Images/cars/259e395e73.jpg\n",
            "SUCCESS - saved https://encrypted-tbn0.gstatic.com/images?q=tbn:ANd9GcRDYzDboMxTT295NonSz3TXIXwg-c9Xrj98_A&usqp=CAU - as /content/drive/MyDrive/Images/cars/29536a53a1.jpg\n",
            "SUCCESS - saved https://encrypted-tbn0.gstatic.com/images?q=tbn:ANd9GcQPt8U7ZoAukQNOPAMntydydWWXUHGPj0LpxA&usqp=CAU - as /content/drive/MyDrive/Images/cars/46ecf84626.jpg\n",
            "SUCCESS - saved https://lumiere-a.akamaihd.net/v1/images/r_carsfranchise_cars3_postbluray_mobile_10d32ee1.jpeg?region=0%2C0%2C640%2C320 - as /content/drive/MyDrive/Images/cars/545b46984f.jpg\n",
            "SUCCESS - saved https://www.boundless.co.uk/-/media/Images/Articles/100%20best%20classic%20cars/Best-classic-cars-Delorean-and-Maclaren-GTR.ashx?mw=640&hash=8AA7C462B1F1BC76A57F9C9A2CCB96D2 - as /content/drive/MyDrive/Images/cars/ffba463fbe.jpg\n",
            "SUCCESS - saved https://media.wired.com/photos/5d09594a62bcb0c9752779d9/master/pass/Transpo_G70_TA-518126.jpg - as /content/drive/MyDrive/Images/cars/b1036272c2.jpg\n",
            "ERROR - Could not save https://www.focus2move.com/wp-content/uploads/2020/08/Tesla-Roadster-2020-1024-03.jpg - cannot identify image file <_io.BytesIO object at 0x7f35181bc350>\n",
            "SUCCESS - saved https://encrypted-tbn0.gstatic.com/images?q=tbn:ANd9GcTsrYZ8FpwbKRzyuPzYY778qdzRcnXYf90D5Q&usqp=CAU - as /content/drive/MyDrive/Images/cars/49c4e7c293.jpg\n",
            "SUCCESS - saved https://www.autocar.co.uk/sites/autocar.co.uk/files/styles/body-image/public/99-mclaren-artura.jpg?itok=4TRUIJP_ - as /content/drive/MyDrive/Images/cars/a8d76df17d.jpg\n",
            "SUCCESS - saved https://hips.hearstapps.com/amv-prod-gp.s3.amazonaws.com/gearpatrol/wp-content/uploads/2019/10/Buy-a-Kia-Telluride-Instead-gear-patrol-slide-1.jpg?crop=0.620xw:0.919xh;0.293xw,0.0813xh&resize=640:* - as /content/drive/MyDrive/Images/cars/5cf2847ca6.jpg\n"
          ]
        }
      ]
    },
    {
      "cell_type": "markdown",
      "metadata": {
        "id": "pOapSSXRID7L"
      },
      "source": [
        "### 4. Write a python program to search for a smartphone(e.g.: Oneplus Nord, pixel 4A, etc.) on www.flipkart.com and scrape following details for all the search results displayed on 1st page.Details to be scraped: “Brand Name”, “Smartphone name”, “Colour”, “RAM”, “Storage(ROM)”, “Primary Camera”, “Secondary Camera”, “Display Size”, “Display Resolution”, “Processor”, “Processor Cores”, “Battery Capacity”, “Price”, “Product URL”. Incase if any of the details is missing then replace it by “- “. Save your results in a dataframe and CSV."
      ]
    },
    {
      "cell_type": "code",
      "metadata": {
        "id": "4XSSLrFjID7M",
        "colab": {
          "base_uri": "https://localhost:8080/"
        },
        "outputId": "63bc7291-532b-41cc-8a00-76b3820fe079"
      },
      "source": [
        "#connecting to the webdriver\n",
        "chrome_options = webdriver.ChromeOptions()\n",
        "chrome_options.add_argument('--headless')\n",
        "chrome_options.add_argument('--no-sandbox')\n",
        "chrome_options.add_argument('--disable-dev-shm-usage')\n",
        "driver= webdriver.Chrome('chromedriver',chrome_options=chrome_options)"
      ],
      "execution_count": null,
      "outputs": [
        {
          "output_type": "stream",
          "name": "stderr",
          "text": [
            "/usr/local/lib/python3.7/dist-packages/ipykernel_launcher.py:6: DeprecationWarning: use options instead of chrome_options\n",
            "  \n"
          ]
        }
      ]
    },
    {
      "cell_type": "code",
      "metadata": {
        "id": "C8VWnTfJID7M"
      },
      "source": [
        "#specifying the url of the webpage to be scraped\n",
        "url=\"https://www.flipkart.com/\""
      ],
      "execution_count": null,
      "outputs": []
    },
    {
      "cell_type": "code",
      "metadata": {
        "id": "xagOmIe0ID7N"
      },
      "source": [
        "#opening the webpage through our driver\n",
        "driver.get(url)"
      ],
      "execution_count": null,
      "outputs": []
    },
    {
      "cell_type": "code",
      "metadata": {
        "id": "6txjWMSeID7N",
        "colab": {
          "base_uri": "https://localhost:8080/"
        },
        "outputId": "748f467a-20ac-4750-8495-a28cda438509"
      },
      "source": [
        "# Taking input from user \n",
        "search_string = input(\"Input the string you want to search for:\")\n",
        "\n",
        "#generate a url from search string\n",
        "url= driver.get(\"https://www.flipkart.com/search?q=\"+search_string+\"&as=on&as-show=on&otracker=AS_Query_OrganicAutoSuggest_4_8_na_na_ps&otracker1=AS_Query_OrganicAutoSuggest_4_8_na_na_ps&as-pos=4&as-type=RECENT&suggestionId=samsung+m31&requestId=5c8b7098-e268-4146-b626-2617dd872a64&as-searchtext=samsung%20\")"
      ],
      "execution_count": null,
      "outputs": [
        {
          "name": "stdout",
          "output_type": "stream",
          "text": [
            "Input the string you want to search for:Asus Smartphone\n"
          ]
        }
      ]
    },
    {
      "cell_type": "code",
      "metadata": {
        "id": "Vmrgqh-7ID7N"
      },
      "source": [
        "#getting the list of url of samsung m31\n",
        "Phone_URL=[]\n",
        "\n",
        "\n",
        "phone=driver.find_elements_by_xpath(\"//div[@class='_2kHMtA']\")\n",
        "for i in phone:\n",
        "    phone1=i.find_element_by_tag_name(\"a\")\n",
        "    Phone_URL.append(phone1.get_attribute('href'))"
      ],
      "execution_count": null,
      "outputs": []
    },
    {
      "cell_type": "code",
      "metadata": {
        "id": "RLvEJ4kaID7O",
        "colab": {
          "base_uri": "https://localhost:8080/"
        },
        "outputId": "723f947d-7a69-4704-e62c-6e6d591ebf83"
      },
      "source": [
        "Phone_URL"
      ],
      "execution_count": null,
      "outputs": [
        {
          "output_type": "execute_result",
          "data": {
            "text/plain": [
              "['https://www.flipkart.com/asus-rog-phone-5-black-128-gb/p/itm8e381f6b8521f?pid=MOBGYSZM3YT4ZEGZ&lid=LSTMOBGYSZM3YT4ZEGZ1EAFGM&marketplace=FLIPKART&q=Asus+Smartphone&store=tyy%2F4io&srno=s_1_1&otracker=AS_Query_OrganicAutoSuggest_4_8_na_na_ps&otracker1=AS_Query_OrganicAutoSuggest_4_8_na_na_ps&fm=organic&iid=00dd583a-f3bf-482c-ae8d-86a75c6380af.MOBGYSZM3YT4ZEGZ.SEARCH&ppt=None&ppn=None&ssid=muymdqkfbk0000001632738493955&qH=c85b16aa0cf82993',\n",
              " 'https://www.flipkart.com/asus-rog-phone-3-black-128-gb/p/itmf8623d755871d?pid=MOBFUXPBV3TFMPAH&lid=LSTMOBFUXPBV3TFMPAH63D3RA&marketplace=FLIPKART&q=Asus+Smartphone&store=tyy%2F4io&srno=s_1_2&otracker=AS_Query_OrganicAutoSuggest_4_8_na_na_ps&otracker1=AS_Query_OrganicAutoSuggest_4_8_na_na_ps&fm=organic&iid=00dd583a-f3bf-482c-ae8d-86a75c6380af.MOBFUXPBV3TFMPAH.SEARCH&ppt=None&ppn=None&ssid=muymdqkfbk0000001632738493955&qH=c85b16aa0cf82993',\n",
              " 'https://www.flipkart.com/asus-rog-phone-3-black-128-gb/p/itm93ba84fa7cce9?pid=MOBFTHGZEYPWHGHE&lid=LSTMOBFTHGZEYPWHGHE6FE3GU&marketplace=FLIPKART&q=Asus+Smartphone&store=tyy%2F4io&srno=s_1_3&otracker=AS_Query_OrganicAutoSuggest_4_8_na_na_ps&otracker1=AS_Query_OrganicAutoSuggest_4_8_na_na_ps&fm=organic&iid=00dd583a-f3bf-482c-ae8d-86a75c6380af.MOBFTHGZEYPWHGHE.SEARCH&ppt=None&ppn=None&ssid=muymdqkfbk0000001632738493955&qH=c85b16aa0cf82993',\n",
              " 'https://www.flipkart.com/asus-zenfone-5z-midnight-blue-128-gb/p/itmf5g47reyumstg?pid=MOBF5G47CSQGGRCX&lid=LSTMOBF5G47CSQGGRCX0L48BE&marketplace=FLIPKART&q=Asus+Smartphone&store=tyy%2F4io&srno=s_1_4&otracker=AS_Query_OrganicAutoSuggest_4_8_na_na_ps&otracker1=AS_Query_OrganicAutoSuggest_4_8_na_na_ps&fm=organic&iid=00dd583a-f3bf-482c-ae8d-86a75c6380af.MOBF5G47CSQGGRCX.SEARCH&ppt=None&ppn=None&ssid=muymdqkfbk0000001632738493955&qH=c85b16aa0cf82993',\n",
              " 'https://www.flipkart.com/asus-6z-black-64-gb/p/itmfg5hgqf3hwaj4?pid=MOBFG5HF4AG4DWYT&lid=LSTMOBFG5HF4AG4DWYTMJUBLX&marketplace=FLIPKART&q=Asus+Smartphone&store=tyy%2F4io&srno=s_1_5&otracker=AS_Query_OrganicAutoSuggest_4_8_na_na_ps&otracker1=AS_Query_OrganicAutoSuggest_4_8_na_na_ps&fm=organic&iid=00dd583a-f3bf-482c-ae8d-86a75c6380af.MOBFG5HF4AG4DWYT.SEARCH&ppt=None&ppn=None&ssid=muymdqkfbk0000001632738493955&qH=c85b16aa0cf82993',\n",
              " 'https://www.flipkart.com/asus-zenfone-2-laser-ze500kl-black-16-gb/p/itme9j58rmfu8hje?pid=MOBE9J58KGKA8JHX&lid=LSTMOBE9J58KGKA8JHXOBFHJJ&marketplace=FLIPKART&q=Asus+Smartphone&store=tyy%2F4io&srno=s_1_6&otracker=AS_Query_OrganicAutoSuggest_4_8_na_na_ps&otracker1=AS_Query_OrganicAutoSuggest_4_8_na_na_ps&fm=organic&iid=00dd583a-f3bf-482c-ae8d-86a75c6380af.MOBE9J58KGKA8JHX.SEARCH&ppt=None&ppn=None&ssid=muymdqkfbk0000001632738493955&qH=c85b16aa0cf82993',\n",
              " 'https://www.flipkart.com/asus-zenfone-5z-meteor-silver-128-gb/p/itmf5g47gv3n7zxy?pid=MOBF5G47FNTNGXXE&lid=LSTMOBF5G47FNTNGXXEKEBPMQ&marketplace=FLIPKART&q=Asus+Smartphone&store=tyy%2F4io&srno=s_1_7&otracker=AS_Query_OrganicAutoSuggest_4_8_na_na_ps&otracker1=AS_Query_OrganicAutoSuggest_4_8_na_na_ps&fm=organic&iid=00dd583a-f3bf-482c-ae8d-86a75c6380af.MOBF5G47FNTNGXXE.SEARCH&ppt=None&ppn=None&ssid=muymdqkfbk0000001632738493955&qH=c85b16aa0cf82993',\n",
              " 'https://www.flipkart.com/asus-zenfone-max-m2-silver-64-gb/p/itmfdwgbzkrpfw7m?pid=MOBFDWGBMTZUNGNG&lid=LSTMOBFDWGBMTZUNGNGQNDDLS&marketplace=FLIPKART&q=Asus+Smartphone&store=tyy%2F4io&srno=s_1_8&otracker=AS_Query_OrganicAutoSuggest_4_8_na_na_ps&otracker1=AS_Query_OrganicAutoSuggest_4_8_na_na_ps&fm=organic&iid=00dd583a-f3bf-482c-ae8d-86a75c6380af.MOBFDWGBMTZUNGNG.SEARCH&ppt=None&ppn=None&ssid=muymdqkfbk0000001632738493955&qH=c85b16aa0cf82993',\n",
              " 'https://www.flipkart.com/asus-zenfone-go-silver-8-gb/p/itmehpghbyhmdb6z?pid=MOBEHPGHZ4FNPYBH&lid=LSTMOBEHPGHZ4FNPYBHSAAGYT&marketplace=FLIPKART&q=Asus+Smartphone&store=tyy%2F4io&srno=s_1_9&otracker=AS_Query_OrganicAutoSuggest_4_8_na_na_ps&otracker1=AS_Query_OrganicAutoSuggest_4_8_na_na_ps&fm=organic&iid=00dd583a-f3bf-482c-ae8d-86a75c6380af.MOBEHPGHZ4FNPYBH.SEARCH&ppt=None&ppn=None&ssid=muymdqkfbk0000001632738493955&qH=c85b16aa0cf82993',\n",
              " 'https://www.flipkart.com/asus-zenfone-lite-l1-black-16-gb/p/itmf9fgsmsht5qhs?pid=MOBF9FGSVUKTU8GH&lid=LSTMOBF9FGSVUKTU8GHVUCIAD&marketplace=FLIPKART&q=Asus+Smartphone&store=tyy%2F4io&srno=s_1_10&otracker=AS_Query_OrganicAutoSuggest_4_8_na_na_ps&otracker1=AS_Query_OrganicAutoSuggest_4_8_na_na_ps&fm=organic&iid=00dd583a-f3bf-482c-ae8d-86a75c6380af.MOBF9FGSVUKTU8GH.SEARCH&ppt=None&ppn=None&ssid=muymdqkfbk0000001632738493955&qH=c85b16aa0cf82993',\n",
              " 'https://www.flipkart.com/asus-zenfone-go-5-5-gold-32-gb/p/itmey6zzakamrdpb?pid=MOBEXTSGNZZYRQNB&lid=LSTMOBEXTSGNZZYRQNBOMK0TY&marketplace=FLIPKART&q=Asus+Smartphone&store=tyy%2F4io&srno=s_1_11&otracker=AS_Query_OrganicAutoSuggest_4_8_na_na_ps&otracker1=AS_Query_OrganicAutoSuggest_4_8_na_na_ps&fm=organic&iid=00dd583a-f3bf-482c-ae8d-86a75c6380af.MOBEXTSGNZZYRQNB.SEARCH&ppt=None&ppn=None&ssid=muymdqkfbk0000001632738493955&qH=c85b16aa0cf82993',\n",
              " 'https://www.flipkart.com/asus-zenfone-go-3rd-gen-gold-16-gb/p/itmezdm6zawh4hug?pid=MOBEZDM2BD7DBNM7&lid=LSTMOBEZDM2BD7DBNM78HHYRK&marketplace=FLIPKART&q=Asus+Smartphone&store=tyy%2F4io&srno=s_1_12&otracker=AS_Query_OrganicAutoSuggest_4_8_na_na_ps&otracker1=AS_Query_OrganicAutoSuggest_4_8_na_na_ps&fm=organic&iid=00dd583a-f3bf-482c-ae8d-86a75c6380af.MOBEZDM2BD7DBNM7.SEARCH&ppt=None&ppn=None&ssid=muymdqkfbk0000001632738493955&qH=c85b16aa0cf82993',\n",
              " 'https://www.flipkart.com/asus-6z-silver-128-gb/p/itmfg5hg8adccynz?pid=MOBFG5HFNGUKZXXZ&lid=LSTMOBFG5HFNGUKZXXZYXPCVG&marketplace=FLIPKART&q=Asus+Smartphone&store=tyy%2F4io&srno=s_1_13&otracker=AS_Query_OrganicAutoSuggest_4_8_na_na_ps&otracker1=AS_Query_OrganicAutoSuggest_4_8_na_na_ps&fm=organic&iid=00dd583a-f3bf-482c-ae8d-86a75c6380af.MOBFG5HFNGUKZXXZ.SEARCH&ppt=None&ppn=None&ssid=muymdqkfbk0000001632738493955&qH=c85b16aa0cf82993',\n",
              " 'https://www.flipkart.com/asus-zenfone-max-m2-blue-32-gb/p/itmfb22ghjtyxzg6?pid=MOBFB22GCGFSFMJB&lid=LSTMOBFB22GCGFSFMJBUNEAUR&marketplace=FLIPKART&q=Asus+Smartphone&store=tyy%2F4io&srno=s_1_14&otracker=AS_Query_OrganicAutoSuggest_4_8_na_na_ps&otracker1=AS_Query_OrganicAutoSuggest_4_8_na_na_ps&fm=organic&iid=00dd583a-f3bf-482c-ae8d-86a75c6380af.MOBFB22GCGFSFMJB.SEARCH&ppt=None&ppn=None&ssid=muymdqkfbk0000001632738493955&qH=c85b16aa0cf82993',\n",
              " 'https://www.flipkart.com/asus-zenfone-go-2ndgen-red-8-gb/p/itmehpghmkapdygq?pid=MOBEHPGHQMQNFCFD&lid=LSTMOBEHPGHQMQNFCFDHV33VI&marketplace=FLIPKART&q=Asus+Smartphone&store=tyy%2F4io&srno=s_1_15&otracker=AS_Query_OrganicAutoSuggest_4_8_na_na_ps&otracker1=AS_Query_OrganicAutoSuggest_4_8_na_na_ps&fm=organic&iid=00dd583a-f3bf-482c-ae8d-86a75c6380af.MOBEHPGHQMQNFCFD.SEARCH&ppt=None&ppn=None&ssid=muymdqkfbk0000001632738493955&qH=c85b16aa0cf82993',\n",
              " 'https://www.flipkart.com/asus-rog-phone-ii-black-128-gb/p/itm99be8e028a908?pid=MOBFK5TPW6UFVZGR&lid=LSTMOBFK5TPW6UFVZGRIIBD2S&marketplace=FLIPKART&q=Asus+Smartphone&store=tyy%2F4io&srno=s_1_16&otracker=AS_Query_OrganicAutoSuggest_4_8_na_na_ps&otracker1=AS_Query_OrganicAutoSuggest_4_8_na_na_ps&fm=organic&iid=00dd583a-f3bf-482c-ae8d-86a75c6380af.MOBFK5TPW6UFVZGR.SEARCH&ppt=None&ppn=None&ssid=muymdqkfbk0000001632738493955&qH=c85b16aa0cf82993',\n",
              " 'https://www.flipkart.com/asus-rog-phone-5-black-256-gb/p/itm3dcf9645d7a01?pid=MOBGYSZMBEHU2GTF&lid=LSTMOBGYSZMBEHU2GTFA1CS5O&marketplace=FLIPKART&q=Asus+Smartphone&store=tyy%2F4io&srno=s_1_17&otracker=AS_Query_OrganicAutoSuggest_4_8_na_na_ps&otracker1=AS_Query_OrganicAutoSuggest_4_8_na_na_ps&fm=organic&iid=00dd583a-f3bf-482c-ae8d-86a75c6380af.MOBGYSZMBEHU2GTF.SEARCH&ppt=None&ppn=None&ssid=muymdqkfbk0000001632738493955&qH=c85b16aa0cf82993',\n",
              " 'https://www.flipkart.com/asus-zenfone-max-pro-m2-blue-32-gb/p/itmfb22gjfzty4am?pid=MOBFB22GBSBNYM9Y&lid=LSTMOBFB22GBSBNYM9YM5ZCNR&marketplace=FLIPKART&q=Asus+Smartphone&store=tyy%2F4io&srno=s_1_18&otracker=AS_Query_OrganicAutoSuggest_4_8_na_na_ps&otracker1=AS_Query_OrganicAutoSuggest_4_8_na_na_ps&fm=organic&iid=00dd583a-f3bf-482c-ae8d-86a75c6380af.MOBFB22GBSBNYM9Y.SEARCH&ppt=None&ppn=None&ssid=muymdqkfbk0000001632738493955&qH=c85b16aa0cf82993',\n",
              " 'https://www.flipkart.com/asus-zenfone-go-black-16-gb/p/itmexwy8hnzggzhp?pid=MOBEXS4ACPQHJGJK&lid=LSTMOBEXS4ACPQHJGJKFUR3HG&marketplace=FLIPKART&q=Asus+Smartphone&store=tyy%2F4io&srno=s_1_19&otracker=AS_Query_OrganicAutoSuggest_4_8_na_na_ps&otracker1=AS_Query_OrganicAutoSuggest_4_8_na_na_ps&fm=organic&iid=00dd583a-f3bf-482c-ae8d-86a75c6380af.MOBEXS4ACPQHJGJK.SEARCH&ppt=None&ppn=None&ssid=muymdqkfbk0000001632738493955&qH=c85b16aa0cf82993',\n",
              " 'https://www.flipkart.com/asus-zenfone-go-4-5-pink-8-gb/p/itmedhzfhujfjar4?pid=MOBEDHZFD6ZGQSJZ&lid=LSTMOBEDHZFD6ZGQSJZCQBT03&marketplace=FLIPKART&q=Asus+Smartphone&store=tyy%2F4io&srno=s_1_20&otracker=AS_Query_OrganicAutoSuggest_4_8_na_na_ps&otracker1=AS_Query_OrganicAutoSuggest_4_8_na_na_ps&fm=organic&iid=00dd583a-f3bf-482c-ae8d-86a75c6380af.MOBEDHZFD6ZGQSJZ.SEARCH&ppt=None&ppn=None&ssid=muymdqkfbk0000001632738493955&qH=c85b16aa0cf82993',\n",
              " 'https://www.flipkart.com/asus-zenfone-go-5-0-lte-2nd-gen-gold-16-gb/p/itmescrzfmg7fz3h?pid=MOBESCRFGHVWHBSC&lid=LSTMOBESCRFGHVWHBSCV3IWBA&marketplace=FLIPKART&q=Asus+Smartphone&store=tyy%2F4io&srno=s_1_21&otracker=AS_Query_OrganicAutoSuggest_4_8_na_na_ps&otracker1=AS_Query_OrganicAutoSuggest_4_8_na_na_ps&fm=organic&iid=00dd583a-f3bf-482c-ae8d-86a75c6380af.MOBESCRFGHVWHBSC.SEARCH&ppt=None&ppn=None&ssid=muymdqkfbk0000001632738493955&qH=c85b16aa0cf82993',\n",
              " 'https://www.flipkart.com/asus-zenfone-c-red-8-gb/p/itme5d99ysssvgcx?pid=MOBE4B74GVK87US8&lid=LSTMOBE4B74GVK87US8MHZ4CM&marketplace=FLIPKART&q=Asus+Smartphone&store=tyy%2F4io&srno=s_1_22&otracker=AS_Query_OrganicAutoSuggest_4_8_na_na_ps&otracker1=AS_Query_OrganicAutoSuggest_4_8_na_na_ps&fm=organic&iid=00dd583a-f3bf-482c-ae8d-86a75c6380af.MOBE4B74GVK87US8.SEARCH&ppt=None&ppn=None&ssid=muymdqkfbk0000001632738493955&qH=c85b16aa0cf82993',\n",
              " 'https://www.flipkart.com/asus-zenfone-selfie-grey-32-gb/p/itmecmazhzne6cbg?pid=MOBECMAZDPY3JZDC&lid=LSTMOBECMAZDPY3JZDCFEHW7X&marketplace=FLIPKART&q=Asus+Smartphone&store=tyy%2F4io&srno=s_1_23&otracker=AS_Query_OrganicAutoSuggest_4_8_na_na_ps&otracker1=AS_Query_OrganicAutoSuggest_4_8_na_na_ps&fm=organic&iid=00dd583a-f3bf-482c-ae8d-86a75c6380af.MOBECMAZDPY3JZDC.SEARCH&ppt=None&ppn=None&ssid=muymdqkfbk0000001632738493955&qH=c85b16aa0cf82993',\n",
              " 'https://www.flipkart.com/asus-zenfone-go-silver-8-gb/p/itmegdy5zegmrp5t?pid=MOBEGDY5ZBXYM3SG&lid=LSTMOBEGDY5ZBXYM3SGP4ISBA&marketplace=FLIPKART&q=Asus+Smartphone&store=tyy%2F4io&srno=s_1_24&otracker=AS_Query_OrganicAutoSuggest_4_8_na_na_ps&otracker1=AS_Query_OrganicAutoSuggest_4_8_na_na_ps&fm=organic&iid=00dd583a-f3bf-482c-ae8d-86a75c6380af.MOBEGDY5ZBXYM3SG.SEARCH&ppt=None&ppn=None&ssid=muymdqkfbk0000001632738493955&qH=c85b16aa0cf82993']"
            ]
          },
          "metadata": {},
          "execution_count": 218
        }
      ]
    },
    {
      "cell_type": "code",
      "metadata": {
        "id": "sEz3bxl6R0Tq",
        "colab": {
          "base_uri": "https://localhost:8080/",
          "height": 34
        },
        "outputId": "7216453c-305c-4618-dffa-0f3e8f1dfdab"
      },
      "source": [
        "colour=[]\n",
        "driver.get(Phone_URL[0])\n",
        "driver.find_element_by_xpath(\"//button[@class='_2KpZ6l _1FH0tX']\").click()\n",
        "battery=driver.find_element_by_xpath(\"//div[@class='_3dtsli']/div[2]/div/div[8]/table/tbody/tr[1]/td[2]\").text\n",
        "battery\n",
        "# for i in Colour:\n",
        "#   colour.append(i.text) /tbody/tr[2]/td[2]/ul/li"
      ],
      "execution_count": null,
      "outputs": [
        {
          "output_type": "execute_result",
          "data": {
            "application/vnd.google.colaboratory.intrinsic+json": {
              "type": "string"
            },
            "text/plain": [
              "'6000 mAh'"
            ]
          },
          "metadata": {},
          "execution_count": 219
        }
      ]
    },
    {
      "cell_type": "code",
      "metadata": {
        "id": "GmNCUXbCID7O",
        "colab": {
          "base_uri": "https://localhost:8080/"
        },
        "outputId": "4c7fb8c7-090f-4823-e77c-82946199febe"
      },
      "source": [
        "#checking the length\n",
        "len(Phone_URL)"
      ],
      "execution_count": null,
      "outputs": [
        {
          "output_type": "execute_result",
          "data": {
            "text/plain": [
              "24"
            ]
          },
          "metadata": {},
          "execution_count": 220
        }
      ]
    },
    {
      "cell_type": "code",
      "metadata": {
        "id": "ySNonoM6ID7P"
      },
      "source": [
        "#going to the url of first phone through our driver\n",
        "driver.get(Phone_URL[0])"
      ],
      "execution_count": null,
      "outputs": []
    },
    {
      "cell_type": "code",
      "metadata": {
        "id": "u21pwfE9ID7P"
      },
      "source": [
        "#creating empty lists\n",
        "\n",
        "brand_name=[]\n",
        "smartphone_name=[]\n",
        "colour=[]\n",
        "ram=[]\n",
        "rom=[]\n",
        "primary_camera=[]\n",
        "secondary_camera=[]\n",
        "display_size=[]\n",
        "display_resolution=[]\n",
        "processor=[]\n",
        "processor_cores=[]\n",
        "battery_capacity=[]\n",
        "price=[]"
      ],
      "execution_count": null,
      "outputs": []
    },
    {
      "cell_type": "code",
      "metadata": {
        "id": "hZIPTsYiID7P",
        "colab": {
          "base_uri": "https://localhost:8080/"
        },
        "outputId": "36e162f9-605d-4bee-b588-a05190b0e62f"
      },
      "source": [
        "#running a loop to extract all the required information from the Phone_URL\n",
        "from selenium.webdriver.common.by import By\n",
        "from selenium.webdriver.support.ui import WebDriverWait\n",
        "from selenium.webdriver.support import expected_conditions as EC\n",
        "from tqdm import tqdm\n",
        "for i in tqdm(Phone_URL):\n",
        "    driver.get(i)\n",
        "    driver.find_element_by_xpath(\"//button[@class='_2KpZ6l _1FH0tX']\").click()\n",
        "    \n",
        "    #try:\n",
        "    #driver.find_element_by_link_text('Read More').click()\n",
        "    #except NoSuchElementException:\n",
        "        #driver.find_element_by_css_selector('#container > div > div._2c7YLP.UtUXW0._6t1WkM._3HqJxg > div._1YokD2._2GoDe3 > div._1YokD2._3Mn1Gg.col-8-12 > div._1YokD2._3Mn1Gg > div:nth-child(4) > div > div:nth-child(2) > button').click()\n",
        "    #WebDriverWait(driver, 10).until(EC.presence_of_element_located((By.XPATH, '//button[text()=\"Read More\"]'))).click()\n",
        "    \n",
        "    try:\n",
        "        phone=driver.find_element_by_xpath('//*[@id=\"container\"]/div/div[3]/div[1]/div[2]/div[2]/div/div[1]/h1/span').text\n",
        "        smartphone_name.append(phone)\n",
        "    except NoSuchElementException:\n",
        "        smartphone_name.append(\"-\")\n",
        "    try:\n",
        "      Colour=driver.find_element_by_xpath(\"//div[@class='_3k-BhJ']/table/tbody/tr[4]/td[2]/ul/li\").text\n",
        "      colour.append(Colour)  \n",
        "    except NoSuchElementException:\n",
        "        colour.append(\"-\")\n",
        "    try:\n",
        "      RAM=driver.find_element_by_xpath(\"//div[@class='_3dtsli']/div[2]/div/div[4]/table/tbody/tr[2]/td[2]\").text\n",
        "      ram.append(RAM)\n",
        "    except NoSuchElementException:\n",
        "        ram.append(\"-\")\n",
        "        \n",
        "    try:\n",
        "      #\n",
        "      #driver.find_element_by_xpath(\"//button[@class='_2KpZ6l _1FH0tX']\").click()\n",
        "      ROM=driver.find_element_by_xpath(\"//div[@class='_3dtsli']/div[2]/div/div[4]/table/tbody/tr[1]/td[2]\").text\n",
        "      rom.append(ROM)\n",
        "    except NoSuchElementException:\n",
        "        rom.append(\"-\")\n",
        "        \n",
        "    try:\n",
        "      #\n",
        "      #driver.find_element_by_xpath(\"//button[@class='_2KpZ6l _1FH0tX']\").click()\n",
        "      prim=driver.find_element_by_xpath(\"//div[@class='_3dtsli']/div[2]/div/div[5]/table/tbody/tr[2]/td[2]\").text\n",
        "      primary_camera.append(prim)\n",
        "    except NoSuchElementException:\n",
        "        primary_camera.append(\"-\")\n",
        "        \n",
        "    try:\n",
        "        #\n",
        "        #driver.find_element_by_xpath(\"//button[@class='_2KpZ6l _1FH0tX']\").click()\n",
        "        sec=driver.find_element_by_xpath(\"//div[@class='_3dtsli']/div[2]/div/div[5]/table/tbody/tr[5]/td[2]\").text\n",
        "        secondary_camera.append(sec)\n",
        "    except NoSuchElementException:\n",
        "        secondary_camera.append(\"-\")\n",
        "        \n",
        "    try:\n",
        "        #\n",
        "        #driver.find_element_by_xpath(\"//button[@class='_2KpZ6l _1FH0tX']\").click()\n",
        "        ds=driver.find_element_by_xpath(\"//div[@class='_3dtsli']/div[2]/div/div[2]/table/tbody/tr[1]/td[2]\").text\n",
        "        display_size.append(ds)\n",
        "    except NoSuchElementException:\n",
        "        display_size.append(\"-\")\n",
        "        \n",
        "    try:\n",
        "        #\n",
        "        #driver.find_element_by_xpath(\"//button[@class='_2KpZ6l _1FH0tX']\").click()\n",
        "        drs=driver.find_element_by_xpath(\"//div[@class='_3dtsli']/div[2]/div/div[2]/table/tbody/tr[2]/td[2]\").text\n",
        "        display_resolution.append(drs)\n",
        "    except NoSuchElementException:\n",
        "        display_resolution.append(\"-\")\n",
        "        \n",
        "    try:\n",
        "          #\n",
        "          #driver.find_element_by_xpath(\"//button[@class='_2KpZ6l _1FH0tX']\").click()\n",
        "          pro_cessor=driver.find_element_by_xpath(\"//div[@class='_3dtsli']/div[2]/div/div[3]/table/tbody/tr[2]/td[2]\").text\n",
        "          processor.append(pro_cessor)\n",
        "    except NoSuchElementException:\n",
        "        processor.append(\"-\")\n",
        "        \n",
        "    try:\n",
        "        #\n",
        "        #driver.find_element_by_xpath(\"//button[@class='_2KpZ6l _1FH0tX']\").click()\n",
        "        pro_cessor_cores=driver.find_element_by_xpath(\"//div[@class='_3dtsli']/div[2]/div/div[3]/table/tbody/tr[3]/td[2]\").text\n",
        "        processor_cores.append(pro_cessor_cores)\n",
        "    except NoSuchElementException:\n",
        "        processor_cores.append(\"-\")\n",
        "        \n",
        "    try:\n",
        "        #driver.get(Phone_URL[i])\n",
        "        #driver.find_element_by_xpath(\"//button[@class='_2KpZ6l _1FH0tX']\").click()\n",
        "        batt=driver.find_element_by_xpath(\"//div[@class='_3dtsli']/div[2]/div/div[8]/table/tbody/tr[1]/td[2]\").text\n",
        "        battery_capacity.append(batt)\n",
        "    except NoSuchElementException:\n",
        "        battery_capacity.append(\"-\")\n",
        "        \n",
        "    try:\n",
        "        Price_=driver.find_element_by_css_selector('#container > div > div._2c7YLP.UtUXW0._6t1WkM._3HqJxg > div._1YokD2._2GoDe3 > div._1YokD2._3Mn1Gg.col-8-12 > div:nth-child(2) > div > div.dyC4hf > div.CEmiEU > div > div').text\n",
        "        price.append(Price_)\n",
        "    except NoSuchElementException:\n",
        "        price.append(\"-\")\n",
        "        \n",
        "    time.sleep(5)"
      ],
      "execution_count": null,
      "outputs": [
        {
          "output_type": "stream",
          "name": "stderr",
          "text": [
            "100%|██████████| 24/24 [02:56<00:00,  7.36s/it]\n"
          ]
        }
      ]
    },
    {
      "cell_type": "code",
      "metadata": {
        "id": "_hzoTB0sID7Q",
        "colab": {
          "base_uri": "https://localhost:8080/"
        },
        "outputId": "7c7cd602-7a3e-4cf0-cd11-76a800c78f20"
      },
      "source": [
        "smartphone_name"
      ],
      "execution_count": null,
      "outputs": [
        {
          "output_type": "execute_result",
          "data": {
            "text/plain": [
              "['ASUS ROG Phone 5 (Black, 128 GB)  (8 GB RAM)',\n",
              " 'ASUS ROG Phone 3 (Black, 128 GB)  (12 GB RAM)',\n",
              " 'ASUS ROG Phone 3 (Black, 128 GB)  (8 GB RAM)',\n",
              " 'ASUS ZenFone 5Z (Midnight Blue, 128 GB)  (6 GB RAM)',\n",
              " 'ASUS 6Z (Black, 64 GB)  (6 GB RAM)',\n",
              " 'ASUS Zenfone 2 Laser ZE500KL (Black, 16 GB)  (2 GB RAM)',\n",
              " 'ASUS ZenFone 5Z (Meteor Silver, 128 GB)  (6 GB RAM)',\n",
              " 'ASUS ZenFone Max M2 (Silver, 64 GB)  (4 GB RAM)',\n",
              " 'ASUS Zenfone Go (Silver, 8 GB)  (1 GB RAM)',\n",
              " 'ASUS ZenFone Lite L1 (Black, 16 GB)  (2 GB RAM)',\n",
              " 'ASUS Zenfone Go 5.5 (Gold, 32 GB)  (2 GB RAM)',\n",
              " 'ASUS Zenfone Go (3rd Gen) (Gold, 16 GB)  (2 GB RAM)',\n",
              " 'ASUS 6Z (Silver, 128 GB)  (6 GB RAM)',\n",
              " 'ASUS ZenFone Max M2 (Blue, 32 GB)  (3 GB RAM)',\n",
              " 'ASUS Zenfone Go (2nd Gen) (Red, 8 GB)  (1 GB RAM)',\n",
              " 'ASUS ROG Phone II (Black, 128 GB)  (8 GB RAM)',\n",
              " 'ASUS ROG Phone 5 (Black, 256 GB)  (12 GB RAM)',\n",
              " 'ASUS ZenFone Max Pro M2 (Blue, 32 GB)  (3 GB RAM)',\n",
              " 'ASUS Zenfone GO (Black, 16 GB)  (2 GB RAM)',\n",
              " 'ASUS Zenfone Go 4.5 (Pink, 8 GB)  (1 GB RAM)',\n",
              " 'ASUS Zenfone Go 5.0 LTE 2nd Gen (Gold, 16 GB)  (2 GB RAM)',\n",
              " 'ASUS Zenfone C (Red, 8 GB)  (1 GB RAM)',\n",
              " 'ASUS Zenfone Selfie (Grey, 32 GB)  (3 GB RAM)',\n",
              " 'ASUS Zenfone Go (Silver, 8 GB)  (1 GB RAM)']"
            ]
          },
          "metadata": {},
          "execution_count": 224
        }
      ]
    },
    {
      "cell_type": "code",
      "metadata": {
        "id": "v5Fad7NFID7Q",
        "colab": {
          "base_uri": "https://localhost:8080/"
        },
        "outputId": "02fe0c98-8c00-4e95-a395-575da423b88f"
      },
      "source": [
        "colour"
      ],
      "execution_count": null,
      "outputs": [
        {
          "output_type": "execute_result",
          "data": {
            "text/plain": [
              "['Black',\n",
              " 'Black',\n",
              " 'Black',\n",
              " 'Midnight Blue',\n",
              " 'Black',\n",
              " 'Black',\n",
              " 'Meteor Silver',\n",
              " 'Silver',\n",
              " 'Silver',\n",
              " 'Black',\n",
              " 'Gold',\n",
              " 'Gold',\n",
              " 'Silver',\n",
              " 'Blue',\n",
              " 'Red',\n",
              " 'Black',\n",
              " 'Black',\n",
              " 'Blue',\n",
              " 'Black',\n",
              " 'Pink',\n",
              " 'Gold',\n",
              " 'Red',\n",
              " 'Grey',\n",
              " 'Silver']"
            ]
          },
          "metadata": {},
          "execution_count": 225
        }
      ]
    },
    {
      "cell_type": "code",
      "metadata": {
        "id": "DTk7ZOkxID7Q",
        "colab": {
          "base_uri": "https://localhost:8080/"
        },
        "outputId": "932d1efa-1355-4980-893f-ff7699e4fb7c"
      },
      "source": [
        "ram"
      ],
      "execution_count": null,
      "outputs": [
        {
          "output_type": "execute_result",
          "data": {
            "text/plain": [
              "['8 GB',\n",
              " '12 GB',\n",
              " '8 GB',\n",
              " '6 GB',\n",
              " '6 GB',\n",
              " 'Qualcomm Snapdragon 410 MSM8916',\n",
              " '6 GB',\n",
              " '4 GB',\n",
              " '1 GB',\n",
              " '2 GB',\n",
              " '2 GB',\n",
              " '2 GB',\n",
              " '6 GB',\n",
              " '3 GB',\n",
              " '1 GB',\n",
              " '8 GB',\n",
              " '12 GB',\n",
              " '3 GB',\n",
              " '2 GB',\n",
              " '1 GB',\n",
              " '2 GB',\n",
              " '1 GB',\n",
              " '3 GB',\n",
              " '1 GB']"
            ]
          },
          "metadata": {},
          "execution_count": 226
        }
      ]
    },
    {
      "cell_type": "code",
      "metadata": {
        "id": "jYPL1OJAID7R",
        "colab": {
          "base_uri": "https://localhost:8080/"
        },
        "outputId": "51493e63-e763-4c5e-aa7e-0d6ce8cd792d"
      },
      "source": [
        "rom"
      ],
      "execution_count": null,
      "outputs": [
        {
          "output_type": "execute_result",
          "data": {
            "text/plain": [
              "['128 GB',\n",
              " '128 GB',\n",
              " '128 GB',\n",
              " '128 GB',\n",
              " '64 GB',\n",
              " 'Android Lollipop 5',\n",
              " '128 GB',\n",
              " '64 GB',\n",
              " '8 GB',\n",
              " '16 GB',\n",
              " '32 GB',\n",
              " '16 GB',\n",
              " '128 GB',\n",
              " '32 GB',\n",
              " '8 GB',\n",
              " '128 GB',\n",
              " '256 GB',\n",
              " '32 GB',\n",
              " '16 GB',\n",
              " '8 GB',\n",
              " '16 GB',\n",
              " '8 GB',\n",
              " '32 GB',\n",
              " '8 GB']"
            ]
          },
          "metadata": {},
          "execution_count": 227
        }
      ]
    },
    {
      "cell_type": "code",
      "metadata": {
        "id": "Z10iOhQ_ID7R",
        "colab": {
          "base_uri": "https://localhost:8080/"
        },
        "outputId": "04b4f1b5-0de1-46bd-94fc-c7ecc535517e"
      },
      "source": [
        "primary_camera"
      ],
      "execution_count": null,
      "outputs": [
        {
          "output_type": "execute_result",
          "data": {
            "text/plain": [
              "['64MP + 13MP + 5MP',\n",
              " '64MP + 13MP + 5MP',\n",
              " '64MP + 13MP + 5MP',\n",
              " '12MP + 8MP',\n",
              " '48MP + 13MP',\n",
              " '2 GB',\n",
              " '12MP + 8MP',\n",
              " '13MP + 2MP',\n",
              " '5MP Rear Camera',\n",
              " '13MP Rear Camera',\n",
              " 'Yes',\n",
              " '13MP Rear Camera',\n",
              " '48MP + 13MP',\n",
              " '13MP + 2MP',\n",
              " '5MP Rear Camera',\n",
              " '48MP + 13MP',\n",
              " '64MP + 13MP + 5MP',\n",
              " '12MP + 5MP',\n",
              " '13MP Rear Camera',\n",
              " '5MP Rear Camera',\n",
              " '13MP Rear Camera',\n",
              " '5MP Rear Camera',\n",
              " '13MP Rear Camera',\n",
              " '8MP Rear Camera']"
            ]
          },
          "metadata": {},
          "execution_count": 228
        }
      ]
    },
    {
      "cell_type": "code",
      "metadata": {
        "id": "_B2npB_RID7S",
        "colab": {
          "base_uri": "https://localhost:8080/"
        },
        "outputId": "2d18b39c-0ed1-4545-9f83-5135c6f98d39"
      },
      "source": [
        "secondary_camera"
      ],
      "execution_count": null,
      "outputs": [
        {
          "output_type": "execute_result",
          "data": {
            "text/plain": [
              "['24MP Front Camera',\n",
              " 'Yes',\n",
              " 'Yes',\n",
              " '8MP Front Camera',\n",
              " '48MP + 13MP Dual Front Camera',\n",
              " 'Yes',\n",
              " '8MP Front Camera',\n",
              " '8MP Front Camera',\n",
              " '0.3MP Front Camera',\n",
              " '5MP Front Camera',\n",
              " '-',\n",
              " '5MP Front Camera',\n",
              " '48MP + 13MP Dual Front Camera',\n",
              " '8MP Front Camera',\n",
              " '0.3MP Front Camera',\n",
              " 'Yes',\n",
              " '24MP Front Camera',\n",
              " '13MP Front Camera',\n",
              " '5MP Front Camera',\n",
              " '0.3MP Front Camera',\n",
              " 'Yes',\n",
              " '0.3MP Front Camera',\n",
              " '13MP Front Camera',\n",
              " '2MP Front Camera']"
            ]
          },
          "metadata": {},
          "execution_count": 229
        }
      ]
    },
    {
      "cell_type": "code",
      "metadata": {
        "id": "4ZAcV4vvID7S",
        "colab": {
          "base_uri": "https://localhost:8080/"
        },
        "outputId": "65cae860-3f71-4f13-bb9b-9c5fa85210e2"
      },
      "source": [
        "display_size"
      ],
      "execution_count": null,
      "outputs": [
        {
          "output_type": "execute_result",
          "data": {
            "text/plain": [
              "['17.22 cm (6.78 inch)',\n",
              " '16.74 cm (6.59 inch)',\n",
              " '16.74 cm (6.59 inch)',\n",
              " '15.75 cm (6.2 inch)',\n",
              " '16.23 cm (6.39 inch)',\n",
              " 'Handset, Standard USB Cable, Adapter, User Manual, Warranty Card',\n",
              " '15.75 cm (6.2 inch)',\n",
              " '15.9 cm (6.26 inch)',\n",
              " '11.43 cm (4.5 inch)',\n",
              " '13.84 cm (5.45 inch)',\n",
              " '13.97 cm (5.5 inch)',\n",
              " '13.97 cm (5.5 inch)',\n",
              " '16.23 cm (6.39 inch)',\n",
              " '15.9 cm (6.26 inch)',\n",
              " '11.43 cm (4.5 inch)',\n",
              " '16.74 cm (6.59 inch)',\n",
              " '17.22 cm (6.78 inch)',\n",
              " '15.9 cm (6.26 inch)',\n",
              " '13.97 cm (5.5 inch)',\n",
              " '11.43 cm (4.5 inch)',\n",
              " '12.7 cm (5 inch)',\n",
              " '11.43 cm (4.5 inch)',\n",
              " '13.97 cm (5.5 inch)',\n",
              " '11.43 cm (4.5 inch)']"
            ]
          },
          "metadata": {},
          "execution_count": 230
        }
      ]
    },
    {
      "cell_type": "code",
      "metadata": {
        "id": "dswTj3U3ID7S",
        "colab": {
          "base_uri": "https://localhost:8080/"
        },
        "outputId": "aec19460-ecd7-40c4-860b-dea371e03721"
      },
      "source": [
        "display_resolution"
      ],
      "execution_count": null,
      "outputs": [
        {
          "output_type": "execute_result",
          "data": {
            "text/plain": [
              "['2448 x 1080 Pixels',\n",
              " '2340 x 1080 Pixels',\n",
              " '2340 x 1080 Pixels',\n",
              " '2246 x 1080 Pixels',\n",
              " '2340 x 1080 pixels',\n",
              " 'ZE500KL-1A079WW/ ZE500KL-1A246IN',\n",
              " '2246 x 1080 Pixels',\n",
              " '1520 x 720 pixels',\n",
              " '854 x 480 Pixels',\n",
              " '1440 x 720 pixels',\n",
              " '1280 x 720 Pixels',\n",
              " '1280 x 720 Pixels',\n",
              " '2340 x 1080 pixels',\n",
              " '1520 x 720 pixels',\n",
              " '854 x 480 Pixels',\n",
              " '2340 x 1080 Pixels',\n",
              " '2448 x 1080 Pixels',\n",
              " '2280 x 1080 pixels',\n",
              " '1280 x 720',\n",
              " '480 x 854 Pixels',\n",
              " '1280 x 720 Pixels',\n",
              " '854 x 480 Pixels',\n",
              " '1920 x 1080 Pixels',\n",
              " '854 x 480 Pixels']"
            ]
          },
          "metadata": {},
          "execution_count": 231
        }
      ]
    },
    {
      "cell_type": "code",
      "metadata": {
        "id": "ZwhuRuHRID7T",
        "colab": {
          "base_uri": "https://localhost:8080/"
        },
        "outputId": "3938b7b0-0080-4249-d285-73254686b9c2"
      },
      "source": [
        "processor"
      ],
      "execution_count": null,
      "outputs": [
        {
          "output_type": "execute_result",
          "data": {
            "text/plain": [
              "['Qualcomm Snapdragon 888 (SM8350)',\n",
              " 'Qualcomm Snapdragon 865+ (SM8250)',\n",
              " 'Qualcomm Snapdragon 865+ (SM8250)',\n",
              " 'Qualcomm Snapdragon 845 Octa Core',\n",
              " 'Qualcomm SD 855',\n",
              " '1280 x 720 Pixels',\n",
              " 'Qualcomm Snapdragon 845 Octa Core',\n",
              " 'Qualcomm Snapdragon 632 Octa Core',\n",
              " 'Qualcomm Snapdragon 200',\n",
              " 'Qualcomm Snapdragon 430',\n",
              " 'Quad Core',\n",
              " 'Qualcomm Snapdradon 410 (MSM8916)',\n",
              " 'Qualcomm SD 855',\n",
              " 'Qualcomm Snapdragon 632 Octa Core',\n",
              " 'Qualcomm Snapdragon 200',\n",
              " 'Qualcomm Snapdragon 855 Plus',\n",
              " 'Qualcomm Snapdragon 888 (SM8350)',\n",
              " 'Qualcomm Snapdragon 660 Octa Core',\n",
              " 'Quad Core',\n",
              " 'MediaTek MT6580M',\n",
              " 'Quad Core',\n",
              " 'Intel Atom CloverTrail Z2520',\n",
              " 'Qualcomm Snapdragon 615 MSM8939',\n",
              " 'Qualcomm Snapdragon 200']"
            ]
          },
          "metadata": {},
          "execution_count": 232
        }
      ]
    },
    {
      "cell_type": "code",
      "metadata": {
        "id": "XdqotR58ID7T",
        "colab": {
          "base_uri": "https://localhost:8080/"
        },
        "outputId": "15d5c3c7-d629-4644-b74a-ad83ac4548bb"
      },
      "source": [
        "processor_cores"
      ],
      "execution_count": null,
      "outputs": [
        {
          "output_type": "execute_result",
          "data": {
            "text/plain": [
              "['Octa Core',\n",
              " 'Octa Core',\n",
              " 'Octa Core',\n",
              " 'Octa Core',\n",
              " 'Octa Core',\n",
              " 'HD',\n",
              " 'Octa Core',\n",
              " 'Octa Core',\n",
              " 'Quad Core',\n",
              " 'Octa Core',\n",
              " '1.4 GHz',\n",
              " 'Quad Core',\n",
              " 'Octa Core',\n",
              " 'Octa Core',\n",
              " 'Quad Core',\n",
              " 'Octa Core',\n",
              " 'Octa Core',\n",
              " 'Octa Core',\n",
              " '1.2 GHz',\n",
              " 'Quad Core',\n",
              " '1.2 GHz',\n",
              " 'Quad Core',\n",
              " 'Octa Core',\n",
              " 'Quad Core']"
            ]
          },
          "metadata": {},
          "execution_count": 233
        }
      ]
    },
    {
      "cell_type": "code",
      "metadata": {
        "id": "ZlV0RUxdID7T",
        "colab": {
          "base_uri": "https://localhost:8080/"
        },
        "outputId": "7e9fcd9a-06f4-46dd-8328-eb91d8f8e4c3"
      },
      "source": [
        "battery_capacity"
      ],
      "execution_count": null,
      "outputs": [
        {
          "output_type": "execute_result",
          "data": {
            "text/plain": [
              "['6000 mAh',\n",
              " 'Yes',\n",
              " 'Yes',\n",
              " 'Yes',\n",
              " 'Yes',\n",
              " '3G, 4G, 2G',\n",
              " 'Yes',\n",
              " 'Yes',\n",
              " 'Yes',\n",
              " '3000 mAh',\n",
              " '3010 mAh',\n",
              " '3000 mAh',\n",
              " 'Yes',\n",
              " 'Yes',\n",
              " 'Yes',\n",
              " 'Yes',\n",
              " '6000 mAh',\n",
              " 'Yes',\n",
              " 'Yes',\n",
              " 'Yes',\n",
              " 'Capacitive',\n",
              " 'Yes',\n",
              " 'Yes',\n",
              " 'Yes']"
            ]
          },
          "metadata": {},
          "execution_count": 234
        }
      ]
    },
    {
      "cell_type": "code",
      "metadata": {
        "id": "_HFCcmcnID7T",
        "colab": {
          "base_uri": "https://localhost:8080/"
        },
        "outputId": "0428a03d-416b-460d-e669-a05ad135acdb"
      },
      "source": [
        "price"
      ],
      "execution_count": null,
      "outputs": [
        {
          "output_type": "execute_result",
          "data": {
            "text/plain": [
              "['₹15,599',\n",
              " '₹36,299',\n",
              " '₹7,999',\n",
              " '₹14,999',\n",
              " '₹14,999',\n",
              " '₹5,299',\n",
              " '₹36,299',\n",
              " '₹5,299',\n",
              " '₹7,199',\n",
              " '₹6,999',\n",
              " '₹8,999',\n",
              " '₹12,999',\n",
              " '₹12,999',\n",
              " '₹5,299',\n",
              " '₹15,999',\n",
              " '₹7,199',\n",
              " '₹7,999',\n",
              " '₹5,299',\n",
              " '₹17,999',\n",
              " '₹5,699',\n",
              " '₹5,699',\n",
              " '₹6,999',\n",
              " '₹8,499',\n",
              " '₹14,999']"
            ]
          },
          "metadata": {},
          "execution_count": 195
        }
      ]
    },
    {
      "cell_type": "code",
      "metadata": {
        "id": "GaH_XYFNID7U"
      },
      "source": [
        "#extracting brand_name from smartphone_name\n",
        "brand_name = [i.split(maxsplit=1)[0] for i in smartphone_name]"
      ],
      "execution_count": null,
      "outputs": []
    },
    {
      "cell_type": "code",
      "metadata": {
        "id": "wixpNt2LID7U",
        "colab": {
          "base_uri": "https://localhost:8080/"
        },
        "outputId": "232aac00-9f0a-4d4f-e2bb-abdbe4ba78a2"
      },
      "source": [
        "brand_name"
      ],
      "execution_count": null,
      "outputs": [
        {
          "output_type": "execute_result",
          "data": {
            "text/plain": [
              "['ASUS',\n",
              " 'ASUS',\n",
              " 'ASUS',\n",
              " 'ASUS',\n",
              " 'ASUS',\n",
              " 'ASUS',\n",
              " 'ASUS',\n",
              " 'ASUS',\n",
              " 'ASUS',\n",
              " 'ASUS',\n",
              " 'ASUS',\n",
              " 'ASUS',\n",
              " 'ASUS',\n",
              " 'ASUS',\n",
              " 'ASUS',\n",
              " 'ASUS',\n",
              " 'ASUS',\n",
              " 'ASUS',\n",
              " 'ASUS',\n",
              " 'ASUS',\n",
              " 'ASUS',\n",
              " 'ASUS',\n",
              " 'ASUS',\n",
              " 'ASUS']"
            ]
          },
          "metadata": {},
          "execution_count": 241
        }
      ]
    },
    {
      "cell_type": "code",
      "metadata": {
        "id": "Tkf1H08SID7V",
        "colab": {
          "base_uri": "https://localhost:8080/"
        },
        "outputId": "f0bff0f8-1e8f-472a-d906-fdee6cda293c"
      },
      "source": [
        "#printing lengths\n",
        "print(len(brand_name),len(smartphone_name),len(colour),len(ram),len(rom),len(primary_camera),len(secondary_camera),len(display_size),len(display_resolution),len(processor),len(processor_cores),len(battery_capacity),len(price),len(Phone_URL))"
      ],
      "execution_count": null,
      "outputs": [
        {
          "output_type": "stream",
          "name": "stdout",
          "text": [
            "24 24 24 24 24 24 24 24 24 24 24 24 24 24\n"
          ]
        }
      ]
    },
    {
      "cell_type": "code",
      "metadata": {
        "id": "qASH0HqlID7V"
      },
      "source": [
        "#creating a dataframe\n",
        "\n",
        "Smartphone=pd.DataFrame({})\n",
        "Smartphone['brand_name']=brand_name\n",
        "Smartphone['smartphone_name']=smartphone_name\n",
        "Smartphone['colour']=colour\n",
        "Smartphone['Ram']=ram\n",
        "Smartphone['Rom']=rom\n",
        "Smartphone['primary_camera']=primary_camera\n",
        "Smartphone['secondary_camera']=secondary_camera\n",
        "Smartphone['display_size']=display_size\n",
        "Smartphone['display_resolution']=display_resolution\n",
        "Smartphone['processor']=processor\n",
        "Smartphone['processor_cores']=processor_cores\n",
        "Smartphone['battery_capacity']=battery_capacity\n",
        "Smartphone['price']=price\n",
        "Smartphone['Phone_URL']=Phone_URL"
      ],
      "execution_count": null,
      "outputs": []
    },
    {
      "cell_type": "code",
      "metadata": {
        "id": "tWMxC4jIID7W",
        "colab": {
          "base_uri": "https://localhost:8080/",
          "height": 1000
        },
        "outputId": "27a7912f-7931-4c41-8016-961d8cd8e2f1"
      },
      "source": [
        "Smartphone"
      ],
      "execution_count": null,
      "outputs": [
        {
          "output_type": "execute_result",
          "data": {
            "text/html": [
              "<div>\n",
              "<style scoped>\n",
              "    .dataframe tbody tr th:only-of-type {\n",
              "        vertical-align: middle;\n",
              "    }\n",
              "\n",
              "    .dataframe tbody tr th {\n",
              "        vertical-align: top;\n",
              "    }\n",
              "\n",
              "    .dataframe thead th {\n",
              "        text-align: right;\n",
              "    }\n",
              "</style>\n",
              "<table border=\"1\" class=\"dataframe\">\n",
              "  <thead>\n",
              "    <tr style=\"text-align: right;\">\n",
              "      <th></th>\n",
              "      <th>brand_name</th>\n",
              "      <th>smartphone_name</th>\n",
              "      <th>colour</th>\n",
              "      <th>Ram</th>\n",
              "      <th>Rom</th>\n",
              "      <th>primary_camera</th>\n",
              "      <th>secondary_camera</th>\n",
              "      <th>display_size</th>\n",
              "      <th>display_resolution</th>\n",
              "      <th>processor</th>\n",
              "      <th>processor_cores</th>\n",
              "      <th>battery_capacity</th>\n",
              "      <th>price</th>\n",
              "      <th>Phone_URL</th>\n",
              "    </tr>\n",
              "  </thead>\n",
              "  <tbody>\n",
              "    <tr>\n",
              "      <th>0</th>\n",
              "      <td>ASUS</td>\n",
              "      <td>ASUS ROG Phone 5 (Black, 128 GB)  (8 GB RAM)</td>\n",
              "      <td>Black</td>\n",
              "      <td>8 GB</td>\n",
              "      <td>128 GB</td>\n",
              "      <td>64MP + 13MP + 5MP</td>\n",
              "      <td>24MP Front Camera</td>\n",
              "      <td>17.22 cm (6.78 inch)</td>\n",
              "      <td>2448 x 1080 Pixels</td>\n",
              "      <td>Qualcomm Snapdragon 888 (SM8350)</td>\n",
              "      <td>Octa Core</td>\n",
              "      <td>6000 mAh</td>\n",
              "      <td>₹49,999</td>\n",
              "      <td>https://www.flipkart.com/asus-rog-phone-5-blac...</td>\n",
              "    </tr>\n",
              "    <tr>\n",
              "      <th>1</th>\n",
              "      <td>ASUS</td>\n",
              "      <td>ASUS ROG Phone 3 (Black, 128 GB)  (12 GB RAM)</td>\n",
              "      <td>Black</td>\n",
              "      <td>12 GB</td>\n",
              "      <td>128 GB</td>\n",
              "      <td>64MP + 13MP + 5MP</td>\n",
              "      <td>Yes</td>\n",
              "      <td>16.74 cm (6.59 inch)</td>\n",
              "      <td>2340 x 1080 Pixels</td>\n",
              "      <td>Qualcomm Snapdragon 865+ (SM8250)</td>\n",
              "      <td>Octa Core</td>\n",
              "      <td>Yes</td>\n",
              "      <td>₹49,999</td>\n",
              "      <td>https://www.flipkart.com/asus-rog-phone-3-blac...</td>\n",
              "    </tr>\n",
              "    <tr>\n",
              "      <th>2</th>\n",
              "      <td>ASUS</td>\n",
              "      <td>ASUS ROG Phone 3 (Black, 128 GB)  (8 GB RAM)</td>\n",
              "      <td>Black</td>\n",
              "      <td>8 GB</td>\n",
              "      <td>128 GB</td>\n",
              "      <td>64MP + 13MP + 5MP</td>\n",
              "      <td>Yes</td>\n",
              "      <td>16.74 cm (6.59 inch)</td>\n",
              "      <td>2340 x 1080 Pixels</td>\n",
              "      <td>Qualcomm Snapdragon 865+ (SM8250)</td>\n",
              "      <td>Octa Core</td>\n",
              "      <td>Yes</td>\n",
              "      <td>₹46,999</td>\n",
              "      <td>https://www.flipkart.com/asus-rog-phone-3-blac...</td>\n",
              "    </tr>\n",
              "    <tr>\n",
              "      <th>3</th>\n",
              "      <td>ASUS</td>\n",
              "      <td>ASUS ZenFone 5Z (Midnight Blue, 128 GB)  (6 GB...</td>\n",
              "      <td>Midnight Blue</td>\n",
              "      <td>6 GB</td>\n",
              "      <td>128 GB</td>\n",
              "      <td>12MP + 8MP</td>\n",
              "      <td>8MP Front Camera</td>\n",
              "      <td>15.75 cm (6.2 inch)</td>\n",
              "      <td>2246 x 1080 Pixels</td>\n",
              "      <td>Qualcomm Snapdragon 845 Octa Core</td>\n",
              "      <td>Octa Core</td>\n",
              "      <td>Yes</td>\n",
              "      <td>₹36,299</td>\n",
              "      <td>https://www.flipkart.com/asus-zenfone-5z-midni...</td>\n",
              "    </tr>\n",
              "    <tr>\n",
              "      <th>4</th>\n",
              "      <td>ASUS</td>\n",
              "      <td>ASUS 6Z (Black, 64 GB)  (6 GB RAM)</td>\n",
              "      <td>Black</td>\n",
              "      <td>6 GB</td>\n",
              "      <td>64 GB</td>\n",
              "      <td>48MP + 13MP</td>\n",
              "      <td>48MP + 13MP Dual Front Camera</td>\n",
              "      <td>16.23 cm (6.39 inch)</td>\n",
              "      <td>2340 x 1080 pixels</td>\n",
              "      <td>Qualcomm SD 855</td>\n",
              "      <td>Octa Core</td>\n",
              "      <td>Yes</td>\n",
              "      <td>₹35,999</td>\n",
              "      <td>https://www.flipkart.com/asus-6z-black-64-gb/p...</td>\n",
              "    </tr>\n",
              "    <tr>\n",
              "      <th>5</th>\n",
              "      <td>ASUS</td>\n",
              "      <td>ASUS Zenfone 2 Laser ZE500KL (Black, 16 GB)  (...</td>\n",
              "      <td>Black</td>\n",
              "      <td>Qualcomm Snapdragon 410 MSM8916</td>\n",
              "      <td>Android Lollipop 5</td>\n",
              "      <td>2 GB</td>\n",
              "      <td>Yes</td>\n",
              "      <td>Handset, Standard USB Cable, Adapter, User Man...</td>\n",
              "      <td>ZE500KL-1A079WW/ ZE500KL-1A246IN</td>\n",
              "      <td>1280 x 720 Pixels</td>\n",
              "      <td>HD</td>\n",
              "      <td>3G, 4G, 2G</td>\n",
              "      <td>₹7,999</td>\n",
              "      <td>https://www.flipkart.com/asus-zenfone-2-laser-...</td>\n",
              "    </tr>\n",
              "    <tr>\n",
              "      <th>6</th>\n",
              "      <td>ASUS</td>\n",
              "      <td>ASUS ZenFone 5Z (Meteor Silver, 128 GB)  (6 GB...</td>\n",
              "      <td>Meteor Silver</td>\n",
              "      <td>6 GB</td>\n",
              "      <td>128 GB</td>\n",
              "      <td>12MP + 8MP</td>\n",
              "      <td>8MP Front Camera</td>\n",
              "      <td>15.75 cm (6.2 inch)</td>\n",
              "      <td>2246 x 1080 Pixels</td>\n",
              "      <td>Qualcomm Snapdragon 845 Octa Core</td>\n",
              "      <td>Octa Core</td>\n",
              "      <td>Yes</td>\n",
              "      <td>₹36,299</td>\n",
              "      <td>https://www.flipkart.com/asus-zenfone-5z-meteo...</td>\n",
              "    </tr>\n",
              "    <tr>\n",
              "      <th>7</th>\n",
              "      <td>ASUS</td>\n",
              "      <td>ASUS ZenFone Max M2 (Silver, 64 GB)  (4 GB RAM)</td>\n",
              "      <td>Silver</td>\n",
              "      <td>4 GB</td>\n",
              "      <td>64 GB</td>\n",
              "      <td>13MP + 2MP</td>\n",
              "      <td>8MP Front Camera</td>\n",
              "      <td>15.9 cm (6.26 inch)</td>\n",
              "      <td>1520 x 720 pixels</td>\n",
              "      <td>Qualcomm Snapdragon 632 Octa Core</td>\n",
              "      <td>Octa Core</td>\n",
              "      <td>Yes</td>\n",
              "      <td>₹14,999</td>\n",
              "      <td>https://www.flipkart.com/asus-zenfone-max-m2-s...</td>\n",
              "    </tr>\n",
              "    <tr>\n",
              "      <th>8</th>\n",
              "      <td>ASUS</td>\n",
              "      <td>ASUS Zenfone Go (Silver, 8 GB)  (1 GB RAM)</td>\n",
              "      <td>Silver</td>\n",
              "      <td>1 GB</td>\n",
              "      <td>8 GB</td>\n",
              "      <td>5MP Rear Camera</td>\n",
              "      <td>0.3MP Front Camera</td>\n",
              "      <td>11.43 cm (4.5 inch)</td>\n",
              "      <td>854 x 480 Pixels</td>\n",
              "      <td>Qualcomm Snapdragon 200</td>\n",
              "      <td>Quad Core</td>\n",
              "      <td>Yes</td>\n",
              "      <td>₹5,299</td>\n",
              "      <td>https://www.flipkart.com/asus-zenfone-go-silve...</td>\n",
              "    </tr>\n",
              "    <tr>\n",
              "      <th>9</th>\n",
              "      <td>ASUS</td>\n",
              "      <td>ASUS ZenFone Lite L1 (Black, 16 GB)  (2 GB RAM)</td>\n",
              "      <td>Black</td>\n",
              "      <td>2 GB</td>\n",
              "      <td>16 GB</td>\n",
              "      <td>13MP Rear Camera</td>\n",
              "      <td>5MP Front Camera</td>\n",
              "      <td>13.84 cm (5.45 inch)</td>\n",
              "      <td>1440 x 720 pixels</td>\n",
              "      <td>Qualcomm Snapdragon 430</td>\n",
              "      <td>Octa Core</td>\n",
              "      <td>3000 mAh</td>\n",
              "      <td>₹7,199</td>\n",
              "      <td>https://www.flipkart.com/asus-zenfone-lite-l1-...</td>\n",
              "    </tr>\n",
              "    <tr>\n",
              "      <th>10</th>\n",
              "      <td>ASUS</td>\n",
              "      <td>ASUS Zenfone Go 5.5 (Gold, 32 GB)  (2 GB RAM)</td>\n",
              "      <td>Gold</td>\n",
              "      <td>2 GB</td>\n",
              "      <td>32 GB</td>\n",
              "      <td>Yes</td>\n",
              "      <td>-</td>\n",
              "      <td>13.97 cm (5.5 inch)</td>\n",
              "      <td>1280 x 720 Pixels</td>\n",
              "      <td>Quad Core</td>\n",
              "      <td>1.4 GHz</td>\n",
              "      <td>3010 mAh</td>\n",
              "      <td>₹6,999</td>\n",
              "      <td>https://www.flipkart.com/asus-zenfone-go-5-5-g...</td>\n",
              "    </tr>\n",
              "    <tr>\n",
              "      <th>11</th>\n",
              "      <td>ASUS</td>\n",
              "      <td>ASUS Zenfone Go (3rd Gen) (Gold, 16 GB)  (2 GB...</td>\n",
              "      <td>Gold</td>\n",
              "      <td>2 GB</td>\n",
              "      <td>16 GB</td>\n",
              "      <td>13MP Rear Camera</td>\n",
              "      <td>5MP Front Camera</td>\n",
              "      <td>13.97 cm (5.5 inch)</td>\n",
              "      <td>1280 x 720 Pixels</td>\n",
              "      <td>Qualcomm Snapdradon 410 (MSM8916)</td>\n",
              "      <td>Quad Core</td>\n",
              "      <td>3000 mAh</td>\n",
              "      <td>₹8,999</td>\n",
              "      <td>https://www.flipkart.com/asus-zenfone-go-3rd-g...</td>\n",
              "    </tr>\n",
              "    <tr>\n",
              "      <th>12</th>\n",
              "      <td>ASUS</td>\n",
              "      <td>ASUS 6Z (Silver, 128 GB)  (6 GB RAM)</td>\n",
              "      <td>Silver</td>\n",
              "      <td>6 GB</td>\n",
              "      <td>128 GB</td>\n",
              "      <td>48MP + 13MP</td>\n",
              "      <td>48MP + 13MP Dual Front Camera</td>\n",
              "      <td>16.23 cm (6.39 inch)</td>\n",
              "      <td>2340 x 1080 pixels</td>\n",
              "      <td>Qualcomm SD 855</td>\n",
              "      <td>Octa Core</td>\n",
              "      <td>Yes</td>\n",
              "      <td>₹38,999</td>\n",
              "      <td>https://www.flipkart.com/asus-6z-silver-128-gb...</td>\n",
              "    </tr>\n",
              "    <tr>\n",
              "      <th>13</th>\n",
              "      <td>ASUS</td>\n",
              "      <td>ASUS ZenFone Max M2 (Blue, 32 GB)  (3 GB RAM)</td>\n",
              "      <td>Blue</td>\n",
              "      <td>3 GB</td>\n",
              "      <td>32 GB</td>\n",
              "      <td>13MP + 2MP</td>\n",
              "      <td>8MP Front Camera</td>\n",
              "      <td>15.9 cm (6.26 inch)</td>\n",
              "      <td>1520 x 720 pixels</td>\n",
              "      <td>Qualcomm Snapdragon 632 Octa Core</td>\n",
              "      <td>Octa Core</td>\n",
              "      <td>Yes</td>\n",
              "      <td>₹12,999</td>\n",
              "      <td>https://www.flipkart.com/asus-zenfone-max-m2-b...</td>\n",
              "    </tr>\n",
              "    <tr>\n",
              "      <th>14</th>\n",
              "      <td>ASUS</td>\n",
              "      <td>ASUS Zenfone Go (2nd Gen) (Red, 8 GB)  (1 GB RAM)</td>\n",
              "      <td>Red</td>\n",
              "      <td>1 GB</td>\n",
              "      <td>8 GB</td>\n",
              "      <td>5MP Rear Camera</td>\n",
              "      <td>0.3MP Front Camera</td>\n",
              "      <td>11.43 cm (4.5 inch)</td>\n",
              "      <td>854 x 480 Pixels</td>\n",
              "      <td>Qualcomm Snapdragon 200</td>\n",
              "      <td>Quad Core</td>\n",
              "      <td>Yes</td>\n",
              "      <td>₹5,299</td>\n",
              "      <td>https://www.flipkart.com/asus-zenfone-go-2ndge...</td>\n",
              "    </tr>\n",
              "    <tr>\n",
              "      <th>15</th>\n",
              "      <td>ASUS</td>\n",
              "      <td>ASUS ROG Phone II (Black, 128 GB)  (8 GB RAM)</td>\n",
              "      <td>Black</td>\n",
              "      <td>8 GB</td>\n",
              "      <td>128 GB</td>\n",
              "      <td>48MP + 13MP</td>\n",
              "      <td>Yes</td>\n",
              "      <td>16.74 cm (6.59 inch)</td>\n",
              "      <td>2340 x 1080 Pixels</td>\n",
              "      <td>Qualcomm Snapdragon 855 Plus</td>\n",
              "      <td>Octa Core</td>\n",
              "      <td>Yes</td>\n",
              "      <td>₹40,999</td>\n",
              "      <td>https://www.flipkart.com/asus-rog-phone-ii-bla...</td>\n",
              "    </tr>\n",
              "    <tr>\n",
              "      <th>16</th>\n",
              "      <td>ASUS</td>\n",
              "      <td>ASUS ROG Phone 5 (Black, 256 GB)  (12 GB RAM)</td>\n",
              "      <td>Black</td>\n",
              "      <td>12 GB</td>\n",
              "      <td>256 GB</td>\n",
              "      <td>64MP + 13MP + 5MP</td>\n",
              "      <td>24MP Front Camera</td>\n",
              "      <td>17.22 cm (6.78 inch)</td>\n",
              "      <td>2448 x 1080 Pixels</td>\n",
              "      <td>Qualcomm Snapdragon 888 (SM8350)</td>\n",
              "      <td>Octa Core</td>\n",
              "      <td>6000 mAh</td>\n",
              "      <td>₹57,999</td>\n",
              "      <td>https://www.flipkart.com/asus-rog-phone-5-blac...</td>\n",
              "    </tr>\n",
              "    <tr>\n",
              "      <th>17</th>\n",
              "      <td>ASUS</td>\n",
              "      <td>ASUS ZenFone Max Pro M2 (Blue, 32 GB)  (3 GB RAM)</td>\n",
              "      <td>Blue</td>\n",
              "      <td>3 GB</td>\n",
              "      <td>32 GB</td>\n",
              "      <td>12MP + 5MP</td>\n",
              "      <td>13MP Front Camera</td>\n",
              "      <td>15.9 cm (6.26 inch)</td>\n",
              "      <td>2280 x 1080 pixels</td>\n",
              "      <td>Qualcomm Snapdragon 660 Octa Core</td>\n",
              "      <td>Octa Core</td>\n",
              "      <td>Yes</td>\n",
              "      <td>₹15,999</td>\n",
              "      <td>https://www.flipkart.com/asus-zenfone-max-pro-...</td>\n",
              "    </tr>\n",
              "    <tr>\n",
              "      <th>18</th>\n",
              "      <td>ASUS</td>\n",
              "      <td>ASUS Zenfone GO (Black, 16 GB)  (2 GB RAM)</td>\n",
              "      <td>Black</td>\n",
              "      <td>2 GB</td>\n",
              "      <td>16 GB</td>\n",
              "      <td>13MP Rear Camera</td>\n",
              "      <td>5MP Front Camera</td>\n",
              "      <td>13.97 cm (5.5 inch)</td>\n",
              "      <td>1280 x 720</td>\n",
              "      <td>Quad Core</td>\n",
              "      <td>1.2 GHz</td>\n",
              "      <td>Yes</td>\n",
              "      <td>₹8,499</td>\n",
              "      <td>https://www.flipkart.com/asus-zenfone-go-black...</td>\n",
              "    </tr>\n",
              "    <tr>\n",
              "      <th>19</th>\n",
              "      <td>ASUS</td>\n",
              "      <td>ASUS Zenfone Go 4.5 (Pink, 8 GB)  (1 GB RAM)</td>\n",
              "      <td>Pink</td>\n",
              "      <td>1 GB</td>\n",
              "      <td>8 GB</td>\n",
              "      <td>5MP Rear Camera</td>\n",
              "      <td>0.3MP Front Camera</td>\n",
              "      <td>11.43 cm (4.5 inch)</td>\n",
              "      <td>480 x 854 Pixels</td>\n",
              "      <td>MediaTek MT6580M</td>\n",
              "      <td>Quad Core</td>\n",
              "      <td>Yes</td>\n",
              "      <td>₹5,299</td>\n",
              "      <td>https://www.flipkart.com/asus-zenfone-go-4-5-p...</td>\n",
              "    </tr>\n",
              "    <tr>\n",
              "      <th>20</th>\n",
              "      <td>ASUS</td>\n",
              "      <td>ASUS Zenfone Go 5.0 LTE 2nd Gen (Gold, 16 GB) ...</td>\n",
              "      <td>Gold</td>\n",
              "      <td>2 GB</td>\n",
              "      <td>16 GB</td>\n",
              "      <td>13MP Rear Camera</td>\n",
              "      <td>Yes</td>\n",
              "      <td>12.7 cm (5 inch)</td>\n",
              "      <td>1280 x 720 Pixels</td>\n",
              "      <td>Quad Core</td>\n",
              "      <td>1.2 GHz</td>\n",
              "      <td>Capacitive</td>\n",
              "      <td>₹5,840</td>\n",
              "      <td>https://www.flipkart.com/asus-zenfone-go-5-0-l...</td>\n",
              "    </tr>\n",
              "    <tr>\n",
              "      <th>21</th>\n",
              "      <td>ASUS</td>\n",
              "      <td>ASUS Zenfone C (Red, 8 GB)  (1 GB RAM)</td>\n",
              "      <td>Red</td>\n",
              "      <td>1 GB</td>\n",
              "      <td>8 GB</td>\n",
              "      <td>5MP Rear Camera</td>\n",
              "      <td>0.3MP Front Camera</td>\n",
              "      <td>11.43 cm (4.5 inch)</td>\n",
              "      <td>854 x 480 Pixels</td>\n",
              "      <td>Intel Atom CloverTrail Z2520</td>\n",
              "      <td>Quad Core</td>\n",
              "      <td>Yes</td>\n",
              "      <td>₹6,299</td>\n",
              "      <td>https://www.flipkart.com/asus-zenfone-c-red-8-...</td>\n",
              "    </tr>\n",
              "    <tr>\n",
              "      <th>22</th>\n",
              "      <td>ASUS</td>\n",
              "      <td>ASUS Zenfone Selfie (Grey, 32 GB)  (3 GB RAM)</td>\n",
              "      <td>Grey</td>\n",
              "      <td>3 GB</td>\n",
              "      <td>32 GB</td>\n",
              "      <td>13MP Rear Camera</td>\n",
              "      <td>13MP Front Camera</td>\n",
              "      <td>13.97 cm (5.5 inch)</td>\n",
              "      <td>1920 x 1080 Pixels</td>\n",
              "      <td>Qualcomm Snapdragon 615 MSM8939</td>\n",
              "      <td>Octa Core</td>\n",
              "      <td>Yes</td>\n",
              "      <td>₹17,999</td>\n",
              "      <td>https://www.flipkart.com/asus-zenfone-selfie-g...</td>\n",
              "    </tr>\n",
              "    <tr>\n",
              "      <th>23</th>\n",
              "      <td>ASUS</td>\n",
              "      <td>ASUS Zenfone Go (Silver, 8 GB)  (1 GB RAM)</td>\n",
              "      <td>Silver</td>\n",
              "      <td>1 GB</td>\n",
              "      <td>8 GB</td>\n",
              "      <td>8MP Rear Camera</td>\n",
              "      <td>2MP Front Camera</td>\n",
              "      <td>11.43 cm (4.5 inch)</td>\n",
              "      <td>854 x 480 Pixels</td>\n",
              "      <td>Qualcomm Snapdragon 200</td>\n",
              "      <td>Quad Core</td>\n",
              "      <td>Yes</td>\n",
              "      <td>₹5,699</td>\n",
              "      <td>https://www.flipkart.com/asus-zenfone-go-silve...</td>\n",
              "    </tr>\n",
              "  </tbody>\n",
              "</table>\n",
              "</div>"
            ],
            "text/plain": [
              "   brand_name  ...                                          Phone_URL\n",
              "0        ASUS  ...  https://www.flipkart.com/asus-rog-phone-5-blac...\n",
              "1        ASUS  ...  https://www.flipkart.com/asus-rog-phone-3-blac...\n",
              "2        ASUS  ...  https://www.flipkart.com/asus-rog-phone-3-blac...\n",
              "3        ASUS  ...  https://www.flipkart.com/asus-zenfone-5z-midni...\n",
              "4        ASUS  ...  https://www.flipkart.com/asus-6z-black-64-gb/p...\n",
              "5        ASUS  ...  https://www.flipkart.com/asus-zenfone-2-laser-...\n",
              "6        ASUS  ...  https://www.flipkart.com/asus-zenfone-5z-meteo...\n",
              "7        ASUS  ...  https://www.flipkart.com/asus-zenfone-max-m2-s...\n",
              "8        ASUS  ...  https://www.flipkart.com/asus-zenfone-go-silve...\n",
              "9        ASUS  ...  https://www.flipkart.com/asus-zenfone-lite-l1-...\n",
              "10       ASUS  ...  https://www.flipkart.com/asus-zenfone-go-5-5-g...\n",
              "11       ASUS  ...  https://www.flipkart.com/asus-zenfone-go-3rd-g...\n",
              "12       ASUS  ...  https://www.flipkart.com/asus-6z-silver-128-gb...\n",
              "13       ASUS  ...  https://www.flipkart.com/asus-zenfone-max-m2-b...\n",
              "14       ASUS  ...  https://www.flipkart.com/asus-zenfone-go-2ndge...\n",
              "15       ASUS  ...  https://www.flipkart.com/asus-rog-phone-ii-bla...\n",
              "16       ASUS  ...  https://www.flipkart.com/asus-rog-phone-5-blac...\n",
              "17       ASUS  ...  https://www.flipkart.com/asus-zenfone-max-pro-...\n",
              "18       ASUS  ...  https://www.flipkart.com/asus-zenfone-go-black...\n",
              "19       ASUS  ...  https://www.flipkart.com/asus-zenfone-go-4-5-p...\n",
              "20       ASUS  ...  https://www.flipkart.com/asus-zenfone-go-5-0-l...\n",
              "21       ASUS  ...  https://www.flipkart.com/asus-zenfone-c-red-8-...\n",
              "22       ASUS  ...  https://www.flipkart.com/asus-zenfone-selfie-g...\n",
              "23       ASUS  ...  https://www.flipkart.com/asus-zenfone-go-silve...\n",
              "\n",
              "[24 rows x 14 columns]"
            ]
          },
          "metadata": {},
          "execution_count": 244
        }
      ]
    },
    {
      "cell_type": "code",
      "metadata": {
        "id": "Hj3N5Ge7ID7W"
      },
      "source": [
        "#converting into csv format\n",
        "Smartphone.to_csv(\"Smartphone.csv\")"
      ],
      "execution_count": null,
      "outputs": []
    },
    {
      "cell_type": "code",
      "metadata": {
        "id": "2CPTk7W2ID7W"
      },
      "source": [
        "#closing the driver\n",
        "driver.close()"
      ],
      "execution_count": null,
      "outputs": []
    },
    {
      "cell_type": "markdown",
      "metadata": {
        "id": "TrP1V-rBID7X"
      },
      "source": [
        "### 5. Write a program to scrap geospatial coordinates (latitude, longitude) of a city searched on google maps."
      ]
    },
    {
      "cell_type": "code",
      "metadata": {
        "id": "HWR_5QlJID7X",
        "colab": {
          "base_uri": "https://localhost:8080/"
        },
        "outputId": "0cffc96b-3d11-4ff2-9aeb-e82b4bbe7cf3"
      },
      "source": [
        "import re\n",
        "chrome_options = webdriver.ChromeOptions()\n",
        "chrome_options.add_argument('--headless')\n",
        "chrome_options.add_argument('--no-sandbox')\n",
        "chrome_options.add_argument('--disable-dev-shm-usage')\n",
        "driver= webdriver.Chrome('chromedriver',chrome_options=chrome_options)"
      ],
      "execution_count": null,
      "outputs": [
        {
          "output_type": "stream",
          "name": "stderr",
          "text": [
            "/usr/local/lib/python3.7/dist-packages/ipykernel_launcher.py:6: DeprecationWarning: use options instead of chrome_options\n",
            "  \n"
          ]
        }
      ]
    },
    {
      "cell_type": "code",
      "metadata": {
        "id": "2UXHJQVP4QRG"
      },
      "source": [
        "url='https://www.google.co.in/maps'\n",
        "driver.get(url)\n",
        "time.sleep(3)"
      ],
      "execution_count": null,
      "outputs": []
    },
    {
      "cell_type": "code",
      "metadata": {
        "colab": {
          "base_uri": "https://localhost:8080/"
        },
        "id": "RtMk2Q-y4QDq",
        "outputId": "910f2b92-c316-443a-ba87-24061eb1fcbc"
      },
      "source": [
        "city = input('Enter City Name : ')                                         \n",
        "search = driver.find_element_by_id(\"searchboxinput\")                       \n",
        "search.clear()                                                             \n",
        "time.sleep(3)\n",
        "search.send_keys(city)                                                     \n",
        "button = driver.find_element_by_id(\"searchbox-searchbutton\")               \n",
        "button.click()                                                             \n",
        "time.sleep(3)"
      ],
      "execution_count": null,
      "outputs": [
        {
          "name": "stdout",
          "output_type": "stream",
          "text": [
            "Enter City Name : Silvassa\n"
          ]
        }
      ]
    },
    {
      "cell_type": "code",
      "metadata": {
        "colab": {
          "base_uri": "https://localhost:8080/"
        },
        "id": "asY2CyCY4a86",
        "outputId": "a1ac1c8d-fae8-4e33-aacd-a2cf990dea26"
      },
      "source": [
        "try:\n",
        "    url_string = driver.current_url\n",
        "    print(\"URL Extracted: \", url_string)\n",
        "    lat_lng = re.findall(r'@(.*)data',url_string)\n",
        "    if len(lat_lng):\n",
        "        lat_lng_list = lat_lng[0].split(\",\")\n",
        "        if len(lat_lng_list)>=2:\n",
        "            lat = lat_lng_list[0]\n",
        "            lng = lat_lng_list[1]\n",
        "        print(\"Latitude = {}, Longitude = {}\".format(lat, lng))\n",
        "\n",
        "except Exception as e:\n",
        "        print(\"Error: \", str(e))"
      ],
      "execution_count": null,
      "outputs": [
        {
          "output_type": "stream",
          "name": "stdout",
          "text": [
            "URL Extracted:  https://www.google.co.in/maps/place/Silvassa,+Dadra+and+Nagar+Haveli+and+Daman+and+Diu,+India/@20.2665228,72.970225,13z/data=!3m1!4b1!4m5!3m4!1s0x3be0cb5edb1ce063:0x65fe78dc1cdaeb1f!8m2!3d20.2753406!4d73.0072986\n",
            "Latitude = 20.2665228, Longitude = 72.970225\n"
          ]
        }
      ]
    },
    {
      "cell_type": "markdown",
      "metadata": {
        "id": "kIWXUT5LID7Y"
      },
      "source": [
        "### 6. Write a program to scrap details of all the funding deals for second quarter (i.e. July 20 – September 20) from trak.in"
      ]
    },
    {
      "cell_type": "code",
      "metadata": {
        "colab": {
          "base_uri": "https://localhost:8080/"
        },
        "id": "4gbjBQrQD8hG",
        "outputId": "073ce84c-e334-43ef-8565-4c455b67d511"
      },
      "source": [
        "chrome_options = webdriver.ChromeOptions()\n",
        "chrome_options.add_argument('--headless')\n",
        "chrome_options.add_argument('--no-sandbox')\n",
        "chrome_options.add_argument('--disable-dev-shm-usage')\n",
        "driver= webdriver.Chrome('chromedriver',chrome_options=chrome_options)"
      ],
      "execution_count": null,
      "outputs": [
        {
          "output_type": "stream",
          "name": "stderr",
          "text": [
            "/usr/local/lib/python3.7/dist-packages/ipykernel_launcher.py:5: DeprecationWarning: use options instead of chrome_options\n",
            "  \"\"\"\n"
          ]
        }
      ]
    },
    {
      "cell_type": "code",
      "metadata": {
        "id": "xWFrjBOpD8cR"
      },
      "source": [
        "url='https://trak.in/'"
      ],
      "execution_count": null,
      "outputs": []
    },
    {
      "cell_type": "code",
      "metadata": {
        "id": "ApMZY1WCFhy4"
      },
      "source": [
        "driver.get(url)"
      ],
      "execution_count": null,
      "outputs": []
    },
    {
      "cell_type": "code",
      "metadata": {
        "id": "uMO-mWrrD8WU"
      },
      "source": [
        "button = driver.find_element_by_xpath('//li[@id=\"menu-item-51510\"]/a').get_attribute('href')\n",
        "driver.get(button)"
      ],
      "execution_count": null,
      "outputs": []
    },
    {
      "cell_type": "code",
      "metadata": {
        "id": "T3ZUZklED8Sx"
      },
      "source": [
        "Date=[]\n",
        "Startup=[]\n",
        "Industry=[]\n",
        "SubVertical=[]\n",
        "Location=[]\n",
        "Investor=[]\n",
        "Investment=[]\n",
        "Amount=[]"
      ],
      "execution_count": null,
      "outputs": []
    },
    {
      "cell_type": "code",
      "metadata": {
        "id": "JE57c6ITD8Qk"
      },
      "source": [
        "for i in range(48,51):\n",
        "    driver.find_element_by_xpath('//div[@id=\"tablepress-{}_wrapper\"]/div/label/select/option[4]'.format(i)).click()\n",
        "\n",
        "    dt = driver.find_elements_by_xpath('//table[@id=\"tablepress-{}\"]/tbody/tr/td[2]'.format(i))\n",
        "    for d in dt:\n",
        "        Date.append(d.text)\n",
        "\n",
        "    sn = driver.find_elements_by_xpath('//table[@id=\"tablepress-{}\"]/tbody/tr/td[3]'.format(i))\n",
        "    for n in sn:\n",
        "        Startup.append(n.text)\n",
        "    \n",
        "    ind = driver.find_elements_by_xpath('//table[@id=\"tablepress-{}\"]/tbody/tr/td[4]'.format(i))\n",
        "    for n in ind:\n",
        "        Industry.append(n.text)\n",
        "    \n",
        "    sv = driver.find_elements_by_xpath('//table[@id=\"tablepress-{}\"]/tbody/tr/td[5]'.format(i))\n",
        "    for s in sv:\n",
        "        SubVertical.append(s.text)\n",
        "\n",
        "    loc = driver.find_elements_by_xpath('//table[@id=\"tablepress-{}\"]/tbody/tr/td[6]'.format(i))\n",
        "    for l in loc:\n",
        "        Location.append(l.text)\n",
        "    \n",
        "    inv = driver.find_elements_by_xpath('//table[@id=\"tablepress-{}\"]/tbody/tr/td[7]'.format(i))\n",
        "    for n in inv:\n",
        "        Investor.append(n.text)\n",
        "    \n",
        "    invt = driver.find_elements_by_xpath('//table[@id=\"tablepress-{}\"]/tbody/tr/td[8]'.format(i))\n",
        "    for n in invt:\n",
        "        Investment.append(n.text)\n",
        "    \n",
        "    amt = driver.find_elements_by_xpath('//table[@id=\"tablepress-{}\"]/tbody/tr/td[9]'.format(i))\n",
        "    for a in amt:\n",
        "        Amount.append(a.text)"
      ],
      "execution_count": null,
      "outputs": []
    },
    {
      "cell_type": "code",
      "metadata": {
        "id": "UGkYBpvMD8Oh"
      },
      "source": [
        "fund=pd.DataFrame({})\n",
        "fund['Date']=Date\n",
        "fund['Startup']=Startup \n",
        "fund['Industry']=Industry\n",
        "fund['SubVertical']=SubVertical\n",
        "fund['Location']=Location\n",
        "fund['Investor']=Investor\n",
        "fund['Investment']=Investment\n",
        "fund['Amount']=Amount"
      ],
      "execution_count": null,
      "outputs": []
    },
    {
      "cell_type": "code",
      "metadata": {
        "colab": {
          "base_uri": "https://localhost:8080/",
          "height": 1000
        },
        "id": "NU1lIIcXD8Mh",
        "outputId": "4fcb84d6-5362-497f-86be-b198a63d54d0"
      },
      "source": [
        "fund"
      ],
      "execution_count": null,
      "outputs": [
        {
          "output_type": "execute_result",
          "data": {
            "text/html": [
              "<div>\n",
              "<style scoped>\n",
              "    .dataframe tbody tr th:only-of-type {\n",
              "        vertical-align: middle;\n",
              "    }\n",
              "\n",
              "    .dataframe tbody tr th {\n",
              "        vertical-align: top;\n",
              "    }\n",
              "\n",
              "    .dataframe thead th {\n",
              "        text-align: right;\n",
              "    }\n",
              "</style>\n",
              "<table border=\"1\" class=\"dataframe\">\n",
              "  <thead>\n",
              "    <tr style=\"text-align: right;\">\n",
              "      <th></th>\n",
              "      <th>Date</th>\n",
              "      <th>Startup</th>\n",
              "      <th>Industry</th>\n",
              "      <th>SubVertical</th>\n",
              "      <th>Location</th>\n",
              "      <th>Investor</th>\n",
              "      <th>Investment</th>\n",
              "      <th>Amount</th>\n",
              "    </tr>\n",
              "  </thead>\n",
              "  <tbody>\n",
              "    <tr>\n",
              "      <th>0</th>\n",
              "      <td>15/07/2020</td>\n",
              "      <td>Flipkart</td>\n",
              "      <td>E-commerce</td>\n",
              "      <td>E-commerce</td>\n",
              "      <td>Bangalore</td>\n",
              "      <td>Walmart Inc</td>\n",
              "      <td>M&amp;A</td>\n",
              "      <td>1,200,000,000</td>\n",
              "    </tr>\n",
              "    <tr>\n",
              "      <th>1</th>\n",
              "      <td>16/07/2020</td>\n",
              "      <td>Vedantu</td>\n",
              "      <td>EduTech</td>\n",
              "      <td>Online Tutoring</td>\n",
              "      <td>Bangalore</td>\n",
              "      <td>Coatue Management</td>\n",
              "      <td>Series D</td>\n",
              "      <td>100,000,000</td>\n",
              "    </tr>\n",
              "    <tr>\n",
              "      <th>2</th>\n",
              "      <td>16/07/2020</td>\n",
              "      <td>Crio</td>\n",
              "      <td>EduTech</td>\n",
              "      <td>Learning Platform for Developers</td>\n",
              "      <td>Bangalore</td>\n",
              "      <td>021 Capital</td>\n",
              "      <td>pre-Series A</td>\n",
              "      <td>934,160</td>\n",
              "    </tr>\n",
              "    <tr>\n",
              "      <th>3</th>\n",
              "      <td>14/07/2020</td>\n",
              "      <td>goDutch</td>\n",
              "      <td>FinTech</td>\n",
              "      <td>Group Payments</td>\n",
              "      <td>Mumbai</td>\n",
              "      <td>Matrix India,Y Combinator, Global Founders Cap...</td>\n",
              "      <td>Seed</td>\n",
              "      <td>1,700,000</td>\n",
              "    </tr>\n",
              "    <tr>\n",
              "      <th>4</th>\n",
              "      <td>13/07/2020</td>\n",
              "      <td>Mystifly</td>\n",
              "      <td>Airfare Marketplace</td>\n",
              "      <td>Ticketing, Airline Retailing, and Post-Ticketi...</td>\n",
              "      <td>Singapore and Bangalore</td>\n",
              "      <td>Recruit Co. Ltd.</td>\n",
              "      <td>pre-Series B</td>\n",
              "      <td>3,300,000</td>\n",
              "    </tr>\n",
              "    <tr>\n",
              "      <th>5</th>\n",
              "      <td>09/07/2020</td>\n",
              "      <td>JetSynthesys</td>\n",
              "      <td>Gaming and Entertainment</td>\n",
              "      <td>Gaming and Entertainment</td>\n",
              "      <td>Pune</td>\n",
              "      <td>Adar Poonawalla and Kris Gopalakrishnan.</td>\n",
              "      <td>Venture-Series Unknown</td>\n",
              "      <td>400,000</td>\n",
              "    </tr>\n",
              "    <tr>\n",
              "      <th>6</th>\n",
              "      <td>10/07/2020</td>\n",
              "      <td>gigIndia</td>\n",
              "      <td>Marketplace</td>\n",
              "      <td>Crowd Sourcing, Freelance</td>\n",
              "      <td>Pune</td>\n",
              "      <td>Incubate Fund India and Beyond Next Ventures</td>\n",
              "      <td>pre-Series A</td>\n",
              "      <td>974,200</td>\n",
              "    </tr>\n",
              "    <tr>\n",
              "      <th>7</th>\n",
              "      <td>15/07/2020</td>\n",
              "      <td>PumPumPum</td>\n",
              "      <td>Automotive Rental</td>\n",
              "      <td>Used Car-leasing platform</td>\n",
              "      <td>Gurgaon</td>\n",
              "      <td>Early Adapters Syndicate</td>\n",
              "      <td>Seed</td>\n",
              "      <td>292,800</td>\n",
              "    </tr>\n",
              "    <tr>\n",
              "      <th>8</th>\n",
              "      <td>14/07/2020</td>\n",
              "      <td>FLYX</td>\n",
              "      <td>OTT Player</td>\n",
              "      <td>Streaming Social Network</td>\n",
              "      <td>New York and Delhi</td>\n",
              "      <td>Raj Mishra, founder of AIT Global Inc</td>\n",
              "      <td>pre-Seed</td>\n",
              "      <td>200,000</td>\n",
              "    </tr>\n",
              "    <tr>\n",
              "      <th>9</th>\n",
              "      <td>13/07/2020</td>\n",
              "      <td>Open Appliances Pvt. Ltd.</td>\n",
              "      <td>Information Technology</td>\n",
              "      <td>Internet-of-Things Security Solutions</td>\n",
              "      <td>Bangalore</td>\n",
              "      <td>Unicorn India Ventures</td>\n",
              "      <td>Venture-Series Unknown</td>\n",
              "      <td>500,000</td>\n",
              "    </tr>\n",
              "    <tr>\n",
              "      <th>10</th>\n",
              "      <td>15/08/2020</td>\n",
              "      <td>Practo</td>\n",
              "      <td>HealthTech</td>\n",
              "      <td>Health care and Wellness</td>\n",
              "      <td>Bangalore</td>\n",
              "      <td>A1A Company</td>\n",
              "      <td>Series F</td>\n",
              "      <td>32,000,000</td>\n",
              "    </tr>\n",
              "    <tr>\n",
              "      <th>11</th>\n",
              "      <td>13/08/2020</td>\n",
              "      <td>Medlife</td>\n",
              "      <td>E-commerce</td>\n",
              "      <td>Online Pharmacy</td>\n",
              "      <td>Bangalore</td>\n",
              "      <td>Prasid Uno Family Trust and SC Credit Fund</td>\n",
              "      <td></td>\n",
              "      <td>23,000,000</td>\n",
              "    </tr>\n",
              "    <tr>\n",
              "      <th>12</th>\n",
              "      <td>13/08/2020</td>\n",
              "      <td>HungerBox</td>\n",
              "      <td>FoodTech</td>\n",
              "      <td>Online Food Delivery Service</td>\n",
              "      <td>Bangalore</td>\n",
              "      <td>One97, Sabre Partners Trust, Pratithi Investme...</td>\n",
              "      <td>Series D1</td>\n",
              "      <td>1,560,000</td>\n",
              "    </tr>\n",
              "    <tr>\n",
              "      <th>13</th>\n",
              "      <td>04/08/2020</td>\n",
              "      <td>Dunzo</td>\n",
              "      <td>Hyper-local Logistics</td>\n",
              "      <td>Online Delivery Services</td>\n",
              "      <td>Bangalore</td>\n",
              "      <td>Existing Backers</td>\n",
              "      <td>In Progress</td>\n",
              "      <td>30,000,000</td>\n",
              "    </tr>\n",
              "    <tr>\n",
              "      <th>14</th>\n",
              "      <td>11/08/2020</td>\n",
              "      <td>Terra.do</td>\n",
              "      <td>EduTech</td>\n",
              "      <td>Online Climate School, E-learning</td>\n",
              "      <td>Stanford, California,</td>\n",
              "      <td>Stanford Angels and Entrepreneurs (India), BEE...</td>\n",
              "      <td>Seed</td>\n",
              "      <td>1,400,000</td>\n",
              "    </tr>\n",
              "    <tr>\n",
              "      <th>15</th>\n",
              "      <td>12/08/2020</td>\n",
              "      <td>Classplus</td>\n",
              "      <td>EduTech</td>\n",
              "      <td>E-learning, Online Tutoring</td>\n",
              "      <td>Noida</td>\n",
              "      <td>Falcon Edge</td>\n",
              "      <td>In Progress</td>\n",
              "      <td>upto 15,000,000</td>\n",
              "    </tr>\n",
              "    <tr>\n",
              "      <th>16</th>\n",
              "      <td>14/08/2020</td>\n",
              "      <td>Niyo</td>\n",
              "      <td>FinTech</td>\n",
              "      <td>Financial Services</td>\n",
              "      <td>Bangalore</td>\n",
              "      <td>Niyo Solutions Inc.</td>\n",
              "      <td></td>\n",
              "      <td>6,000,000</td>\n",
              "    </tr>\n",
              "    <tr>\n",
              "      <th>17</th>\n",
              "      <td>10/08/2020</td>\n",
              "      <td>ZestMoney</td>\n",
              "      <td>FinTech</td>\n",
              "      <td>Financial Services</td>\n",
              "      <td>Bangalore</td>\n",
              "      <td>Primrose Hills Ventures</td>\n",
              "      <td></td>\n",
              "      <td>10,670,000</td>\n",
              "    </tr>\n",
              "    <tr>\n",
              "      <th>18</th>\n",
              "      <td>07/08/2020</td>\n",
              "      <td>FreshToHome</td>\n",
              "      <td>E-commerce</td>\n",
              "      <td>Food Delivery</td>\n",
              "      <td>Bangalore</td>\n",
              "      <td>Ascent Capital</td>\n",
              "      <td>Venture</td>\n",
              "      <td>16,200,000</td>\n",
              "    </tr>\n",
              "    <tr>\n",
              "      <th>19</th>\n",
              "      <td>13/08/2020</td>\n",
              "      <td>Eduvanz</td>\n",
              "      <td>FinTech</td>\n",
              "      <td>Financial Services</td>\n",
              "      <td>Mumbai</td>\n",
              "      <td>Sequoia India, Unitus</td>\n",
              "      <td>Series A</td>\n",
              "      <td>5,000,000</td>\n",
              "    </tr>\n",
              "    <tr>\n",
              "      <th>20</th>\n",
              "      <td>03/08/2020</td>\n",
              "      <td>CrowdPouch</td>\n",
              "      <td>FinTech</td>\n",
              "      <td>Financial Services</td>\n",
              "      <td>Bangalore</td>\n",
              "      <td>Elina Investments Pvt. Ltd</td>\n",
              "      <td>Angel</td>\n",
              "      <td>NA</td>\n",
              "    </tr>\n",
              "    <tr>\n",
              "      <th>21</th>\n",
              "      <td>04/08/2020</td>\n",
              "      <td>DrinkPrime</td>\n",
              "      <td>Water Purification</td>\n",
              "      <td>Water Purification</td>\n",
              "      <td>Bangalore</td>\n",
              "      <td>Sequoia Surge, ON Mauritius</td>\n",
              "      <td>Pre-Series A</td>\n",
              "      <td>2,880,000</td>\n",
              "    </tr>\n",
              "    <tr>\n",
              "      <th>22</th>\n",
              "      <td>08/09/2020</td>\n",
              "      <td>Byju’s</td>\n",
              "      <td>EduTech</td>\n",
              "      <td>Online Tutoring</td>\n",
              "      <td>Bangalore</td>\n",
              "      <td>Silver Lake, Tiger Global, General Atlantic an...</td>\n",
              "      <td>Private Equity</td>\n",
              "      <td>500,000,000</td>\n",
              "    </tr>\n",
              "    <tr>\n",
              "      <th>23</th>\n",
              "      <td>12/09/2020</td>\n",
              "      <td>mCaffeine</td>\n",
              "      <td>Personal Care</td>\n",
              "      <td>Skincare &amp; Haircare</td>\n",
              "      <td>Mumbai</td>\n",
              "      <td>Amicus Capital Private Equity I LLP, Amicus Ca...</td>\n",
              "      <td>Series B</td>\n",
              "      <td>3,000,000</td>\n",
              "    </tr>\n",
              "    <tr>\n",
              "      <th>24</th>\n",
              "      <td>09/09/2020</td>\n",
              "      <td>Qshala</td>\n",
              "      <td>EduTech</td>\n",
              "      <td>Online Curiosity Platform for Kids</td>\n",
              "      <td>Bangalore</td>\n",
              "      <td>Rainmatter Capital</td>\n",
              "      <td>Angel</td>\n",
              "      <td>370,000</td>\n",
              "    </tr>\n",
              "    <tr>\n",
              "      <th>25</th>\n",
              "      <td>02/09/2020</td>\n",
              "      <td>Winzo</td>\n",
              "      <td>Online Gaming</td>\n",
              "      <td>Online Gaming</td>\n",
              "      <td>New Delhi</td>\n",
              "      <td>Kalaari Capital Partners, IndigoEdge Managemen...</td>\n",
              "      <td>Series B</td>\n",
              "      <td>15,500,000</td>\n",
              "    </tr>\n",
              "    <tr>\n",
              "      <th>26</th>\n",
              "      <td>09/09/2020</td>\n",
              "      <td>Hippo Video</td>\n",
              "      <td>Video Customer Experience(CX) Platform</td>\n",
              "      <td>Video Customer Experience(CX) Platform</td>\n",
              "      <td>Newark, Delaware, United States of Amercia</td>\n",
              "      <td>Alpha Wave Incubation, Exfinity Venture Partne...</td>\n",
              "      <td>Series A</td>\n",
              "      <td>4,500,000</td>\n",
              "    </tr>\n",
              "    <tr>\n",
              "      <th>27</th>\n",
              "      <td>07/09/2020</td>\n",
              "      <td>Melorra</td>\n",
              "      <td>E-commerce</td>\n",
              "      <td>Online Jewelry Store</td>\n",
              "      <td>Bangalore</td>\n",
              "      <td>Shadow Holdings, Lightbox.</td>\n",
              "      <td>Debt Financing</td>\n",
              "      <td>upto 8,900,000</td>\n",
              "    </tr>\n",
              "    <tr>\n",
              "      <th>28</th>\n",
              "      <td>07/09/2020</td>\n",
              "      <td>1mg</td>\n",
              "      <td>E-commerce</td>\n",
              "      <td>Online Pharmacy</td>\n",
              "      <td>Gurgaon</td>\n",
              "      <td>Gaja Capital, Tata Capital, Partners Group</td>\n",
              "      <td>In Progress</td>\n",
              "      <td>100,000,000</td>\n",
              "    </tr>\n",
              "    <tr>\n",
              "      <th>29</th>\n",
              "      <td>31/08/2020</td>\n",
              "      <td>mfine</td>\n",
              "      <td>HealthTech</td>\n",
              "      <td>On-Demand Healthcare Services</td>\n",
              "      <td>Bangalore</td>\n",
              "      <td>Caretech Pte Inc</td>\n",
              "      <td>Series B</td>\n",
              "      <td>5,400,000</td>\n",
              "    </tr>\n",
              "    <tr>\n",
              "      <th>30</th>\n",
              "      <td>31/08/2020</td>\n",
              "      <td>Apna</td>\n",
              "      <td>Human Resources</td>\n",
              "      <td>Recruitment Platform</td>\n",
              "      <td>Bangalore</td>\n",
              "      <td>Lightspeed India and Sequoia Capital India</td>\n",
              "      <td>Series A</td>\n",
              "      <td>8,000,000</td>\n",
              "    </tr>\n",
              "    <tr>\n",
              "      <th>31</th>\n",
              "      <td>03/09/2020</td>\n",
              "      <td>Railofy</td>\n",
              "      <td>Transportation</td>\n",
              "      <td>WL &amp; RAC protection platform</td>\n",
              "      <td>Mumbai</td>\n",
              "      <td>Chiratae Ventures</td>\n",
              "      <td>Seed</td>\n",
              "      <td>950,000</td>\n",
              "    </tr>\n",
              "    <tr>\n",
              "      <th>32</th>\n",
              "      <td>08/09/2020</td>\n",
              "      <td>Cell Propulsion</td>\n",
              "      <td>Automobile</td>\n",
              "      <td>Electric Mobility Solutions</td>\n",
              "      <td>Bangalore</td>\n",
              "      <td>growX Ventures and Micelio</td>\n",
              "      <td>pre-Series A</td>\n",
              "      <td>NA</td>\n",
              "    </tr>\n",
              "  </tbody>\n",
              "</table>\n",
              "</div>"
            ],
            "text/plain": [
              "          Date  ...           Amount\n",
              "0   15/07/2020  ...    1,200,000,000\n",
              "1   16/07/2020  ...      100,000,000\n",
              "2   16/07/2020  ...          934,160\n",
              "3   14/07/2020  ...        1,700,000\n",
              "4   13/07/2020  ...        3,300,000\n",
              "5   09/07/2020  ...          400,000\n",
              "6   10/07/2020  ...          974,200\n",
              "7   15/07/2020  ...          292,800\n",
              "8   14/07/2020  ...          200,000\n",
              "9   13/07/2020  ...          500,000\n",
              "10  15/08/2020  ...       32,000,000\n",
              "11  13/08/2020  ...       23,000,000\n",
              "12  13/08/2020  ...        1,560,000\n",
              "13  04/08/2020  ...       30,000,000\n",
              "14  11/08/2020  ...        1,400,000\n",
              "15  12/08/2020  ...  upto 15,000,000\n",
              "16  14/08/2020  ...        6,000,000\n",
              "17  10/08/2020  ...       10,670,000\n",
              "18  07/08/2020  ...       16,200,000\n",
              "19  13/08/2020  ...        5,000,000\n",
              "20  03/08/2020  ...               NA\n",
              "21  04/08/2020  ...        2,880,000\n",
              "22  08/09/2020  ...      500,000,000\n",
              "23  12/09/2020  ...        3,000,000\n",
              "24  09/09/2020  ...          370,000\n",
              "25  02/09/2020  ...       15,500,000\n",
              "26  09/09/2020  ...        4,500,000\n",
              "27  07/09/2020  ...   upto 8,900,000\n",
              "28  07/09/2020  ...      100,000,000\n",
              "29  31/08/2020  ...        5,400,000\n",
              "30  31/08/2020  ...        8,000,000\n",
              "31  03/09/2020  ...          950,000\n",
              "32  08/09/2020  ...               NA\n",
              "\n",
              "[33 rows x 8 columns]"
            ]
          },
          "metadata": {},
          "execution_count": 277
        }
      ]
    },
    {
      "cell_type": "markdown",
      "metadata": {
        "id": "omi6Sn2cID7i"
      },
      "source": [
        "### 7. Write a program to scrap all the available details of top 10 gaming laptops from digit.in. "
      ]
    },
    {
      "cell_type": "code",
      "metadata": {
        "colab": {
          "base_uri": "https://localhost:8080/"
        },
        "id": "kbISpXyzHpQ1",
        "outputId": "588ce460-d2fc-4374-e47b-bd8296b3fb35"
      },
      "source": [
        "chrome_options = webdriver.ChromeOptions()\n",
        "chrome_options.add_argument('--headless')\n",
        "chrome_options.add_argument('--no-sandbox')\n",
        "chrome_options.add_argument('--disable-dev-shm-usage')\n",
        "driver= webdriver.Chrome('chromedriver',chrome_options=chrome_options)"
      ],
      "execution_count": null,
      "outputs": [
        {
          "output_type": "stream",
          "name": "stderr",
          "text": [
            "/usr/local/lib/python3.7/dist-packages/ipykernel_launcher.py:5: DeprecationWarning: use options instead of chrome_options\n",
            "  \"\"\"\n"
          ]
        }
      ]
    },
    {
      "cell_type": "code",
      "metadata": {
        "id": "eAORiiI6KyKd"
      },
      "source": [
        "url = \"https://www.digit.in/\"\n",
        "driver.get(url)\n",
        "time.sleep(3)\n",
        "#lets search for best laptop\n",
        "best_gaming_lap = driver.find_element_by_xpath(\"//div[@class='listing_container']//ul//li[9]\").click()\n",
        "time.sleep(4)"
      ],
      "execution_count": null,
      "outputs": []
    },
    {
      "cell_type": "code",
      "metadata": {
        "id": "0UmWIX3PKvk-"
      },
      "source": [
        "#lets fetch info of laptops\n",
        "lap_name = []\n",
        "op_stm = []\n",
        "display = []\n",
        "processor = []\n",
        "memory = []\n",
        "weight = []\n",
        "dimensions = []\n",
        "graph_processor = []\n",
        "prices = []\n",
        "# lets fetch laptop names\n",
        "name = driver.find_elements_by_xpath(\"//table[@id='summtable']//tr//td[1]\")\n",
        "for i in name:\n",
        "    lap_name.append(i.text)\n",
        "#fetching info related to operating system\n",
        "try:\n",
        "    os = driver.find_elements_by_xpath(\"//div[@class='Spcs-details']//tr[3]//td[3]\")\n",
        "    for i in os:\n",
        "        op_stm.append(i.text)\n",
        "except NoSuchElementException:\n",
        "    pass\n",
        "try:\n",
        "    disp = driver.find_elements_by_xpath(\"//div[@class='Spcs-details']//tr[4]//td[3]\")\n",
        "    for i in disp:\n",
        "        display.append(i.text)\n",
        "except NoSuchElementException:\n",
        "    pass\n",
        "try:\n",
        "    pro = driver.find_elements_by_xpath(\"//div[@class='Spcs-details']//tr[5]//td[3]\")\n",
        "    for i in pro:\n",
        "        processor.append(i.text)\n",
        "except NoSuchElementException:\n",
        "    pass\n",
        "try:\n",
        "    mem = driver.find_elements_by_xpath(\"//div[@class='Spcs-details']//tr[6]//td[3]\")\n",
        "    for i in mem:\n",
        "        memory.append(i.text)\n",
        "except NoSuchElementException:\n",
        "    pass\n",
        "try:\n",
        "    wgt = driver.find_elements_by_xpath(\"//div[@class='Spcs-details']//tr[7]//td[3]\")\n",
        "    for i in wgt:\n",
        "        weight.append(i.text)\n",
        "except NoSuchElementException:\n",
        "    pass\n",
        "try:\n",
        "    dim = driver.find_elements_by_xpath(\"//div[@class='Spcs-details']//tr[8]//td[3]\")\n",
        "    for i in dim:\n",
        "        dimensions.append(i.text)\n",
        "except NoSuchElementException:\n",
        "    pass\n",
        "try:\n",
        "    g_pro = driver.find_elements_by_xpath(\"//div[@class='Spcs-details']//tr[9]//td[3]\")\n",
        "    for i in g_pro:\n",
        "        graph_processor.append(i.text)\n",
        "except NoSuchElementException:\n",
        "    pass\n",
        "try:\n",
        "    price = driver.find_elements_by_xpath(\"//td[@class='smprice']\")\n",
        "    for i in price:\n",
        "        prices.append(i.text.replace('₹','Rs '))\n",
        "except NoSuchElementException:\n",
        "    pass\n",
        "\n",
        "#creating dataframe\n"
      ],
      "execution_count": null,
      "outputs": []
    },
    {
      "cell_type": "code",
      "metadata": {
        "colab": {
          "base_uri": "https://localhost:8080/",
          "height": 269
        },
        "id": "v8FXJGgBKvhD",
        "outputId": "1c902e5c-a395-4909-e5d1-f41ec4ec4cd2"
      },
      "source": [
        "data = list(zip(lap_name,op_stm,display,processor,memory,weight,dimensions,graph_processor,prices))\n",
        "df = pd.DataFrame(data, columns = [\"Laptop Name\",\"Operating System\",\"Display\",\"Processor\",\"Memory\",\"Weight(Kg)\",\"Dimensions\",\"Graphic-Processor\",\"Price\"])\n",
        "df"
      ],
      "execution_count": null,
      "outputs": [
        {
          "output_type": "execute_result",
          "data": {
            "text/html": [
              "<div>\n",
              "<style scoped>\n",
              "    .dataframe tbody tr th:only-of-type {\n",
              "        vertical-align: middle;\n",
              "    }\n",
              "\n",
              "    .dataframe tbody tr th {\n",
              "        vertical-align: top;\n",
              "    }\n",
              "\n",
              "    .dataframe thead th {\n",
              "        text-align: right;\n",
              "    }\n",
              "</style>\n",
              "<table border=\"1\" class=\"dataframe\">\n",
              "  <thead>\n",
              "    <tr style=\"text-align: right;\">\n",
              "      <th></th>\n",
              "      <th>Laptop Name</th>\n",
              "      <th>Operating System</th>\n",
              "      <th>Display</th>\n",
              "      <th>Processor</th>\n",
              "      <th>Memory</th>\n",
              "      <th>Weight(Kg)</th>\n",
              "      <th>Dimensions</th>\n",
              "      <th>Graphic-Processor</th>\n",
              "      <th>Price</th>\n",
              "    </tr>\n",
              "  </thead>\n",
              "  <tbody>\n",
              "    <tr>\n",
              "      <th>0</th>\n",
              "      <td>Alienware Area 51M R2</td>\n",
              "      <td>Windows 10 Home</td>\n",
              "      <td>17.3\" (1920 x 1080)</td>\n",
              "      <td>10th Generation Intel® Core™ i7-10700 | 2.90 GHz</td>\n",
              "      <td>1 TB SSD/16 GBGB DDR4</td>\n",
              "      <td>4.1</td>\n",
              "      <td>27.65 x 402.6 x 319.14</td>\n",
              "      <td>Intel® UHD Graphics 630</td>\n",
              "      <td>N/A</td>\n",
              "    </tr>\n",
              "    <tr>\n",
              "      <th>1</th>\n",
              "      <td>Alienware m15 R3</td>\n",
              "      <td>Windows 10 Home</td>\n",
              "      <td>15.6\" (3840 x 2160)</td>\n",
              "      <td>10th Generation Intel® Core™ i9-10980HK | NA</td>\n",
              "      <td>1 TB SSD/16 GBGB DDR4</td>\n",
              "      <td>NA</td>\n",
              "      <td>NA</td>\n",
              "      <td>NA</td>\n",
              "      <td>Rs  341,990</td>\n",
              "    </tr>\n",
              "    <tr>\n",
              "      <th>2</th>\n",
              "      <td>ASUS ROG Strix Scar 15</td>\n",
              "      <td>Windows 10 Home</td>\n",
              "      <td>15.6\" (1920 x 1080)</td>\n",
              "      <td>AMD Ryzen™ 9 5900HX | 3.3 GHz</td>\n",
              "      <td>1 TB SSD/16 GBGB DDR4</td>\n",
              "      <td>2.30</td>\n",
              "      <td>35.4 x 25.9 x 2.26</td>\n",
              "      <td>NVIDIA® GeForce RTX™ 3070</td>\n",
              "      <td>N/A</td>\n",
              "    </tr>\n",
              "    <tr>\n",
              "      <th>3</th>\n",
              "      <td>Asus ROG Zephyrus G14</td>\n",
              "      <td>Windows 10 Home</td>\n",
              "      <td>14\" (1920 x 1080)</td>\n",
              "      <td>AMD 3rd Generation Ryzen 9 | 3.3 GHz</td>\n",
              "      <td>1 TB SSD/16 GBGB DDR4</td>\n",
              "      <td>1.65</td>\n",
              "      <td>32.5 x 22.1 x 1.8</td>\n",
              "      <td>NVIDIA GeForce RTX 2060</td>\n",
              "      <td>Rs  164,990</td>\n",
              "    </tr>\n",
              "    <tr>\n",
              "      <th>4</th>\n",
              "      <td>Lenovo Legion 5i</td>\n",
              "      <td>Windows 10 Pro</td>\n",
              "      <td>15.6\" (1920 x 1080)</td>\n",
              "      <td>10th Generation Intel® Core™ i5-10300H | 2.50 GHz</td>\n",
              "      <td>1 TB SSD/16 GBGB DDR4</td>\n",
              "      <td>2.3</td>\n",
              "      <td>363.06 x 259.61 x 23.57</td>\n",
              "      <td>NVIDIA® GeForce® GTX 1650 4GB</td>\n",
              "      <td>Rs  76,988</td>\n",
              "    </tr>\n",
              "    <tr>\n",
              "      <th>5</th>\n",
              "      <td>ASUS ROG ZEPHYRUS DUO 15</td>\n",
              "      <td>Windows 10</td>\n",
              "      <td>15.6\" (3840 x 1100)</td>\n",
              "      <td>Intel Core i7 10th Gen 10875H | NA</td>\n",
              "      <td>512 GB SSD/4 GBGB DDR4</td>\n",
              "      <td>2.4</td>\n",
              "      <td>268.30 x 360.00 x 20.90</td>\n",
              "      <td>NVIDIA GeForce RTX 2070 Max-Q</td>\n",
              "      <td>Rs  185,000</td>\n",
              "    </tr>\n",
              "    <tr>\n",
              "      <th>6</th>\n",
              "      <td>Acer Aspire 7 gaming</td>\n",
              "      <td>Windows 10 Home</td>\n",
              "      <td>15.6\" (1920 x 1080)</td>\n",
              "      <td>AMD Ryzen™ 5-5500U hexa-core | NA</td>\n",
              "      <td>512 GB SSD/8 GBGB DDR4</td>\n",
              "      <td>2.15</td>\n",
              "      <td>2.29 x 36.3 x 25.4</td>\n",
              "      <td>NVIDIA® GeForce® GTX 1650</td>\n",
              "      <td>Rs  64,370</td>\n",
              "    </tr>\n",
              "  </tbody>\n",
              "</table>\n",
              "</div>"
            ],
            "text/plain": [
              "                Laptop Name  ...        Price\n",
              "0     Alienware Area 51M R2  ...          N/A\n",
              "1          Alienware m15 R3  ...  Rs  341,990\n",
              "2    ASUS ROG Strix Scar 15  ...          N/A\n",
              "3     Asus ROG Zephyrus G14  ...  Rs  164,990\n",
              "4          Lenovo Legion 5i  ...   Rs  76,988\n",
              "5  ASUS ROG ZEPHYRUS DUO 15  ...  Rs  185,000\n",
              "6      Acer Aspire 7 gaming  ...   Rs  64,370\n",
              "\n",
              "[7 rows x 9 columns]"
            ]
          },
          "metadata": {},
          "execution_count": 288
        }
      ]
    },
    {
      "cell_type": "code",
      "metadata": {
        "id": "TSPd2Wt6WEbD"
      },
      "source": [
        "#closing the driver\n",
        "driver.close()"
      ],
      "execution_count": null,
      "outputs": []
    },
    {
      "cell_type": "markdown",
      "metadata": {
        "id": "65RIERjNVVBt"
      },
      "source": [
        "## Q.NO.8 Write a python program to scrape the details for all billionaires from www.forbes.com. Details to be scrapped: “Rank”, “Name”, “Net worth”, “Age”, “Citizenship”, “Source”, “Industry”."
      ]
    },
    {
      "cell_type": "code",
      "metadata": {
        "colab": {
          "base_uri": "https://localhost:8080/"
        },
        "id": "ORuBL96uVfkd",
        "outputId": "fbe5fdbc-f583-44d5-c019-c2fdfbea5161"
      },
      "source": [
        "chrome_options = webdriver.ChromeOptions()\n",
        "chrome_options.add_argument('--headless')\n",
        "chrome_options.add_argument('--no-sandbox')\n",
        "chrome_options.add_argument('--disable-dev-shm-usage')\n",
        "driver= webdriver.Chrome('chromedriver',chrome_options=chrome_options)\n",
        "#driver = webdriver.Chrome(\"chromedriver.exe\")\n",
        "#get the web page with given url\n",
        "url = \"https://www.forbes.com/?sh=55783e032254\"\n",
        "driver.get(url)\n",
        "time.sleep(3)"
      ],
      "execution_count": null,
      "outputs": [
        {
          "output_type": "stream",
          "name": "stderr",
          "text": [
            "/usr/local/lib/python3.7/dist-packages/ipykernel_launcher.py:5: DeprecationWarning: use options instead of chrome_options\n",
            "  \"\"\"\n"
          ]
        }
      ]
    },
    {
      "cell_type": "code",
      "metadata": {
        "id": "THb4ggFU-ybY"
      },
      "source": [
        ""
      ],
      "execution_count": null,
      "outputs": []
    },
    {
      "cell_type": "code",
      "metadata": {
        "id": "n69jAbgZ1omP"
      },
      "source": [
        "driver.find_element_by_xpath(\"//div[@class='header__left']//button\").click()\n",
        "\n",
        "#Now select Billionaires from options\n",
        "\n"
      ],
      "execution_count": null,
      "outputs": []
    },
    {
      "cell_type": "code",
      "metadata": {
        "id": "Y0SUlCan7et8"
      },
      "source": [
        "blns = driver.find_elements_by_xpath(\"//a[@class='section__link']\")"
      ],
      "execution_count": null,
      "outputs": []
    },
    {
      "cell_type": "code",
      "metadata": {
        "id": "6UVOoApr7hBR"
      },
      "source": [
        "bln = []\n",
        "for i in blns[:1]:\n",
        "    bln.append(i.get_attribute(\"href\"))"
      ],
      "execution_count": null,
      "outputs": []
    },
    {
      "cell_type": "code",
      "metadata": {
        "colab": {
          "base_uri": "https://localhost:8080/"
        },
        "id": "U77Dgl7X7rfj",
        "outputId": "925c0c13-3339-427e-bcd9-5e879f88921e"
      },
      "source": [
        "bln"
      ],
      "execution_count": null,
      "outputs": [
        {
          "output_type": "execute_result",
          "data": {
            "text/plain": [
              "['https://www.forbes.com/billionaires/']"
            ]
          },
          "metadata": {},
          "execution_count": 77
        }
      ]
    },
    {
      "cell_type": "code",
      "metadata": {
        "id": "o4Fic4ED7au4"
      },
      "source": [
        "for i in bln:\n",
        "    driver.get(i)\n",
        "# driver.find_element_by_xpath(\"//div[@class='channel-special-feature__articles-wrap']//a\").click()\n",
        "# time.sleep(8)"
      ],
      "execution_count": null,
      "outputs": []
    },
    {
      "cell_type": "code",
      "metadata": {
        "id": "2efqVmA88BJy"
      },
      "source": [
        "rank = []\n",
        "try:\n",
        "    rnk = driver.find_elements_by_xpath(\"//div[@class='table-row-group']/div/div/div/div\")\n",
        "    for i in rnk:\n",
        "        rank.append(i.text)\n",
        "except NoSuchElementException:\n",
        "    pass"
      ],
      "execution_count": null,
      "outputs": []
    },
    {
      "cell_type": "code",
      "metadata": {
        "colab": {
          "base_uri": "https://localhost:8080/"
        },
        "id": "8VTM4SJa8GUh",
        "outputId": "e0007076-fd93-4939-e457-358a8714c6ec"
      },
      "source": [
        "rank"
      ],
      "execution_count": null,
      "outputs": [
        {
          "output_type": "execute_result",
          "data": {
            "text/plain": [
              "['',\n",
              " 'Amazon',\n",
              " '',\n",
              " 'Jeff Bezos founded e-commerce giant Amazon in 1994 out of his garage in Seattle. He stepped down as CEO to become executive chairman on July 5, 2021.',\n",
              " 'FULL PROFILE',\n",
              " '',\n",
              " 'Tesla, SpaceX',\n",
              " '',\n",
              " '',\n",
              " 'LVMH',\n",
              " '',\n",
              " '',\n",
              " 'Microsoft',\n",
              " '',\n",
              " '',\n",
              " 'Facebook',\n",
              " '',\n",
              " '',\n",
              " 'Berkshire Hathaway',\n",
              " '',\n",
              " '',\n",
              " 'software',\n",
              " '',\n",
              " '',\n",
              " 'Google',\n",
              " '',\n",
              " '',\n",
              " 'Google',\n",
              " '',\n",
              " '',\n",
              " 'diversified',\n",
              " '',\n",
              " '',\n",
              " 'Zara',\n",
              " '',\n",
              " '',\n",
              " \"L'Oréal\",\n",
              " '',\n",
              " '',\n",
              " 'beverages, pharmaceuticals',\n",
              " '',\n",
              " '',\n",
              " 'Microsoft',\n",
              " '',\n",
              " '',\n",
              " 'internet media',\n",
              " '',\n",
              " '',\n",
              " 'telecom',\n",
              " '',\n",
              " '',\n",
              " 'Walmart',\n",
              " '',\n",
              " '',\n",
              " 'Walmart',\n",
              " '',\n",
              " '',\n",
              " 'Walmart',\n",
              " '',\n",
              " '',\n",
              " 'Bloomberg LP',\n",
              " '',\n",
              " '',\n",
              " 'e-commerce',\n",
              " '',\n",
              " '',\n",
              " 'Amazon',\n",
              " '',\n",
              " '',\n",
              " 'Quicken Loans',\n",
              " '',\n",
              " '',\n",
              " 'infrastructure, commodities',\n",
              " '',\n",
              " '',\n",
              " 'Nike',\n",
              " '',\n",
              " '',\n",
              " 'e-commerce',\n",
              " '',\n",
              " '',\n",
              " 'Koch Industries',\n",
              " '',\n",
              " '',\n",
              " 'Koch Industries',\n",
              " '',\n",
              " '',\n",
              " 'internet, telecom',\n",
              " '',\n",
              " '',\n",
              " 'Dell computers',\n",
              " '',\n",
              " '',\n",
              " 'fashion retail',\n",
              " '',\n",
              " '',\n",
              " 'luxury goods',\n",
              " '',\n",
              " '',\n",
              " 'media',\n",
              " '',\n",
              " '',\n",
              " 'supermarkets',\n",
              " '',\n",
              " '',\n",
              " 'package delivery',\n",
              " '',\n",
              " '',\n",
              " 'casinos',\n",
              " '',\n",
              " '',\n",
              " 'home appliances',\n",
              " '',\n",
              " '',\n",
              " 'retail',\n",
              " '',\n",
              " '',\n",
              " 'TikTok',\n",
              " '',\n",
              " '',\n",
              " 'Nutella, chocolates',\n",
              " '',\n",
              " '',\n",
              " 'Chanel',\n",
              " '',\n",
              " '',\n",
              " 'Chanel',\n",
              " '',\n",
              " '',\n",
              " 'diversified',\n",
              " '',\n",
              " '',\n",
              " 'pig breeding',\n",
              " '',\n",
              " '',\n",
              " 'online games',\n",
              " '',\n",
              " '',\n",
              " 'music, chemicals',\n",
              " '',\n",
              " '',\n",
              " 'real estate',\n",
              " '',\n",
              " '',\n",
              " 'candy, pet food',\n",
              " '',\n",
              " '',\n",
              " 'candy, pet food',\n",
              " '',\n",
              " '',\n",
              " 'real estate',\n",
              " '',\n",
              " '',\n",
              " 'steel, investments',\n",
              " '',\n",
              " '',\n",
              " 'batteries',\n",
              " '',\n",
              " '',\n",
              " 'real estate',\n",
              " '',\n",
              " '',\n",
              " 'BMW, pharmaceuticals',\n",
              " '',\n",
              " '',\n",
              " 'metals',\n",
              " '',\n",
              " '',\n",
              " 'Red Bull',\n",
              " '',\n",
              " '',\n",
              " 'soy sauce',\n",
              " '',\n",
              " '',\n",
              " 'shipping',\n",
              " '',\n",
              " '',\n",
              " 'steel, transport',\n",
              " '',\n",
              " '',\n",
              " 'e-commerce',\n",
              " '',\n",
              " '',\n",
              " 'mining',\n",
              " '',\n",
              " '',\n",
              " 'eyeglasses',\n",
              " '',\n",
              " '',\n",
              " 'sensors',\n",
              " '',\n",
              " '',\n",
              " 'Estee Lauder',\n",
              " '',\n",
              " '',\n",
              " 'discount brokerage',\n",
              " '',\n",
              " '',\n",
              " 'oil',\n",
              " '',\n",
              " '',\n",
              " 'gas, chemicals',\n",
              " '',\n",
              " '',\n",
              " 'hedge funds',\n",
              " '',\n",
              " '',\n",
              " 'vaccines',\n",
              " '',\n",
              " '',\n",
              " 'mining',\n",
              " '',\n",
              " '',\n",
              " 'newspapers, TV network',\n",
              " '',\n",
              " '',\n",
              " 'software services',\n",
              " '',\n",
              " '',\n",
              " 'internet media',\n",
              " '',\n",
              " '',\n",
              " 'mining',\n",
              " '',\n",
              " '',\n",
              " 'smartphones',\n",
              " '',\n",
              " '',\n",
              " 'restaurants',\n",
              " '',\n",
              " '',\n",
              " 'e-commerce',\n",
              " '',\n",
              " '',\n",
              " 'oil, gas',\n",
              " '',\n",
              " '',\n",
              " 'investments',\n",
              " '',\n",
              " '',\n",
              " 'paints',\n",
              " '',\n",
              " '',\n",
              " 'BMW',\n",
              " '',\n",
              " '',\n",
              " 'medical devices',\n",
              " '',\n",
              " '',\n",
              " 'eBay, PayPal',\n",
              " '',\n",
              " '',\n",
              " 'H&M',\n",
              " '',\n",
              " '',\n",
              " 'money management',\n",
              " '',\n",
              " '',\n",
              " 'banking, tobacco',\n",
              " '',\n",
              " '',\n",
              " 'mining',\n",
              " '',\n",
              " '',\n",
              " 'hedge funds',\n",
              " '',\n",
              " '',\n",
              " 'banking, tobacco',\n",
              " '',\n",
              " '',\n",
              " 'automobiles',\n",
              " '',\n",
              " '',\n",
              " 'pharmaceuticals',\n",
              " '',\n",
              " '',\n",
              " 'medical devices',\n",
              " '',\n",
              " '',\n",
              " 'casinos/hotels',\n",
              " '',\n",
              " '',\n",
              " 'cheese',\n",
              " '',\n",
              " '',\n",
              " 'Apple, Disney',\n",
              " '',\n",
              " '',\n",
              " 'Google',\n",
              " '',\n",
              " '',\n",
              " 'pharmaceuticals',\n",
              " '',\n",
              " '',\n",
              " \"Aldi, Trader Joe's\",\n",
              " '',\n",
              " '',\n",
              " 'steel, telecom, investments',\n",
              " '',\n",
              " '',\n",
              " 'wireless networking gear',\n",
              " '',\n",
              " '',\n",
              " 'real estate',\n",
              " '',\n",
              " '',\n",
              " 'petrochemicals',\n",
              " '',\n",
              " '',\n",
              " 'diversified',\n",
              " '',\n",
              " '',\n",
              " 'real estate',\n",
              " '',\n",
              " '',\n",
              " 'hospitals',\n",
              " '',\n",
              " '',\n",
              " 'coal, fertilizers',\n",
              " '',\n",
              " '',\n",
              " 'Facebook',\n",
              " '',\n",
              " '',\n",
              " 'video streaming',\n",
              " '',\n",
              " '',\n",
              " 'media',\n",
              " '',\n",
              " '',\n",
              " 'finance, telecommunications',\n",
              " '',\n",
              " '',\n",
              " 'food',\n",
              " '',\n",
              " '',\n",
              " 'messaging app',\n",
              " '',\n",
              " '',\n",
              " 'chemicals',\n",
              " '',\n",
              " '',\n",
              " 'beer',\n",
              " '',\n",
              " '',\n",
              " 'fasteners',\n",
              " '',\n",
              " '',\n",
              " 'Heineken',\n",
              " '',\n",
              " '',\n",
              " 'retail, investments',\n",
              " '',\n",
              " '',\n",
              " 'batteries, automobiles',\n",
              " '',\n",
              " '',\n",
              " 'hedge funds',\n",
              " '',\n",
              " '',\n",
              " 'hedge funds',\n",
              " '',\n",
              " '',\n",
              " 'e-cigarettes',\n",
              " '',\n",
              " '',\n",
              " 'used cars',\n",
              " '',\n",
              " '',\n",
              " 'banking',\n",
              " '',\n",
              " '',\n",
              " 'investments',\n",
              " '',\n",
              " '',\n",
              " 'investments',\n",
              " '',\n",
              " '',\n",
              " 'hospitals',\n",
              " '',\n",
              " '',\n",
              " 'Walmart',\n",
              " '',\n",
              " '',\n",
              " 'oil, banking, telecom',\n",
              " '',\n",
              " '',\n",
              " 'automobiles',\n",
              " '',\n",
              " '',\n",
              " 'real estate services',\n",
              " '',\n",
              " '',\n",
              " 'smartphone screens',\n",
              " '',\n",
              " '',\n",
              " 'real estate',\n",
              " '',\n",
              " '',\n",
              " 'diversified',\n",
              " '',\n",
              " '',\n",
              " 'steel',\n",
              " '',\n",
              " '',\n",
              " 'auto parts',\n",
              " '',\n",
              " '',\n",
              " 'video conferencing',\n",
              " '',\n",
              " '',\n",
              " 'real estate',\n",
              " '',\n",
              " '',\n",
              " 'real estate',\n",
              " '',\n",
              " '',\n",
              " 'internet search',\n",
              " '',\n",
              " '',\n",
              " 'construction',\n",
              " '',\n",
              " '',\n",
              " 'Facebook',\n",
              " '',\n",
              " '',\n",
              " 'steel, investments',\n",
              " '',\n",
              " '',\n",
              " 'hedge funds',\n",
              " '',\n",
              " '',\n",
              " 'video surveillance',\n",
              " '',\n",
              " '',\n",
              " 'software',\n",
              " '',\n",
              " '',\n",
              " 'home improvement stores',\n",
              " '',\n",
              " '',\n",
              " 'biotech',\n",
              " '',\n",
              " '',\n",
              " 'video streaming app',\n",
              " '',\n",
              " '',\n",
              " 'construction equipment',\n",
              " '',\n",
              " '',\n",
              " 'software',\n",
              " '',\n",
              " '',\n",
              " 'packaging',\n",
              " '',\n",
              " '',\n",
              " 'packaging',\n",
              " '',\n",
              " '',\n",
              " 'packaging',\n",
              " '',\n",
              " '',\n",
              " 'Airbnb',\n",
              " '',\n",
              " '',\n",
              " 'real estate',\n",
              " '',\n",
              " '',\n",
              " 'business software',\n",
              " '',\n",
              " '',\n",
              " 'alcohol, real estate',\n",
              " '',\n",
              " '',\n",
              " 'online games',\n",
              " '',\n",
              " '',\n",
              " 'real estate',\n",
              " '',\n",
              " '',\n",
              " 'education',\n",
              " '',\n",
              " '',\n",
              " 'fashion retail',\n",
              " '',\n",
              " '',\n",
              " 'mining, copper products',\n",
              " '',\n",
              " '',\n",
              " 'hydraulic machinery',\n",
              " '',\n",
              " '',\n",
              " 'ecommerce',\n",
              " '',\n",
              " '',\n",
              " 'hedge funds',\n",
              " '',\n",
              " '',\n",
              " 'batteries',\n",
              " '',\n",
              " '',\n",
              " 'retail, media',\n",
              " '',\n",
              " '',\n",
              " 'commodities',\n",
              " '',\n",
              " '',\n",
              " 'coal',\n",
              " '',\n",
              " '',\n",
              " 'vaccines',\n",
              " '',\n",
              " '',\n",
              " 'palm oil, shipping, property',\n",
              " '',\n",
              " '',\n",
              " 'supermarkets',\n",
              " '',\n",
              " '',\n",
              " 'Twitter, Square',\n",
              " '',\n",
              " '',\n",
              " 'education',\n",
              " '',\n",
              " '',\n",
              " 'textiles, apparel',\n",
              " '',\n",
              " '',\n",
              " 'e-commerce',\n",
              " '',\n",
              " '',\n",
              " 'Airbnb',\n",
              " '',\n",
              " '',\n",
              " 'venture capital',\n",
              " '',\n",
              " '',\n",
              " 'Airbnb',\n",
              " '',\n",
              " '',\n",
              " 'gaming',\n",
              " '',\n",
              " '',\n",
              " 'semiconductors',\n",
              " '',\n",
              " '',\n",
              " 'agribusiness',\n",
              " '',\n",
              " '',\n",
              " 'Intel',\n",
              " '',\n",
              " '',\n",
              " 'trading, investments',\n",
              " '',\n",
              " '',\n",
              " 'Snapchat',\n",
              " '',\n",
              " '',\n",
              " 'telecom',\n",
              " '',\n",
              " '',\n",
              " 'semiconductors',\n",
              " '',\n",
              " '',\n",
              " 'real estate',\n",
              " '',\n",
              " '',\n",
              " 'pharmaceuticals',\n",
              " '',\n",
              " '',\n",
              " 'e-commerce',\n",
              " '',\n",
              " '',\n",
              " 'cement, sugar',\n",
              " '',\n",
              " '',\n",
              " 'beer',\n",
              " '',\n",
              " '',\n",
              " 'investments',\n",
              " '',\n",
              " '',\n",
              " 'hospitals',\n",
              " '',\n",
              " '',\n",
              " 'steel',\n",
              " '',\n",
              " '',\n",
              " 'real estate',\n",
              " '',\n",
              " '',\n",
              " 'oil',\n",
              " '',\n",
              " '',\n",
              " 'real estate, shipping',\n",
              " '',\n",
              " '',\n",
              " 'Snapchat',\n",
              " '',\n",
              " '',\n",
              " 'banking',\n",
              " '']"
            ]
          },
          "metadata": {},
          "execution_count": 117
        }
      ]
    },
    {
      "cell_type": "code",
      "metadata": {
        "id": "aqMkeQutVPI9"
      },
      "source": [
        "#lets get option button from the page\n",
        "driver.find_element_by_xpath(\"//div[@class='header__left']//button\").click()\n",
        "\n",
        "#Now select Billionaires from options\n",
        "blns = driver.find_elements_by_xpath(\"//a[@class='header__title']\")\n",
        "bln = []\n",
        "for i in blns[:1]:\n",
        "    bln.append(i.get_attribute(\"href\"))\n",
        "     \n",
        "\n",
        "for i in bln:\n",
        "    driver.get(i)\n",
        "#driver.find_element_by_xpath(\"//div[@class='channel-special-feature__articles-wrap']//a\").click()\n",
        "time.sleep(8)\n",
        "\n",
        "#fetch required data from table\n",
        "#fetching rank\n",
        "rank = []\n",
        "try:\n",
        "    rnk = driver.find_elements_by_xpath(\"//div[@class='rank']\")\n",
        "    for i in rnk:\n",
        "        rank.append(i.text)\n",
        "except NoSuchElementException:\n",
        "    pass\n",
        "#fetching names\n",
        "names = []\n",
        "try:\n",
        "    name = driver.find_elements_by_xpath(\"//div[@class='personName']\")\n",
        "    for i in name:\n",
        "        names.append(i.text)\n",
        "except NoSuchElementException:\n",
        "    pass\n",
        "#fetching net worth\n",
        "net_worth = []\n",
        "try:\n",
        "    worth = driver.find_elements_by_xpath(\"//div[@class='netWorth']\")\n",
        "    for i in worth:\n",
        "        net_worth.append(i.text)\n",
        "except NoSuchElementException:\n",
        "    pass\n",
        "#fetching age\n",
        "Age = []\n",
        "try:\n",
        "    age = driver.find_elements_by_xpath(\"//div[@class='age']/div\")\n",
        "    for i in age:\n",
        "        Age.append(i.text)\n",
        "except NoSuchElementException:\n",
        "    Age.append('-')\n",
        "#fetching citizenship\n",
        "citizenship = []\n",
        "try:\n",
        "    cit = driver.find_elements_by_xpath(\"//div[@class='countryOfCitizenship']\")\n",
        "    for i in cit:\n",
        "        citizenship.append(i.text)\n",
        "except NoSuchElementException:\n",
        "    citizenship.append('-')\n",
        "#fetching source\n",
        "source = []\n",
        "try:\n",
        "    src = driver.find_elements_by_xpath(\"//div[@class='source-column']\")\n",
        "    for i in src:\n",
        "        source.append(i.text)\n",
        "except NoSuchElementException:\n",
        "    source.append('-')\n",
        "#fetching Industry\n",
        "industry = []\n",
        "try:\n",
        "    ind = driver.find_elements_by_xpath(\"//div[@class='category']\")\n",
        "    for i in ind:\n",
        "        industry.append(i.text)\n",
        "except NoSuchElementException:\n",
        "    industry.append('-')\n",
        "    \n",
        "#creating dataframe\n",
        "data = list(zip(rank,names,net_worth,Age,citizenship,source,industry))\n",
        "df = pd.DataFrame(data, columns = [\"Rank\", \"Name\", \"Net worth\", \"Age\", \"Citizenship\", \"Source\",\"Industry\"])\n",
        "df"
      ],
      "execution_count": null,
      "outputs": []
    },
    {
      "cell_type": "code",
      "metadata": {
        "id": "jeEAhSzOV1xn"
      },
      "source": [
        ""
      ],
      "execution_count": null,
      "outputs": []
    }
  ]
}